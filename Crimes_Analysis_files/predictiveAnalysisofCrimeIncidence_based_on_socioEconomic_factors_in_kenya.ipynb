{
  "nbformat": 4,
  "nbformat_minor": 0,
  "metadata": {
    "colab": {
      "name": "predictiveAnalysisofCrimeIncidence_based_on_socioEconomic_factors_in_kenya.ipynb",
      "provenance": [],
      "collapsed_sections": [
        "UHDRYrIAJm2f",
        "ilD18m1eKwsW",
        "SNkre0bjonI4",
        "aO5jMmMiFGO-",
        "oXWxclQa6iGY",
        "aw2Jt2Mam6nR"
      ]
    },
    "kernelspec": {
      "name": "python3",
      "display_name": "Python 3"
    },
    "language_info": {
      "name": "python"
    }
  },
  "cells": [
    {
      "cell_type": "markdown",
      "metadata": {
        "id": "7P4O4sazAxbh"
      },
      "source": [
        "#**Predictive Analysis of Crime Incidence based on SocioEconomic factors in Kenya**"
      ]
    },
    {
      "cell_type": "markdown",
      "metadata": {
        "id": "g-54BMTc8YLD"
      },
      "source": [
        "****"
      ]
    },
    {
      "cell_type": "code",
      "metadata": {
        "id": "Pnyj0h4d8xT7"
      },
      "source": [
        "# Written by:   Odhiambo Paul Erick\n",
        "#               SCT211-0094/2016\n",
        "\n",
        "# Course:       BSc. Computer Science\n",
        "# Institution:  JKUAT -- SCIT -- Department of Computing\n",
        "# Course Unit:  ICS2406 -- Computer Systems Project"
      ],
      "execution_count": null,
      "outputs": []
    },
    {
      "cell_type": "code",
      "metadata": {
        "id": "nco9iXawuli-"
      },
      "source": [
        ""
      ],
      "execution_count": null,
      "outputs": []
    },
    {
      "cell_type": "markdown",
      "metadata": {
        "id": "9D2WrLykAbBx"
      },
      "source": [
        "*   Working environment - Google Colab\n",
        "\n",
        "\n",
        "\n",
        "\n",
        "\n",
        "\n"
      ]
    },
    {
      "cell_type": "code",
      "metadata": {
        "colab": {
          "base_uri": "https://localhost:8080/"
        },
        "id": "MA1dVsWOAjDs",
        "outputId": "7b5fc8b3-1d82-4000-e3ab-4997793e5c4c"
      },
      "source": [
        "import tensorflow as tf\n",
        "print(tf.__version__)"
      ],
      "execution_count": null,
      "outputs": [
        {
          "output_type": "stream",
          "name": "stdout",
          "text": [
            "2.7.0\n"
          ]
        }
      ]
    },
    {
      "cell_type": "code",
      "metadata": {
        "colab": {
          "base_uri": "https://localhost:8080/"
        },
        "id": "e_kJSSlmtrSY",
        "outputId": "5fe5fe28-7ae2-4b20-90c5-68789bd79738"
      },
      "source": [
        "!python -c \"import sys; print(sys.version)\""
      ],
      "execution_count": null,
      "outputs": [
        {
          "output_type": "stream",
          "name": "stdout",
          "text": [
            "3.7.12 (default, Sep 10 2021, 00:21:48) \n",
            "[GCC 7.5.0]\n"
          ]
        }
      ]
    },
    {
      "cell_type": "code",
      "metadata": {
        "id": "z2dHpe0Jxcc2"
      },
      "source": [
        ""
      ],
      "execution_count": null,
      "outputs": []
    },
    {
      "cell_type": "markdown",
      "source": [
        "This project aims to tackle crime by predicting the number of crimes that will occur in the near future. The main metric used is the measure of economic growth. Gross Domestic Product, GDP.\n",
        "\n"
      ],
      "metadata": {
        "id": "CVhd4uyRSvVO"
      }
    },
    {
      "cell_type": "markdown",
      "metadata": {
        "id": "WhglOPAZyQ6T"
      },
      "source": [
        "**Project Guide**\n",
        "\n",
        "The objective of this project is achieved by employing the Life Cycle of a Data Science Project. The cycle consists of the phases below:\n",
        "\n",
        "\n",
        "1.   Business Understanding\n",
        "2.   Data Understanding \n",
        " *   Data Collection\n",
        "    \n",
        "3.   Data preperation   \n",
        "4.   Exploratory Data Analysis\n",
        "4.   Data Modelling\n",
        "5.   Model Evaluation \n",
        "6.   Model Deployment\n"
      ]
    },
    {
      "cell_type": "code",
      "metadata": {
        "id": "0wyvKmdGIZzX"
      },
      "source": [
        ""
      ],
      "execution_count": null,
      "outputs": []
    },
    {
      "cell_type": "markdown",
      "metadata": {
        "id": "hs6PWpfYg3Vo"
      },
      "source": [
        "# **1. Phase 1: Business Understanding**\n",
        "\n",
        "**Introduction to concepts of Economic Growth** \n",
        "\n",
        "There are many theories that surround crime. For example when there is increase in economic growth, more money is believed to be generated so crime cases are likely to go high like theft, corruption e.t.c.\n",
        "\n",
        "Likewise, when there is a drop in economic growth, less amount of money is believed to be generated cases of crime are likely to increase.\n",
        "\n",
        "So idealy, when the economic growth is stable or increasing, less number of crime should be recorded and when economic growth is dropping, more number of crimes are expected."
      ]
    },
    {
      "cell_type": "markdown",
      "metadata": {
        "id": "UHDRYrIAJm2f"
      },
      "source": [
        "# **2. Phase 2: Data Collection**"
      ]
    },
    {
      "cell_type": "markdown",
      "metadata": {
        "id": "gHU5nJyGJ0tB"
      },
      "source": [
        "\n",
        "\n",
        "> **Data Collection**\n",
        "\n",
        "Sources of data  >>  Statistical Abstracts  >>  Kenya National Bureau of Statistics, KNBS\n",
        "\n",
        "\n",
        "*   STATISTICAL ABSTRACT 2013.pdf\n",
        "*   STATISTICAL ABSTRACT 2020.pdf\n",
        "\n",
        "\n"
      ]
    },
    {
      "cell_type": "markdown",
      "metadata": {
        "id": "9KxXSH37bTgk"
      },
      "source": [
        "I mined the yearly datasets using Jupyter Notebook's local runtime. The sample code is illustrated in the cells below."
      ]
    },
    {
      "cell_type": "code",
      "metadata": {
        "id": "QpbTlc39J8Wp"
      },
      "source": [
        "# camelot module - mining data from pdf docs\n",
        "import camelot"
      ],
      "execution_count": null,
      "outputs": []
    },
    {
      "cell_type": "code",
      "metadata": {
        "id": "kqFRrwtmRWoK"
      },
      "source": [
        "# Extracting data from STATISTICAL ABSTRACT 2013.pdf \n",
        "\n",
        "pathPdf = 'F:\\SCHOOL\\PROJECT\\Statistical Abstract 2013.pdf'\n",
        "pathDataset = 'F:\\SCHOOL\\PROJECT/'\n",
        "tables = camelot.read_pdf(pathPdf, pages='307', flavor='stream', strip_text='*+\\n')\n",
        "num=tables.n\n",
        "num"
      ],
      "execution_count": null,
      "outputs": []
    },
    {
      "cell_type": "code",
      "metadata": {
        "id": "DCvBBlC5UGDV"
      },
      "source": [
        "print(tables[0].parsing_report)\n",
        "\n",
        "# Naming the dataset and saving it as csv file\n",
        "tables[0].to_csv(pathDataset + '/Crimes_Recorded_from_2005_to_2012.csv')"
      ],
      "execution_count": null,
      "outputs": []
    },
    {
      "cell_type": "code",
      "metadata": {
        "id": "1jL2Yuy0d13p"
      },
      "source": [
        ""
      ],
      "execution_count": null,
      "outputs": []
    },
    {
      "cell_type": "code",
      "metadata": {
        "id": "6RJ7oDx0d4qi"
      },
      "source": [
        "# Extracting data from STATISTICAL ABSTRACT 2020.pdf\n",
        "\n",
        "pathPdf = 'F:\\SCHOOL\\PROJECT\\Statistical Abstract 2020.pdf'\n",
        "pathDataset = 'F:\\SCHOOL\\PROJECT/'\n",
        "tables = camelot.read_pdf(pathPdf, pages='290', flavor='stream', strip_text='*+\\n')\n",
        "num=tables.n\n",
        "num"
      ],
      "execution_count": null,
      "outputs": []
    },
    {
      "cell_type": "code",
      "metadata": {
        "id": "j8w1ITCHepUd"
      },
      "source": [
        "print(tables[0].parsing_report)\n",
        "\n",
        "# Naming the dataset and saving it as csv file\n",
        "tables[0].to_csv(pathDataset + '/Crimes_Recorded_from_2010_to_2019.csv')"
      ],
      "execution_count": null,
      "outputs": []
    },
    {
      "cell_type": "code",
      "metadata": {
        "id": "YMVPDVelgQAg"
      },
      "source": [
        ""
      ],
      "execution_count": null,
      "outputs": []
    },
    {
      "cell_type": "markdown",
      "source": [
        "---"
      ],
      "metadata": {
        "id": "8LRqUH6DsIvK"
      }
    },
    {
      "cell_type": "markdown",
      "metadata": {
        "id": "ilD18m1eKwsW"
      },
      "source": [
        "# **3.  Phase 3:Data Preparation**"
      ]
    },
    {
      "cell_type": "markdown",
      "metadata": {
        "id": "uSnoluAgkqH9"
      },
      "source": [
        "This section is guided by the following steps \n",
        "1.   Data cleaning\n",
        " *   Dropping rows and columns\n",
        " *   Renaming fields \n",
        " \n",
        "2.   Merging the prepared data sets to one \n",
        "   *   Splitting the merged dataset yearly \n",
        "   *   Adding new column with GDP values in each yearly dataset.\n",
        "   *   Merging the yearly datasets with GDP rowise into one dataset forming a new dataset  \n",
        " \n"
      ]
    },
    {
      "cell_type": "markdown",
      "source": [
        "**Import all necessary libraries and packages**"
      ],
      "metadata": {
        "id": "k-GeOjNRuMpu"
      }
    },
    {
      "cell_type": "code",
      "metadata": {
        "id": "v5bYX7xjUEI_"
      },
      "source": [
        "import sys # give access to variables and functions that interact strongly with interpreter\n",
        "import matplotlib.pyplot as plt #to plot graphs\n",
        "import numpy as np #for linear algebra\n",
        "from scipy.stats import randint\n",
        "import pandas as pd #processing the datasets, CSV file I/O\n",
        "import seaborn as sns #to plot interactive graphs"
      ],
      "execution_count": null,
      "outputs": []
    },
    {
      "cell_type": "markdown",
      "source": [
        "**1.  Preparing dataset 2005 to 2012**"
      ],
      "metadata": {
        "id": "hYFgNsCM_b8u"
      }
    },
    {
      "cell_type": "code",
      "metadata": {
        "id": "yxpSKz8SY22y"
      },
      "source": [
        "#loading the dataset\n",
        "pathDataset = '/content/drive/MyDrive/Colab Notebooks/School Project docs and files/Crimes_Recorded_from_2005_to_2012.csv'"
      ],
      "execution_count": null,
      "outputs": []
    },
    {
      "cell_type": "code",
      "source": [
        "#Reading the dataset\n",
        "df = pd.read_csv(pathDataset)\n",
        "df.head()"
      ],
      "metadata": {
        "id": "f5SFUu_OpCSG",
        "colab": {
          "base_uri": "https://localhost:8080/",
          "height": 354
        },
        "outputId": "3ece2e01-9953-4b46-9684-0f76f38b1c17"
      },
      "execution_count": null,
      "outputs": [
        {
          "output_type": "execute_result",
          "data": {
            "text/html": [
              "\n",
              "  <div id=\"df-d4c24b00-7547-4c32-b6e0-e9b79fc482e7\">\n",
              "    <div class=\"colab-df-container\">\n",
              "      <div>\n",
              "<style scoped>\n",
              "    .dataframe tbody tr th:only-of-type {\n",
              "        vertical-align: middle;\n",
              "    }\n",
              "\n",
              "    .dataframe tbody tr th {\n",
              "        vertical-align: top;\n",
              "    }\n",
              "\n",
              "    .dataframe thead th {\n",
              "        text-align: right;\n",
              "    }\n",
              "</style>\n",
              "<table border=\"1\" class=\"dataframe\">\n",
              "  <thead>\n",
              "    <tr style=\"text-align: right;\">\n",
              "      <th></th>\n",
              "      <th>Deaths (excluding executions)</th>\n",
              "      <th>651</th>\n",
              "      <th>Unnamed: 2</th>\n",
              "      <th>Unnamed: 3</th>\n",
              "      <th>Unnamed: 4</th>\n",
              "      <th>Unnamed: 5</th>\n",
              "      <th>Unnamed: 6</th>\n",
              "      <th>Unnamed: 7</th>\n",
              "      <th>Unnamed: 8</th>\n",
              "    </tr>\n",
              "  </thead>\n",
              "  <tbody>\n",
              "    <tr>\n",
              "      <th>0</th>\n",
              "      <td>Source: Kenya Prisons Department</td>\n",
              "      <td>NaN</td>\n",
              "      <td>NaN</td>\n",
              "      <td>NaN</td>\n",
              "      <td>NaN</td>\n",
              "      <td>NaN</td>\n",
              "      <td>NaN</td>\n",
              "      <td>NaN</td>\n",
              "      <td>NaN</td>\n",
              "    </tr>\n",
              "    <tr>\n",
              "      <th>1</th>\n",
              "      <td>NaN</td>\n",
              "      <td>NaN</td>\n",
              "      <td>NaN</td>\n",
              "      <td>PENAL CODE CASES, 2005 - 2012</td>\n",
              "      <td>NaN</td>\n",
              "      <td>NaN</td>\n",
              "      <td>NaN</td>\n",
              "      <td>NaN</td>\n",
              "      <td>NaN</td>\n",
              "    </tr>\n",
              "    <tr>\n",
              "      <th>2</th>\n",
              "      <td>Table:209</td>\n",
              "      <td>NaN</td>\n",
              "      <td>NaN</td>\n",
              "      <td>NaN</td>\n",
              "      <td>NaN</td>\n",
              "      <td>NaN</td>\n",
              "      <td>Number</td>\n",
              "      <td>NaN</td>\n",
              "      <td>NaN</td>\n",
              "    </tr>\n",
              "    <tr>\n",
              "      <th>3</th>\n",
              "      <td>Category of offences</td>\n",
              "      <td>2005</td>\n",
              "      <td>2006</td>\n",
              "      <td>2007</td>\n",
              "      <td>2008</td>\n",
              "      <td>2009</td>\n",
              "      <td>2010</td>\n",
              "      <td>2011</td>\n",
              "      <td>2012</td>\n",
              "    </tr>\n",
              "    <tr>\n",
              "      <th>4</th>\n",
              "      <td>Homicide</td>\n",
              "      <td>2,313</td>\n",
              "      <td>2,090</td>\n",
              "      <td>1,912</td>\n",
              "      <td>2,037</td>\n",
              "      <td>2,214</td>\n",
              "      <td>2,239</td>\n",
              "      <td>2,641</td>\n",
              "      <td>2761</td>\n",
              "    </tr>\n",
              "  </tbody>\n",
              "</table>\n",
              "</div>\n",
              "      <button class=\"colab-df-convert\" onclick=\"convertToInteractive('df-d4c24b00-7547-4c32-b6e0-e9b79fc482e7')\"\n",
              "              title=\"Convert this dataframe to an interactive table.\"\n",
              "              style=\"display:none;\">\n",
              "        \n",
              "  <svg xmlns=\"http://www.w3.org/2000/svg\" height=\"24px\"viewBox=\"0 0 24 24\"\n",
              "       width=\"24px\">\n",
              "    <path d=\"M0 0h24v24H0V0z\" fill=\"none\"/>\n",
              "    <path d=\"M18.56 5.44l.94 2.06.94-2.06 2.06-.94-2.06-.94-.94-2.06-.94 2.06-2.06.94zm-11 1L8.5 8.5l.94-2.06 2.06-.94-2.06-.94L8.5 2.5l-.94 2.06-2.06.94zm10 10l.94 2.06.94-2.06 2.06-.94-2.06-.94-.94-2.06-.94 2.06-2.06.94z\"/><path d=\"M17.41 7.96l-1.37-1.37c-.4-.4-.92-.59-1.43-.59-.52 0-1.04.2-1.43.59L10.3 9.45l-7.72 7.72c-.78.78-.78 2.05 0 2.83L4 21.41c.39.39.9.59 1.41.59.51 0 1.02-.2 1.41-.59l7.78-7.78 2.81-2.81c.8-.78.8-2.07 0-2.86zM5.41 20L4 18.59l7.72-7.72 1.47 1.35L5.41 20z\"/>\n",
              "  </svg>\n",
              "      </button>\n",
              "      \n",
              "  <style>\n",
              "    .colab-df-container {\n",
              "      display:flex;\n",
              "      flex-wrap:wrap;\n",
              "      gap: 12px;\n",
              "    }\n",
              "\n",
              "    .colab-df-convert {\n",
              "      background-color: #E8F0FE;\n",
              "      border: none;\n",
              "      border-radius: 50%;\n",
              "      cursor: pointer;\n",
              "      display: none;\n",
              "      fill: #1967D2;\n",
              "      height: 32px;\n",
              "      padding: 0 0 0 0;\n",
              "      width: 32px;\n",
              "    }\n",
              "\n",
              "    .colab-df-convert:hover {\n",
              "      background-color: #E2EBFA;\n",
              "      box-shadow: 0px 1px 2px rgba(60, 64, 67, 0.3), 0px 1px 3px 1px rgba(60, 64, 67, 0.15);\n",
              "      fill: #174EA6;\n",
              "    }\n",
              "\n",
              "    [theme=dark] .colab-df-convert {\n",
              "      background-color: #3B4455;\n",
              "      fill: #D2E3FC;\n",
              "    }\n",
              "\n",
              "    [theme=dark] .colab-df-convert:hover {\n",
              "      background-color: #434B5C;\n",
              "      box-shadow: 0px 1px 3px 1px rgba(0, 0, 0, 0.15);\n",
              "      filter: drop-shadow(0px 1px 2px rgba(0, 0, 0, 0.3));\n",
              "      fill: #FFFFFF;\n",
              "    }\n",
              "  </style>\n",
              "\n",
              "      <script>\n",
              "        const buttonEl =\n",
              "          document.querySelector('#df-d4c24b00-7547-4c32-b6e0-e9b79fc482e7 button.colab-df-convert');\n",
              "        buttonEl.style.display =\n",
              "          google.colab.kernel.accessAllowed ? 'block' : 'none';\n",
              "\n",
              "        async function convertToInteractive(key) {\n",
              "          const element = document.querySelector('#df-d4c24b00-7547-4c32-b6e0-e9b79fc482e7');\n",
              "          const dataTable =\n",
              "            await google.colab.kernel.invokeFunction('convertToInteractive',\n",
              "                                                     [key], {});\n",
              "          if (!dataTable) return;\n",
              "\n",
              "          const docLinkHtml = 'Like what you see? Visit the ' +\n",
              "            '<a target=\"_blank\" href=https://colab.research.google.com/notebooks/data_table.ipynb>data table notebook</a>'\n",
              "            + ' to learn more about interactive tables.';\n",
              "          element.innerHTML = '';\n",
              "          dataTable['output_type'] = 'display_data';\n",
              "          await google.colab.output.renderOutput(dataTable, element);\n",
              "          const docLink = document.createElement('div');\n",
              "          docLink.innerHTML = docLinkHtml;\n",
              "          element.appendChild(docLink);\n",
              "        }\n",
              "      </script>\n",
              "    </div>\n",
              "  </div>\n",
              "  "
            ],
            "text/plain": [
              "      Deaths (excluding executions)    651  ... Unnamed: 7 Unnamed: 8\n",
              "0  Source: Kenya Prisons Department    NaN  ...        NaN        NaN\n",
              "1                               NaN    NaN  ...        NaN        NaN\n",
              "2                         Table:209    NaN  ...        NaN        NaN\n",
              "3              Category of offences   2005  ...       2011       2012\n",
              "4                          Homicide  2,313  ...      2,641       2761\n",
              "\n",
              "[5 rows x 9 columns]"
            ]
          },
          "metadata": {},
          "execution_count": 108
        }
      ]
    },
    {
      "cell_type": "code",
      "source": [
        "df.columns"
      ],
      "metadata": {
        "id": "wjcnvCzMXSRx",
        "colab": {
          "base_uri": "https://localhost:8080/"
        },
        "outputId": "0ce90270-5fce-4aff-b1d7-3147897f0ecb"
      },
      "execution_count": null,
      "outputs": [
        {
          "output_type": "execute_result",
          "data": {
            "text/plain": [
              "Index(['Deaths (excluding executions)', '651', 'Unnamed: 2', 'Unnamed: 3',\n",
              "       'Unnamed: 4', 'Unnamed: 5', 'Unnamed: 6', 'Unnamed: 7', 'Unnamed: 8'],\n",
              "      dtype='object')"
            ]
          },
          "metadata": {},
          "execution_count": 109
        }
      ]
    },
    {
      "cell_type": "code",
      "source": [
        "len(df)"
      ],
      "metadata": {
        "id": "NvmP0BXQcjvb",
        "colab": {
          "base_uri": "https://localhost:8080/"
        },
        "outputId": "c81d9efd-e693-44c1-af1e-d9542aa014e8"
      },
      "execution_count": null,
      "outputs": [
        {
          "output_type": "execute_result",
          "data": {
            "text/plain": [
              "23"
            ]
          },
          "metadata": {},
          "execution_count": 110
        }
      ]
    },
    {
      "cell_type": "code",
      "source": [
        "#Dropping the fields with null(NaN) values\n",
        "df = df.dropna()"
      ],
      "metadata": {
        "id": "9sl9Ce4gdnG-"
      },
      "execution_count": null,
      "outputs": []
    },
    {
      "cell_type": "code",
      "source": [
        "print(df)"
      ],
      "metadata": {
        "id": "fgaz0S4rkJm6",
        "colab": {
          "base_uri": "https://localhost:8080/"
        },
        "outputId": "71037c89-a8ab-4f98-9695-8ff7b416b32f"
      },
      "execution_count": null,
      "outputs": [
        {
          "output_type": "stream",
          "name": "stdout",
          "text": [
            "         Deaths (excluding executions)     651  ... Unnamed: 7 Unnamed: 8\n",
            "3                 Category of offences    2005  ...       2011       2012\n",
            "4                             Homicide   2,313  ...      2,641       2761\n",
            "5            Offences against morality   3,153  ...      4,703       4806\n",
            "6       Other offences against persons  17,304  ...     20,144      20698\n",
            "7                              Robbery   6,936  ...      3,262      3,262\n",
            "8                            Breakings   8,454  ...      7,325      7,578\n",
            "9                       Theft of stock   2,219  ...      2,269      2,377\n",
            "10                            Stealing  12,589  ...     13,797     14,111\n",
            "11                    Theft by servant   2,874  ...      2,889      2,984\n",
            "12           Vehicles and other thefts   1,718  ...      1,768      1,663\n",
            "13                     Dangerous drugs   6,356  ...      4,649       4181\n",
            "14                    Traffic offences      38  ...        100         66\n",
            "15                     Criminal damage   3,236  ...      3,345       3769\n",
            "16                     Economic crimes   1,390  ...      3,036       3369\n",
            "17                          Corruption     107  ...         52         49\n",
            "18  Offences involving police officers      29  ...         27         69\n",
            "19         Offences involving tourists      32  ...          0          0\n",
            "20           Other penal code offences   6,652  ...      5,726       6109\n",
            "21                           Sub-Total  75,400  ...     75,733     77,852\n",
            "\n",
            "[19 rows x 9 columns]\n"
          ]
        }
      ]
    },
    {
      "cell_type": "code",
      "source": [
        "#Drop the dataframe's header; make the dataframe's first row new header\n",
        "\n",
        "df.columns = df.iloc[0]"
      ],
      "metadata": {
        "id": "ne77JLFfAar1"
      },
      "execution_count": null,
      "outputs": []
    },
    {
      "cell_type": "code",
      "source": [
        "print(df)"
      ],
      "metadata": {
        "id": "gB2eFLOfDgFo",
        "colab": {
          "base_uri": "https://localhost:8080/"
        },
        "outputId": "a59c0c92-6f5e-44e5-b4f5-29a06b55a352"
      },
      "execution_count": null,
      "outputs": [
        {
          "output_type": "stream",
          "name": "stdout",
          "text": [
            "3                 Category of offences    2005    2006  ...    2010    2011    2012\n",
            "3                 Category of offences    2005    2006  ...    2010    2011    2012\n",
            "4                             Homicide   2,313   2,090  ...   2,239   2,641    2761\n",
            "5            Offences against morality   3,153   3,525  ...   4,817   4,703    4806\n",
            "6       Other offences against persons  17,304  18,723  ...  20,012  20,144   20698\n",
            "7                              Robbery   6,936   5,234  ...   2,843   3,262   3,262\n",
            "8                            Breakings   8,454   7,420  ...   6,453   7,325   7,578\n",
            "9                       Theft of stock   2,219   2,209  ...   2,244   2,269   2,377\n",
            "10                            Stealing  12,589  10,874  ...  11,986  13,797  14,111\n",
            "11                    Theft by servant   2,874   2,700  ...   2,591   2,889   2,984\n",
            "12           Vehicles and other thefts   1,718   1,660  ...   1,365   1,768   1,663\n",
            "13                     Dangerous drugs   6,356   5,821  ...   5,081   4,649    4181\n",
            "14                    Traffic offences      38      62  ...     103     100      66\n",
            "15                     Criminal damage   3,236   3,518  ...   3,327   3,345    3769\n",
            "16                     Economic crimes   1,390   1,873  ...   2,662   3,036    3369\n",
            "17                          Corruption     107     252  ...      62      52      49\n",
            "18  Offences involving police officers      29      76  ...      37      27      69\n",
            "19         Offences involving tourists      32      84  ...       1       0       0\n",
            "20           Other penal code offences   6,652   6,104  ...   4,956   5,726    6109\n",
            "21                           Sub-Total  75,400  72,225  ...  70,779  75,733  77,852\n",
            "\n",
            "[19 rows x 9 columns]\n"
          ]
        }
      ]
    },
    {
      "cell_type": "code",
      "source": [
        "# drop first row of dataframe\n",
        "\n",
        "df = df.iloc[1: , :]"
      ],
      "metadata": {
        "id": "QON1BRRcDiwD"
      },
      "execution_count": null,
      "outputs": []
    },
    {
      "cell_type": "code",
      "source": [
        "print(df)"
      ],
      "metadata": {
        "id": "V2pBrVGKD7Qx",
        "colab": {
          "base_uri": "https://localhost:8080/"
        },
        "outputId": "4880c97b-af16-4789-89ef-0d6d47643452"
      },
      "execution_count": null,
      "outputs": [
        {
          "output_type": "stream",
          "name": "stdout",
          "text": [
            "3                 Category of offences    2005    2006  ...    2010    2011    2012\n",
            "4                             Homicide   2,313   2,090  ...   2,239   2,641    2761\n",
            "5            Offences against morality   3,153   3,525  ...   4,817   4,703    4806\n",
            "6       Other offences against persons  17,304  18,723  ...  20,012  20,144   20698\n",
            "7                              Robbery   6,936   5,234  ...   2,843   3,262   3,262\n",
            "8                            Breakings   8,454   7,420  ...   6,453   7,325   7,578\n",
            "9                       Theft of stock   2,219   2,209  ...   2,244   2,269   2,377\n",
            "10                            Stealing  12,589  10,874  ...  11,986  13,797  14,111\n",
            "11                    Theft by servant   2,874   2,700  ...   2,591   2,889   2,984\n",
            "12           Vehicles and other thefts   1,718   1,660  ...   1,365   1,768   1,663\n",
            "13                     Dangerous drugs   6,356   5,821  ...   5,081   4,649    4181\n",
            "14                    Traffic offences      38      62  ...     103     100      66\n",
            "15                     Criminal damage   3,236   3,518  ...   3,327   3,345    3769\n",
            "16                     Economic crimes   1,390   1,873  ...   2,662   3,036    3369\n",
            "17                          Corruption     107     252  ...      62      52      49\n",
            "18  Offences involving police officers      29      76  ...      37      27      69\n",
            "19         Offences involving tourists      32      84  ...       1       0       0\n",
            "20           Other penal code offences   6,652   6,104  ...   4,956   5,726    6109\n",
            "21                           Sub-Total  75,400  72,225  ...  70,779  75,733  77,852\n",
            "\n",
            "[18 rows x 9 columns]\n"
          ]
        }
      ]
    },
    {
      "cell_type": "code",
      "source": [
        "#checking the dataframe columns\n",
        "df.columns"
      ],
      "metadata": {
        "id": "oZoqzUqSD9mO",
        "colab": {
          "base_uri": "https://localhost:8080/"
        },
        "outputId": "473fbe87-3086-4390-b5fe-ccb0fb37e21c"
      },
      "execution_count": null,
      "outputs": [
        {
          "output_type": "execute_result",
          "data": {
            "text/plain": [
              "Index(['Category of offences', '2005', '2006', '2007', '2008', '2009', '2010',\n",
              "       '2011', '2012'],\n",
              "      dtype='object', name=3)"
            ]
          },
          "metadata": {},
          "execution_count": 117
        }
      ]
    },
    {
      "cell_type": "code",
      "source": [
        "#renaming the first column\n",
        "\n",
        "df.rename(columns={'Category of offences': 'Type of Crime'}, inplace=True)"
      ],
      "metadata": {
        "id": "R6crkKeAEHLr"
      },
      "execution_count": null,
      "outputs": []
    },
    {
      "cell_type": "code",
      "source": [
        "df.columns"
      ],
      "metadata": {
        "id": "2LJOKmIfLlAO",
        "colab": {
          "base_uri": "https://localhost:8080/"
        },
        "outputId": "98e31892-d482-49d5-b6b4-90dc828b0cfd"
      },
      "execution_count": null,
      "outputs": [
        {
          "output_type": "execute_result",
          "data": {
            "text/plain": [
              "Index(['Type of Crime', '2005', '2006', '2007', '2008', '2009', '2010', '2011',\n",
              "       '2012'],\n",
              "      dtype='object', name=3)"
            ]
          },
          "metadata": {},
          "execution_count": 119
        }
      ]
    },
    {
      "cell_type": "code",
      "source": [
        "print(df)"
      ],
      "metadata": {
        "id": "SV79P6zDLrmc",
        "colab": {
          "base_uri": "https://localhost:8080/"
        },
        "outputId": "2a2231c5-bbb1-484f-f3b4-cbb08370ebc4"
      },
      "execution_count": null,
      "outputs": [
        {
          "output_type": "stream",
          "name": "stdout",
          "text": [
            "3                        Type of Crime    2005    2006  ...    2010    2011    2012\n",
            "4                             Homicide   2,313   2,090  ...   2,239   2,641    2761\n",
            "5            Offences against morality   3,153   3,525  ...   4,817   4,703    4806\n",
            "6       Other offences against persons  17,304  18,723  ...  20,012  20,144   20698\n",
            "7                              Robbery   6,936   5,234  ...   2,843   3,262   3,262\n",
            "8                            Breakings   8,454   7,420  ...   6,453   7,325   7,578\n",
            "9                       Theft of stock   2,219   2,209  ...   2,244   2,269   2,377\n",
            "10                            Stealing  12,589  10,874  ...  11,986  13,797  14,111\n",
            "11                    Theft by servant   2,874   2,700  ...   2,591   2,889   2,984\n",
            "12           Vehicles and other thefts   1,718   1,660  ...   1,365   1,768   1,663\n",
            "13                     Dangerous drugs   6,356   5,821  ...   5,081   4,649    4181\n",
            "14                    Traffic offences      38      62  ...     103     100      66\n",
            "15                     Criminal damage   3,236   3,518  ...   3,327   3,345    3769\n",
            "16                     Economic crimes   1,390   1,873  ...   2,662   3,036    3369\n",
            "17                          Corruption     107     252  ...      62      52      49\n",
            "18  Offences involving police officers      29      76  ...      37      27      69\n",
            "19         Offences involving tourists      32      84  ...       1       0       0\n",
            "20           Other penal code offences   6,652   6,104  ...   4,956   5,726    6109\n",
            "21                           Sub-Total  75,400  72,225  ...  70,779  75,733  77,852\n",
            "\n",
            "[18 rows x 9 columns]\n"
          ]
        }
      ]
    },
    {
      "cell_type": "code",
      "source": [
        "#drop last row\n",
        "df = df.iloc[:-1,:]"
      ],
      "metadata": {
        "id": "5EfnARzKLuIK"
      },
      "execution_count": null,
      "outputs": []
    },
    {
      "cell_type": "code",
      "source": [
        "print(df)"
      ],
      "metadata": {
        "id": "9_AQbtABP8g-",
        "colab": {
          "base_uri": "https://localhost:8080/"
        },
        "outputId": "891844b5-37b5-4ced-f4ed-682aa11f5302"
      },
      "execution_count": null,
      "outputs": [
        {
          "output_type": "stream",
          "name": "stdout",
          "text": [
            "3                        Type of Crime    2005    2006  ...    2010    2011    2012\n",
            "4                             Homicide   2,313   2,090  ...   2,239   2,641    2761\n",
            "5            Offences against morality   3,153   3,525  ...   4,817   4,703    4806\n",
            "6       Other offences against persons  17,304  18,723  ...  20,012  20,144   20698\n",
            "7                              Robbery   6,936   5,234  ...   2,843   3,262   3,262\n",
            "8                            Breakings   8,454   7,420  ...   6,453   7,325   7,578\n",
            "9                       Theft of stock   2,219   2,209  ...   2,244   2,269   2,377\n",
            "10                            Stealing  12,589  10,874  ...  11,986  13,797  14,111\n",
            "11                    Theft by servant   2,874   2,700  ...   2,591   2,889   2,984\n",
            "12           Vehicles and other thefts   1,718   1,660  ...   1,365   1,768   1,663\n",
            "13                     Dangerous drugs   6,356   5,821  ...   5,081   4,649    4181\n",
            "14                    Traffic offences      38      62  ...     103     100      66\n",
            "15                     Criminal damage   3,236   3,518  ...   3,327   3,345    3769\n",
            "16                     Economic crimes   1,390   1,873  ...   2,662   3,036    3369\n",
            "17                          Corruption     107     252  ...      62      52      49\n",
            "18  Offences involving police officers      29      76  ...      37      27      69\n",
            "19         Offences involving tourists      32      84  ...       1       0       0\n",
            "20           Other penal code offences   6,652   6,104  ...   4,956   5,726    6109\n",
            "\n",
            "[17 rows x 9 columns]\n"
          ]
        }
      ]
    },
    {
      "cell_type": "code",
      "source": [
        "#renaming and saving the updated file of Crimes_Recorded_from_2005_to_2012.csv\n",
        "\n",
        "df.to_csv('/content/drive/MyDrive/Colab Notebooks/School Project docs and files/Updated_Crimes_Recorded_from_2005_to_2012.csv')"
      ],
      "metadata": {
        "id": "_Yy01z9iP_o0"
      },
      "execution_count": null,
      "outputs": []
    },
    {
      "cell_type": "code",
      "source": [
        ""
      ],
      "metadata": {
        "id": "Pe_IwhFU7zRU"
      },
      "execution_count": null,
      "outputs": []
    },
    {
      "cell_type": "markdown",
      "source": [
        "**2. Preparing dataset 2010 to 2019**"
      ],
      "metadata": {
        "id": "fibc85hH-40g"
      }
    },
    {
      "cell_type": "code",
      "source": [
        "pathDataset = '/content/drive/MyDrive/Colab Notebooks/School Project docs and files/Crimes_Recorded_from_2010_to_2019.csv'"
      ],
      "metadata": {
        "id": "Zqi4s1g5_S8-"
      },
      "execution_count": null,
      "outputs": []
    },
    {
      "cell_type": "code",
      "source": [
        "#Reading the dataset\n",
        "df = pd.read_csv(pathDataset)\n",
        "df.head()"
      ],
      "metadata": {
        "id": "2K-YY3AeA27O",
        "colab": {
          "base_uri": "https://localhost:8080/",
          "height": 409
        },
        "outputId": "0fa070e0-a741-4d0d-bc0c-ab3a16101dd8"
      },
      "execution_count": null,
      "outputs": [
        {
          "output_type": "execute_result",
          "data": {
            "text/html": [
              "\n",
              "  <div id=\"df-70ecdd85-eb43-4fb2-958e-70fb51830300\">\n",
              "    <div class=\"colab-df-container\">\n",
              "      <div>\n",
              "<style scoped>\n",
              "    .dataframe tbody tr th:only-of-type {\n",
              "        vertical-align: middle;\n",
              "    }\n",
              "\n",
              "    .dataframe tbody tr th {\n",
              "        vertical-align: top;\n",
              "    }\n",
              "\n",
              "    .dataframe thead th {\n",
              "        text-align: right;\n",
              "    }\n",
              "</style>\n",
              "<table border=\"1\" class=\"dataframe\">\n",
              "  <thead>\n",
              "    <tr style=\"text-align: right;\">\n",
              "      <th></th>\n",
              "      <th>Governance, Peace and Security</th>\n",
              "      <th>Unnamed: 1</th>\n",
              "      <th>Unnamed: 2</th>\n",
              "      <th>Unnamed: 3</th>\n",
              "      <th>Unnamed: 4</th>\n",
              "      <th>Unnamed: 5</th>\n",
              "      <th>Unnamed: 6</th>\n",
              "      <th>Unnamed: 7</th>\n",
              "      <th>Unnamed: 8</th>\n",
              "      <th>Unnamed: 9</th>\n",
              "      <th>Unnamed: 10</th>\n",
              "    </tr>\n",
              "  </thead>\n",
              "  <tbody>\n",
              "    <tr>\n",
              "      <th>0</th>\n",
              "      <td>Table 17.2: Crimes Reported to the Police, 201...</td>\n",
              "      <td>NaN</td>\n",
              "      <td>NaN</td>\n",
              "      <td>NaN</td>\n",
              "      <td>NaN</td>\n",
              "      <td>NaN</td>\n",
              "      <td>NaN</td>\n",
              "      <td>NaN</td>\n",
              "      <td>NaN</td>\n",
              "      <td>NaN</td>\n",
              "      <td>NaN</td>\n",
              "    </tr>\n",
              "    <tr>\n",
              "      <th>1</th>\n",
              "      <td>NaN</td>\n",
              "      <td>NaN</td>\n",
              "      <td>NaN</td>\n",
              "      <td>NaN</td>\n",
              "      <td>NaN</td>\n",
              "      <td>NaN</td>\n",
              "      <td>NaN</td>\n",
              "      <td>NaN</td>\n",
              "      <td>NaN</td>\n",
              "      <td>NaN</td>\n",
              "      <td>Number</td>\n",
              "    </tr>\n",
              "    <tr>\n",
              "      <th>2</th>\n",
              "      <td>Crimes1</td>\n",
              "      <td>2010</td>\n",
              "      <td>2011</td>\n",
              "      <td>2012</td>\n",
              "      <td>2013</td>\n",
              "      <td>2014</td>\n",
              "      <td>2015</td>\n",
              "      <td>2016</td>\n",
              "      <td>2017</td>\n",
              "      <td>2018</td>\n",
              "      <td>2019</td>\n",
              "    </tr>\n",
              "    <tr>\n",
              "      <th>3</th>\n",
              "      <td>Homicide</td>\n",
              "      <td>2,239</td>\n",
              "      <td>2,641</td>\n",
              "      <td>2,761</td>\n",
              "      <td>2,878</td>\n",
              "      <td>2,649</td>\n",
              "      <td>2,648</td>\n",
              "      <td>2,751</td>\n",
              "      <td>2,774</td>\n",
              "      <td>2,856</td>\n",
              "      <td>2,971</td>\n",
              "    </tr>\n",
              "    <tr>\n",
              "      <th>4</th>\n",
              "      <td>Offences against morality</td>\n",
              "      <td>4,817</td>\n",
              "      <td>4,703</td>\n",
              "      <td>4,806</td>\n",
              "      <td>4,779</td>\n",
              "      <td>5,184</td>\n",
              "      <td>6,164</td>\n",
              "      <td>6,228</td>\n",
              "      <td>5,492</td>\n",
              "      <td>7,233</td>\n",
              "      <td>8,051</td>\n",
              "    </tr>\n",
              "  </tbody>\n",
              "</table>\n",
              "</div>\n",
              "      <button class=\"colab-df-convert\" onclick=\"convertToInteractive('df-70ecdd85-eb43-4fb2-958e-70fb51830300')\"\n",
              "              title=\"Convert this dataframe to an interactive table.\"\n",
              "              style=\"display:none;\">\n",
              "        \n",
              "  <svg xmlns=\"http://www.w3.org/2000/svg\" height=\"24px\"viewBox=\"0 0 24 24\"\n",
              "       width=\"24px\">\n",
              "    <path d=\"M0 0h24v24H0V0z\" fill=\"none\"/>\n",
              "    <path d=\"M18.56 5.44l.94 2.06.94-2.06 2.06-.94-2.06-.94-.94-2.06-.94 2.06-2.06.94zm-11 1L8.5 8.5l.94-2.06 2.06-.94-2.06-.94L8.5 2.5l-.94 2.06-2.06.94zm10 10l.94 2.06.94-2.06 2.06-.94-2.06-.94-.94-2.06-.94 2.06-2.06.94z\"/><path d=\"M17.41 7.96l-1.37-1.37c-.4-.4-.92-.59-1.43-.59-.52 0-1.04.2-1.43.59L10.3 9.45l-7.72 7.72c-.78.78-.78 2.05 0 2.83L4 21.41c.39.39.9.59 1.41.59.51 0 1.02-.2 1.41-.59l7.78-7.78 2.81-2.81c.8-.78.8-2.07 0-2.86zM5.41 20L4 18.59l7.72-7.72 1.47 1.35L5.41 20z\"/>\n",
              "  </svg>\n",
              "      </button>\n",
              "      \n",
              "  <style>\n",
              "    .colab-df-container {\n",
              "      display:flex;\n",
              "      flex-wrap:wrap;\n",
              "      gap: 12px;\n",
              "    }\n",
              "\n",
              "    .colab-df-convert {\n",
              "      background-color: #E8F0FE;\n",
              "      border: none;\n",
              "      border-radius: 50%;\n",
              "      cursor: pointer;\n",
              "      display: none;\n",
              "      fill: #1967D2;\n",
              "      height: 32px;\n",
              "      padding: 0 0 0 0;\n",
              "      width: 32px;\n",
              "    }\n",
              "\n",
              "    .colab-df-convert:hover {\n",
              "      background-color: #E2EBFA;\n",
              "      box-shadow: 0px 1px 2px rgba(60, 64, 67, 0.3), 0px 1px 3px 1px rgba(60, 64, 67, 0.15);\n",
              "      fill: #174EA6;\n",
              "    }\n",
              "\n",
              "    [theme=dark] .colab-df-convert {\n",
              "      background-color: #3B4455;\n",
              "      fill: #D2E3FC;\n",
              "    }\n",
              "\n",
              "    [theme=dark] .colab-df-convert:hover {\n",
              "      background-color: #434B5C;\n",
              "      box-shadow: 0px 1px 3px 1px rgba(0, 0, 0, 0.15);\n",
              "      filter: drop-shadow(0px 1px 2px rgba(0, 0, 0, 0.3));\n",
              "      fill: #FFFFFF;\n",
              "    }\n",
              "  </style>\n",
              "\n",
              "      <script>\n",
              "        const buttonEl =\n",
              "          document.querySelector('#df-70ecdd85-eb43-4fb2-958e-70fb51830300 button.colab-df-convert');\n",
              "        buttonEl.style.display =\n",
              "          google.colab.kernel.accessAllowed ? 'block' : 'none';\n",
              "\n",
              "        async function convertToInteractive(key) {\n",
              "          const element = document.querySelector('#df-70ecdd85-eb43-4fb2-958e-70fb51830300');\n",
              "          const dataTable =\n",
              "            await google.colab.kernel.invokeFunction('convertToInteractive',\n",
              "                                                     [key], {});\n",
              "          if (!dataTable) return;\n",
              "\n",
              "          const docLinkHtml = 'Like what you see? Visit the ' +\n",
              "            '<a target=\"_blank\" href=https://colab.research.google.com/notebooks/data_table.ipynb>data table notebook</a>'\n",
              "            + ' to learn more about interactive tables.';\n",
              "          element.innerHTML = '';\n",
              "          dataTable['output_type'] = 'display_data';\n",
              "          await google.colab.output.renderOutput(dataTable, element);\n",
              "          const docLink = document.createElement('div');\n",
              "          docLink.innerHTML = docLinkHtml;\n",
              "          element.appendChild(docLink);\n",
              "        }\n",
              "      </script>\n",
              "    </div>\n",
              "  </div>\n",
              "  "
            ],
            "text/plain": [
              "                      Governance, Peace and Security  ... Unnamed: 10\n",
              "0  Table 17.2: Crimes Reported to the Police, 201...  ...         NaN\n",
              "1                                                NaN  ...      Number\n",
              "2                                            Crimes1  ...        2019\n",
              "3                                           Homicide  ...       2,971\n",
              "4                          Offences against morality  ...       8,051\n",
              "\n",
              "[5 rows x 11 columns]"
            ]
          },
          "metadata": {},
          "execution_count": 125
        }
      ]
    },
    {
      "cell_type": "code",
      "source": [
        "#Dropping the fields with null(NaN) values\n",
        "df = df.dropna()"
      ],
      "metadata": {
        "id": "rUYatsElBDSx"
      },
      "execution_count": null,
      "outputs": []
    },
    {
      "cell_type": "code",
      "source": [
        "print(df)"
      ],
      "metadata": {
        "id": "XzoEQ-m6BvSR",
        "colab": {
          "base_uri": "https://localhost:8080/"
        },
        "outputId": "c029fb9c-78ca-4a85-bc22-852558fe5567"
      },
      "execution_count": null,
      "outputs": [
        {
          "output_type": "stream",
          "name": "stdout",
          "text": [
            "        Governance, Peace and Security Unnamed: 1  ... Unnamed: 9 Unnamed: 10\n",
            "2                              Crimes1       2010  ...       2018        2019\n",
            "3                             Homicide      2,239  ...      2,856       2,971\n",
            "4            Offences against morality      4,817  ...      7,233       8,051\n",
            "5       Other offences against persons     20,012  ...     25,049      27,196\n",
            "6                              Robbery      2,843  ...      2,935       2,858\n",
            "7                            Breakings      6,453  ...      5,970       5,976\n",
            "8                       Theft of stock      2,244  ...      2,077       1,962\n",
            "9                             Stealing     11,986  ...     12,845      13,954\n",
            "10                    Theft by servant      2,591  ...      2,477       2,226\n",
            "11  Theft of Vehicles and other thefts      1,365  ...      1,370       1,298\n",
            "12                     Dangerous drugs      5,081  ...      8,021       8,011\n",
            "13                    Traffic offences        103  ...        213         341\n",
            "14                     Criminal damage      3,327  ...      4,783       4,852\n",
            "15                     Economic crimes      2,662  ...      4,100       4,786\n",
            "16                          Corruption         62  ...        119         130\n",
            "17  Offences involving police officers         37  ...        174          77\n",
            "18         Offences involving tourists          1  ...         93          48\n",
            "19           Other penal code offences      4,956  ...      7,953       8,674\n",
            "20                               Total     70,779  ...     88,268      93,411\n",
            "\n",
            "[19 rows x 11 columns]\n"
          ]
        }
      ]
    },
    {
      "cell_type": "code",
      "source": [
        "#drop df header; making first row of dataframe be header\n",
        "\n",
        "df.columns = df.iloc[0]"
      ],
      "metadata": {
        "id": "2jTNrkkvBytN"
      },
      "execution_count": null,
      "outputs": []
    },
    {
      "cell_type": "code",
      "source": [
        "# check changes\n",
        "print(df)"
      ],
      "metadata": {
        "id": "TfPiN4ThCd0C",
        "colab": {
          "base_uri": "https://localhost:8080/"
        },
        "outputId": "be501798-2c74-44e2-c2ba-fa23231be867"
      },
      "execution_count": null,
      "outputs": [
        {
          "output_type": "stream",
          "name": "stdout",
          "text": [
            "2                              Crimes1    2010    2011  ...    2017    2018    2019\n",
            "2                              Crimes1    2010    2011  ...    2017    2018    2019\n",
            "3                             Homicide   2,239   2,641  ...   2,774   2,856   2,971\n",
            "4            Offences against morality   4,817   4,703  ...   5,492   7,233   8,051\n",
            "5       Other offences against persons  20,012  20,144  ...  22,515  25,049  27,196\n",
            "6                              Robbery   2,843   3,262  ...   2,713   2,935   2,858\n",
            "7                            Breakings   6,453   7,325  ...   6,131   5,970   5,976\n",
            "8                       Theft of stock   2,244   2,269  ...   2,136   2,077   1,962\n",
            "9                             Stealing  11,986  13,797  ...  11,656  12,845  13,954\n",
            "10                    Theft by servant   2,591   2,889  ...   2,632   2,477   2,226\n",
            "11  Theft of Vehicles and other thefts   1,365   1,768  ...   1,404   1,370   1,298\n",
            "12                     Dangerous drugs   5,081   4,649  ...   5,565   8,021   8,011\n",
            "13                    Traffic offences     103     100  ...      69     213     341\n",
            "14                     Criminal damage   3,327   3,345  ...   4,262   4,783   4,852\n",
            "15                     Economic crimes   2,662   3,036  ...   3,695   4,100   4,786\n",
            "16                          Corruption      62      52  ...      75     119     130\n",
            "17  Offences involving police officers      37      27  ...      86     174      77\n",
            "18         Offences involving tourists       1       0  ...      15      93      48\n",
            "19           Other penal code offences   4,956   5,726  ...   6,772   7,953   8,674\n",
            "20                               Total  70,779  75,733  ...  77,992  88,268  93,411\n",
            "\n",
            "[19 rows x 11 columns]\n"
          ]
        }
      ]
    },
    {
      "cell_type": "code",
      "source": [
        "#drop unwanted dataframes rows - first and last\n",
        "\n",
        "#first row\n",
        "df = df.iloc[1: , :] \n",
        "\n",
        "#last row\n",
        "df = df.iloc[:-1,:]"
      ],
      "metadata": {
        "id": "xpc7aXJ0Cj2u"
      },
      "execution_count": null,
      "outputs": []
    },
    {
      "cell_type": "code",
      "source": [
        "print(df)"
      ],
      "metadata": {
        "id": "k0j86zyCEWWI",
        "colab": {
          "base_uri": "https://localhost:8080/"
        },
        "outputId": "c1a5a080-7bbe-4c16-d5bd-62a54e59d796"
      },
      "execution_count": null,
      "outputs": [
        {
          "output_type": "stream",
          "name": "stdout",
          "text": [
            "2                              Crimes1    2010    2011  ...    2017    2018    2019\n",
            "3                             Homicide   2,239   2,641  ...   2,774   2,856   2,971\n",
            "4            Offences against morality   4,817   4,703  ...   5,492   7,233   8,051\n",
            "5       Other offences against persons  20,012  20,144  ...  22,515  25,049  27,196\n",
            "6                              Robbery   2,843   3,262  ...   2,713   2,935   2,858\n",
            "7                            Breakings   6,453   7,325  ...   6,131   5,970   5,976\n",
            "8                       Theft of stock   2,244   2,269  ...   2,136   2,077   1,962\n",
            "9                             Stealing  11,986  13,797  ...  11,656  12,845  13,954\n",
            "10                    Theft by servant   2,591   2,889  ...   2,632   2,477   2,226\n",
            "11  Theft of Vehicles and other thefts   1,365   1,768  ...   1,404   1,370   1,298\n",
            "12                     Dangerous drugs   5,081   4,649  ...   5,565   8,021   8,011\n",
            "13                    Traffic offences     103     100  ...      69     213     341\n",
            "14                     Criminal damage   3,327   3,345  ...   4,262   4,783   4,852\n",
            "15                     Economic crimes   2,662   3,036  ...   3,695   4,100   4,786\n",
            "16                          Corruption      62      52  ...      75     119     130\n",
            "17  Offences involving police officers      37      27  ...      86     174      77\n",
            "18         Offences involving tourists       1       0  ...      15      93      48\n",
            "19           Other penal code offences   4,956   5,726  ...   6,772   7,953   8,674\n",
            "\n",
            "[17 rows x 11 columns]\n"
          ]
        }
      ]
    },
    {
      "cell_type": "code",
      "source": [
        "#Renaming the first column\n",
        "\n",
        "df.rename(columns={'Crimes1': 'Type of Crime'}, inplace=True)"
      ],
      "metadata": {
        "id": "qUhTGJ0MEbPq"
      },
      "execution_count": null,
      "outputs": []
    },
    {
      "cell_type": "code",
      "source": [
        "df.columns"
      ],
      "metadata": {
        "id": "SEDyiy1tznRb",
        "colab": {
          "base_uri": "https://localhost:8080/"
        },
        "outputId": "f430dc54-eae0-48ab-9229-7398e2bbfe74"
      },
      "execution_count": null,
      "outputs": [
        {
          "output_type": "execute_result",
          "data": {
            "text/plain": [
              "Index(['Type of Crime', '2010', '2011', '2012', '2013', '2014', '2015', '2016',\n",
              "       '2017', '2018', '2019'],\n",
              "      dtype='object', name=2)"
            ]
          },
          "metadata": {},
          "execution_count": 133
        }
      ]
    },
    {
      "cell_type": "code",
      "source": [
        "#dropping columns\n",
        "\n",
        "df.drop(['Type of Crime', '2010', '2011', '2012'], axis=1 , inplace=True)\n"
      ],
      "metadata": {
        "id": "vM7hvwp0zE6j"
      },
      "execution_count": null,
      "outputs": []
    },
    {
      "cell_type": "code",
      "source": [
        "df.columns\n",
        "print(df)"
      ],
      "metadata": {
        "id": "v0UIFsCTHPBn",
        "colab": {
          "base_uri": "https://localhost:8080/"
        },
        "outputId": "591fc6a8-4373-4b68-cc26-1ebe96a45ff6"
      },
      "execution_count": null,
      "outputs": [
        {
          "output_type": "stream",
          "name": "stdout",
          "text": [
            "2     2013    2014    2015    2016    2017    2018    2019\n",
            "3    2,878   2,649   2,648   2,751   2,774   2,856   2,971\n",
            "4    4,779   5,184   6,164   6,228   5,492   7,233   8,051\n",
            "5   19,344  19,911  21,174  22,295  22,515  25,049  27,196\n",
            "6    3,551   3,011   2,865   2,697   2,713   2,935   2,858\n",
            "7    6,397   5,656   5,591   5,621   6,131   5,970   5,976\n",
            "8    1,965   1,848   1,961   1,918   2,136   2,077   1,962\n",
            "9   11,455  10,042   9,528  10,361  11,656  12,845  13,954\n",
            "10   2,702   2,279   2,184   2,440   2,632   2,477   2,226\n",
            "11   1,631   1,239   1,111   1,355   1,404   1,370   1,298\n",
            "12   4,316   4,850   5,525   6,160   5,565   8,021   8,011\n",
            "13      45     100     120     139      69     213     341\n",
            "14   3,603   3,709   3,983   4,307   4,262   4,783   4,852\n",
            "15   2,750   3,038   3,244   3,503   3,695   4,100   4,786\n",
            "16      57     138      79      92      75     119     130\n",
            "17      95      53      71      57      86     174      77\n",
            "18      14      21      19      15      15      93      48\n",
            "19   6,250   5,648   6,223   7,047   6,772   7,953   8,674\n"
          ]
        }
      ]
    },
    {
      "cell_type": "code",
      "source": [
        "#renaming and saving the updated file of Crimes_Recorded_from_2010_to_2019.csv\n",
        "\n",
        "df.to_csv('/content/drive/MyDrive/Colab Notebooks/School Project docs and files/Updated_Crimes_Recorded_from_2010_to_2019.csv')"
      ],
      "metadata": {
        "id": "F6Q1somYHQ8I"
      },
      "execution_count": null,
      "outputs": []
    },
    {
      "cell_type": "code",
      "source": [
        ""
      ],
      "metadata": {
        "id": "D8kOakiSNNuO"
      },
      "execution_count": null,
      "outputs": []
    },
    {
      "cell_type": "markdown",
      "source": [
        "**Joining the two Datasets**"
      ],
      "metadata": {
        "id": "hcF2MDb_OPD0"
      }
    },
    {
      "cell_type": "code",
      "source": [
        "#reading the datasets to be merged as df1 and df2 respectively\n",
        "df1 = pd.read_csv('/content/drive/MyDrive/Colab Notebooks/School Project docs and files/Updated_Crimes_Recorded_from_2005_to_2012.csv')\n",
        "df2 = pd.read_csv('/content/drive/MyDrive/Colab Notebooks/School Project docs and files/Updated_Crimes_Recorded_from_2010_to_2019.csv')"
      ],
      "metadata": {
        "id": "ScGZcW4ZOVl_"
      },
      "execution_count": null,
      "outputs": []
    },
    {
      "cell_type": "code",
      "source": [
        "#joining the dataframes on column \n",
        "\n",
        "df3 = pd.concat([df1, df2], axis=1)"
      ],
      "metadata": {
        "id": "tln_F3mbO697"
      },
      "execution_count": null,
      "outputs": []
    },
    {
      "cell_type": "code",
      "source": [
        "print(df3)"
      ],
      "metadata": {
        "id": "GZ1B_hjiNbCG",
        "colab": {
          "base_uri": "https://localhost:8080/"
        },
        "outputId": "ee1e46e7-639e-422c-a88b-d2c035c90b0e"
      },
      "execution_count": null,
      "outputs": [
        {
          "output_type": "stream",
          "name": "stdout",
          "text": [
            "    Unnamed: 0                       Type of Crime  ...    2018    2019\n",
            "0            4                            Homicide  ...   2,856   2,971\n",
            "1            5           Offences against morality  ...   7,233   8,051\n",
            "2            6      Other offences against persons  ...  25,049  27,196\n",
            "3            7                             Robbery  ...   2,935   2,858\n",
            "4            8                           Breakings  ...   5,970   5,976\n",
            "5            9                      Theft of stock  ...   2,077   1,962\n",
            "6           10                            Stealing  ...  12,845  13,954\n",
            "7           11                    Theft by servant  ...   2,477   2,226\n",
            "8           12           Vehicles and other thefts  ...   1,370   1,298\n",
            "9           13                     Dangerous drugs  ...   8,021   8,011\n",
            "10          14                    Traffic offences  ...     213     341\n",
            "11          15                     Criminal damage  ...   4,783   4,852\n",
            "12          16                     Economic crimes  ...   4,100   4,786\n",
            "13          17                          Corruption  ...     119     130\n",
            "14          18  Offences involving police officers  ...     174      77\n",
            "15          19         Offences involving tourists  ...      93      48\n",
            "16          20           Other penal code offences  ...   7,953   8,674\n",
            "\n",
            "[17 rows x 18 columns]\n"
          ]
        }
      ]
    },
    {
      "cell_type": "code",
      "source": [
        "#renaming and saving df3 to Crimes_Recorded_from_2005_to_2019.csv\n",
        "\n",
        "df3.to_csv('/content/drive/MyDrive/Colab Notebooks/School Project docs and files/Crimes_Recorded_from_2005_to_2019.csv')"
      ],
      "metadata": {
        "id": "_PBZItri3FoR"
      },
      "execution_count": null,
      "outputs": []
    },
    {
      "cell_type": "markdown",
      "source": [
        "End of joining the two datasets"
      ],
      "metadata": {
        "id": "yLimlt9W_Ag2"
      }
    },
    {
      "cell_type": "code",
      "source": [
        ""
      ],
      "metadata": {
        "id": "k_l5Ol7n8Uau"
      },
      "execution_count": null,
      "outputs": []
    },
    {
      "cell_type": "markdown",
      "source": [
        "**Updating and modifying the new dataset**"
      ],
      "metadata": {
        "id": "C1pAmGKE_Mum"
      }
    },
    {
      "cell_type": "code",
      "source": [
        "#Updating the new dataframe - df3\n",
        "\n",
        "#loading the data set \n",
        "pathdataset='/content/drive/MyDrive/Colab Notebooks/School Project docs and files/Crimes_Recorded_from_2005_to_2019.csv'"
      ],
      "metadata": {
        "id": "EUAAyrRm9Gk2"
      },
      "execution_count": null,
      "outputs": []
    },
    {
      "cell_type": "code",
      "source": [
        "#Reading the dataset\n",
        "df = pd.read_csv(pathdataset)\n",
        "df.head()"
      ],
      "metadata": {
        "id": "6ZXcZ348_cmt",
        "colab": {
          "base_uri": "https://localhost:8080/",
          "height": 374
        },
        "outputId": "61d39b01-ced9-4a25-d17c-1e46cf47816a"
      },
      "execution_count": null,
      "outputs": [
        {
          "output_type": "execute_result",
          "data": {
            "text/html": [
              "\n",
              "  <div id=\"df-7106cc2d-3990-4d48-ae26-53c85aa38cb2\">\n",
              "    <div class=\"colab-df-container\">\n",
              "      <div>\n",
              "<style scoped>\n",
              "    .dataframe tbody tr th:only-of-type {\n",
              "        vertical-align: middle;\n",
              "    }\n",
              "\n",
              "    .dataframe tbody tr th {\n",
              "        vertical-align: top;\n",
              "    }\n",
              "\n",
              "    .dataframe thead th {\n",
              "        text-align: right;\n",
              "    }\n",
              "</style>\n",
              "<table border=\"1\" class=\"dataframe\">\n",
              "  <thead>\n",
              "    <tr style=\"text-align: right;\">\n",
              "      <th></th>\n",
              "      <th>Unnamed: 0</th>\n",
              "      <th>Unnamed: 0.1</th>\n",
              "      <th>Type of Crime</th>\n",
              "      <th>2005</th>\n",
              "      <th>2006</th>\n",
              "      <th>2007</th>\n",
              "      <th>2008</th>\n",
              "      <th>2009</th>\n",
              "      <th>2010</th>\n",
              "      <th>2011</th>\n",
              "      <th>2012</th>\n",
              "      <th>Unnamed: 0.2</th>\n",
              "      <th>2013</th>\n",
              "      <th>2014</th>\n",
              "      <th>2015</th>\n",
              "      <th>2016</th>\n",
              "      <th>2017</th>\n",
              "      <th>2018</th>\n",
              "      <th>2019</th>\n",
              "    </tr>\n",
              "  </thead>\n",
              "  <tbody>\n",
              "    <tr>\n",
              "      <th>0</th>\n",
              "      <td>0</td>\n",
              "      <td>4</td>\n",
              "      <td>Homicide</td>\n",
              "      <td>2,313</td>\n",
              "      <td>2,090</td>\n",
              "      <td>1,912</td>\n",
              "      <td>2,037</td>\n",
              "      <td>2,214</td>\n",
              "      <td>2,239</td>\n",
              "      <td>2,641</td>\n",
              "      <td>2761</td>\n",
              "      <td>3</td>\n",
              "      <td>2,878</td>\n",
              "      <td>2,649</td>\n",
              "      <td>2,648</td>\n",
              "      <td>2,751</td>\n",
              "      <td>2,774</td>\n",
              "      <td>2,856</td>\n",
              "      <td>2,971</td>\n",
              "    </tr>\n",
              "    <tr>\n",
              "      <th>1</th>\n",
              "      <td>1</td>\n",
              "      <td>5</td>\n",
              "      <td>Offences against morality</td>\n",
              "      <td>3,153</td>\n",
              "      <td>3,525</td>\n",
              "      <td>3,673</td>\n",
              "      <td>3,116</td>\n",
              "      <td>4,068</td>\n",
              "      <td>4,817</td>\n",
              "      <td>4,703</td>\n",
              "      <td>4806</td>\n",
              "      <td>4</td>\n",
              "      <td>4,779</td>\n",
              "      <td>5,184</td>\n",
              "      <td>6,164</td>\n",
              "      <td>6,228</td>\n",
              "      <td>5,492</td>\n",
              "      <td>7,233</td>\n",
              "      <td>8,051</td>\n",
              "    </tr>\n",
              "    <tr>\n",
              "      <th>2</th>\n",
              "      <td>2</td>\n",
              "      <td>6</td>\n",
              "      <td>Other offences against persons</td>\n",
              "      <td>17,304</td>\n",
              "      <td>18,723</td>\n",
              "      <td>17,831</td>\n",
              "      <td>16,496</td>\n",
              "      <td>20,539</td>\n",
              "      <td>20,012</td>\n",
              "      <td>20,144</td>\n",
              "      <td>20698</td>\n",
              "      <td>5</td>\n",
              "      <td>19,344</td>\n",
              "      <td>19,911</td>\n",
              "      <td>21,174</td>\n",
              "      <td>22,295</td>\n",
              "      <td>22,515</td>\n",
              "      <td>25,049</td>\n",
              "      <td>27,196</td>\n",
              "    </tr>\n",
              "    <tr>\n",
              "      <th>3</th>\n",
              "      <td>3</td>\n",
              "      <td>7</td>\n",
              "      <td>Robbery</td>\n",
              "      <td>6,936</td>\n",
              "      <td>5,234</td>\n",
              "      <td>3,492</td>\n",
              "      <td>3,401</td>\n",
              "      <td>2,939</td>\n",
              "      <td>2,843</td>\n",
              "      <td>3,262</td>\n",
              "      <td>3,262</td>\n",
              "      <td>6</td>\n",
              "      <td>3,551</td>\n",
              "      <td>3,011</td>\n",
              "      <td>2,865</td>\n",
              "      <td>2,697</td>\n",
              "      <td>2,713</td>\n",
              "      <td>2,935</td>\n",
              "      <td>2,858</td>\n",
              "    </tr>\n",
              "    <tr>\n",
              "      <th>4</th>\n",
              "      <td>4</td>\n",
              "      <td>8</td>\n",
              "      <td>Breakings</td>\n",
              "      <td>8,454</td>\n",
              "      <td>7,420</td>\n",
              "      <td>6,337</td>\n",
              "      <td>6,626</td>\n",
              "      <td>7,053</td>\n",
              "      <td>6,453</td>\n",
              "      <td>7,325</td>\n",
              "      <td>7,578</td>\n",
              "      <td>7</td>\n",
              "      <td>6,397</td>\n",
              "      <td>5,656</td>\n",
              "      <td>5,591</td>\n",
              "      <td>5,621</td>\n",
              "      <td>6,131</td>\n",
              "      <td>5,970</td>\n",
              "      <td>5,976</td>\n",
              "    </tr>\n",
              "  </tbody>\n",
              "</table>\n",
              "</div>\n",
              "      <button class=\"colab-df-convert\" onclick=\"convertToInteractive('df-7106cc2d-3990-4d48-ae26-53c85aa38cb2')\"\n",
              "              title=\"Convert this dataframe to an interactive table.\"\n",
              "              style=\"display:none;\">\n",
              "        \n",
              "  <svg xmlns=\"http://www.w3.org/2000/svg\" height=\"24px\"viewBox=\"0 0 24 24\"\n",
              "       width=\"24px\">\n",
              "    <path d=\"M0 0h24v24H0V0z\" fill=\"none\"/>\n",
              "    <path d=\"M18.56 5.44l.94 2.06.94-2.06 2.06-.94-2.06-.94-.94-2.06-.94 2.06-2.06.94zm-11 1L8.5 8.5l.94-2.06 2.06-.94-2.06-.94L8.5 2.5l-.94 2.06-2.06.94zm10 10l.94 2.06.94-2.06 2.06-.94-2.06-.94-.94-2.06-.94 2.06-2.06.94z\"/><path d=\"M17.41 7.96l-1.37-1.37c-.4-.4-.92-.59-1.43-.59-.52 0-1.04.2-1.43.59L10.3 9.45l-7.72 7.72c-.78.78-.78 2.05 0 2.83L4 21.41c.39.39.9.59 1.41.59.51 0 1.02-.2 1.41-.59l7.78-7.78 2.81-2.81c.8-.78.8-2.07 0-2.86zM5.41 20L4 18.59l7.72-7.72 1.47 1.35L5.41 20z\"/>\n",
              "  </svg>\n",
              "      </button>\n",
              "      \n",
              "  <style>\n",
              "    .colab-df-container {\n",
              "      display:flex;\n",
              "      flex-wrap:wrap;\n",
              "      gap: 12px;\n",
              "    }\n",
              "\n",
              "    .colab-df-convert {\n",
              "      background-color: #E8F0FE;\n",
              "      border: none;\n",
              "      border-radius: 50%;\n",
              "      cursor: pointer;\n",
              "      display: none;\n",
              "      fill: #1967D2;\n",
              "      height: 32px;\n",
              "      padding: 0 0 0 0;\n",
              "      width: 32px;\n",
              "    }\n",
              "\n",
              "    .colab-df-convert:hover {\n",
              "      background-color: #E2EBFA;\n",
              "      box-shadow: 0px 1px 2px rgba(60, 64, 67, 0.3), 0px 1px 3px 1px rgba(60, 64, 67, 0.15);\n",
              "      fill: #174EA6;\n",
              "    }\n",
              "\n",
              "    [theme=dark] .colab-df-convert {\n",
              "      background-color: #3B4455;\n",
              "      fill: #D2E3FC;\n",
              "    }\n",
              "\n",
              "    [theme=dark] .colab-df-convert:hover {\n",
              "      background-color: #434B5C;\n",
              "      box-shadow: 0px 1px 3px 1px rgba(0, 0, 0, 0.15);\n",
              "      filter: drop-shadow(0px 1px 2px rgba(0, 0, 0, 0.3));\n",
              "      fill: #FFFFFF;\n",
              "    }\n",
              "  </style>\n",
              "\n",
              "      <script>\n",
              "        const buttonEl =\n",
              "          document.querySelector('#df-7106cc2d-3990-4d48-ae26-53c85aa38cb2 button.colab-df-convert');\n",
              "        buttonEl.style.display =\n",
              "          google.colab.kernel.accessAllowed ? 'block' : 'none';\n",
              "\n",
              "        async function convertToInteractive(key) {\n",
              "          const element = document.querySelector('#df-7106cc2d-3990-4d48-ae26-53c85aa38cb2');\n",
              "          const dataTable =\n",
              "            await google.colab.kernel.invokeFunction('convertToInteractive',\n",
              "                                                     [key], {});\n",
              "          if (!dataTable) return;\n",
              "\n",
              "          const docLinkHtml = 'Like what you see? Visit the ' +\n",
              "            '<a target=\"_blank\" href=https://colab.research.google.com/notebooks/data_table.ipynb>data table notebook</a>'\n",
              "            + ' to learn more about interactive tables.';\n",
              "          element.innerHTML = '';\n",
              "          dataTable['output_type'] = 'display_data';\n",
              "          await google.colab.output.renderOutput(dataTable, element);\n",
              "          const docLink = document.createElement('div');\n",
              "          docLink.innerHTML = docLinkHtml;\n",
              "          element.appendChild(docLink);\n",
              "        }\n",
              "      </script>\n",
              "    </div>\n",
              "  </div>\n",
              "  "
            ],
            "text/plain": [
              "   Unnamed: 0  Unnamed: 0.1  ...    2018    2019\n",
              "0           0             4  ...   2,856   2,971\n",
              "1           1             5  ...   7,233   8,051\n",
              "2           2             6  ...  25,049  27,196\n",
              "3           3             7  ...   2,935   2,858\n",
              "4           4             8  ...   5,970   5,976\n",
              "\n",
              "[5 rows x 19 columns]"
            ]
          },
          "metadata": {},
          "execution_count": 142
        }
      ]
    },
    {
      "cell_type": "code",
      "source": [
        "df.columns"
      ],
      "metadata": {
        "id": "L4yIlcfx_o2X",
        "colab": {
          "base_uri": "https://localhost:8080/"
        },
        "outputId": "6561de8a-cbca-4664-f86e-1e95b23c0056"
      },
      "execution_count": null,
      "outputs": [
        {
          "output_type": "execute_result",
          "data": {
            "text/plain": [
              "Index(['Unnamed: 0', 'Unnamed: 0.1', 'Type of Crime', '2005', '2006', '2007',\n",
              "       '2008', '2009', '2010', '2011', '2012', 'Unnamed: 0.2', '2013', '2014',\n",
              "       '2015', '2016', '2017', '2018', '2019'],\n",
              "      dtype='object')"
            ]
          },
          "metadata": {},
          "execution_count": 143
        }
      ]
    },
    {
      "cell_type": "code",
      "source": [
        "#dropping unwanted columns\n",
        "\n",
        "df.drop(['Unnamed: 0', 'Unnamed: 0.1', 'Unnamed: 0.2'], axis=1, inplace=True)"
      ],
      "metadata": {
        "id": "pidzZ0tYAU7I"
      },
      "execution_count": null,
      "outputs": []
    },
    {
      "cell_type": "code",
      "source": [
        "df.columns"
      ],
      "metadata": {
        "id": "hp_NQqp3BRd4",
        "colab": {
          "base_uri": "https://localhost:8080/"
        },
        "outputId": "a82efb1d-30e7-4d16-cf92-d6375e26ea25"
      },
      "execution_count": null,
      "outputs": [
        {
          "output_type": "execute_result",
          "data": {
            "text/plain": [
              "Index(['Type of Crime', '2005', '2006', '2007', '2008', '2009', '2010', '2011',\n",
              "       '2012', '2013', '2014', '2015', '2016', '2017', '2018', '2019'],\n",
              "      dtype='object')"
            ]
          },
          "metadata": {},
          "execution_count": 145
        }
      ]
    },
    {
      "cell_type": "code",
      "source": [
        "print(df)"
      ],
      "metadata": {
        "id": "InWkto8eB4Xr",
        "colab": {
          "base_uri": "https://localhost:8080/"
        },
        "outputId": "994f6f9d-ee48-462d-eb6f-77ea78a47a86"
      },
      "execution_count": null,
      "outputs": [
        {
          "output_type": "stream",
          "name": "stdout",
          "text": [
            "                         Type of Crime    2005    2006  ...    2017    2018    2019\n",
            "0                             Homicide   2,313   2,090  ...   2,774   2,856   2,971\n",
            "1            Offences against morality   3,153   3,525  ...   5,492   7,233   8,051\n",
            "2       Other offences against persons  17,304  18,723  ...  22,515  25,049  27,196\n",
            "3                              Robbery   6,936   5,234  ...   2,713   2,935   2,858\n",
            "4                            Breakings   8,454   7,420  ...   6,131   5,970   5,976\n",
            "5                       Theft of stock   2,219   2,209  ...   2,136   2,077   1,962\n",
            "6                             Stealing  12,589  10,874  ...  11,656  12,845  13,954\n",
            "7                     Theft by servant   2,874   2,700  ...   2,632   2,477   2,226\n",
            "8            Vehicles and other thefts   1,718   1,660  ...   1,404   1,370   1,298\n",
            "9                      Dangerous drugs   6,356   5,821  ...   5,565   8,021   8,011\n",
            "10                    Traffic offences      38      62  ...      69     213     341\n",
            "11                     Criminal damage   3,236   3,518  ...   4,262   4,783   4,852\n",
            "12                     Economic crimes   1,390   1,873  ...   3,695   4,100   4,786\n",
            "13                          Corruption     107     252  ...      75     119     130\n",
            "14  Offences involving police officers      29      76  ...      86     174      77\n",
            "15         Offences involving tourists      32      84  ...      15      93      48\n",
            "16           Other penal code offences   6,652   6,104  ...   6,772   7,953   8,674\n",
            "\n",
            "[17 rows x 16 columns]\n"
          ]
        }
      ]
    },
    {
      "cell_type": "code",
      "source": [
        "df.head()"
      ],
      "metadata": {
        "id": "TN4iv8U9JtFH",
        "colab": {
          "base_uri": "https://localhost:8080/",
          "height": 374
        },
        "outputId": "398bfd7e-2385-4a3f-e7b2-3926e53692f7"
      },
      "execution_count": null,
      "outputs": [
        {
          "output_type": "execute_result",
          "data": {
            "text/html": [
              "\n",
              "  <div id=\"df-385e4225-a8b9-4943-bb12-170aefb6f4fd\">\n",
              "    <div class=\"colab-df-container\">\n",
              "      <div>\n",
              "<style scoped>\n",
              "    .dataframe tbody tr th:only-of-type {\n",
              "        vertical-align: middle;\n",
              "    }\n",
              "\n",
              "    .dataframe tbody tr th {\n",
              "        vertical-align: top;\n",
              "    }\n",
              "\n",
              "    .dataframe thead th {\n",
              "        text-align: right;\n",
              "    }\n",
              "</style>\n",
              "<table border=\"1\" class=\"dataframe\">\n",
              "  <thead>\n",
              "    <tr style=\"text-align: right;\">\n",
              "      <th></th>\n",
              "      <th>Type of Crime</th>\n",
              "      <th>2005</th>\n",
              "      <th>2006</th>\n",
              "      <th>2007</th>\n",
              "      <th>2008</th>\n",
              "      <th>2009</th>\n",
              "      <th>2010</th>\n",
              "      <th>2011</th>\n",
              "      <th>2012</th>\n",
              "      <th>2013</th>\n",
              "      <th>2014</th>\n",
              "      <th>2015</th>\n",
              "      <th>2016</th>\n",
              "      <th>2017</th>\n",
              "      <th>2018</th>\n",
              "      <th>2019</th>\n",
              "    </tr>\n",
              "  </thead>\n",
              "  <tbody>\n",
              "    <tr>\n",
              "      <th>0</th>\n",
              "      <td>Homicide</td>\n",
              "      <td>2,313</td>\n",
              "      <td>2,090</td>\n",
              "      <td>1,912</td>\n",
              "      <td>2,037</td>\n",
              "      <td>2,214</td>\n",
              "      <td>2,239</td>\n",
              "      <td>2,641</td>\n",
              "      <td>2761</td>\n",
              "      <td>2,878</td>\n",
              "      <td>2,649</td>\n",
              "      <td>2,648</td>\n",
              "      <td>2,751</td>\n",
              "      <td>2,774</td>\n",
              "      <td>2,856</td>\n",
              "      <td>2,971</td>\n",
              "    </tr>\n",
              "    <tr>\n",
              "      <th>1</th>\n",
              "      <td>Offences against morality</td>\n",
              "      <td>3,153</td>\n",
              "      <td>3,525</td>\n",
              "      <td>3,673</td>\n",
              "      <td>3,116</td>\n",
              "      <td>4,068</td>\n",
              "      <td>4,817</td>\n",
              "      <td>4,703</td>\n",
              "      <td>4806</td>\n",
              "      <td>4,779</td>\n",
              "      <td>5,184</td>\n",
              "      <td>6,164</td>\n",
              "      <td>6,228</td>\n",
              "      <td>5,492</td>\n",
              "      <td>7,233</td>\n",
              "      <td>8,051</td>\n",
              "    </tr>\n",
              "    <tr>\n",
              "      <th>2</th>\n",
              "      <td>Other offences against persons</td>\n",
              "      <td>17,304</td>\n",
              "      <td>18,723</td>\n",
              "      <td>17,831</td>\n",
              "      <td>16,496</td>\n",
              "      <td>20,539</td>\n",
              "      <td>20,012</td>\n",
              "      <td>20,144</td>\n",
              "      <td>20698</td>\n",
              "      <td>19,344</td>\n",
              "      <td>19,911</td>\n",
              "      <td>21,174</td>\n",
              "      <td>22,295</td>\n",
              "      <td>22,515</td>\n",
              "      <td>25,049</td>\n",
              "      <td>27,196</td>\n",
              "    </tr>\n",
              "    <tr>\n",
              "      <th>3</th>\n",
              "      <td>Robbery</td>\n",
              "      <td>6,936</td>\n",
              "      <td>5,234</td>\n",
              "      <td>3,492</td>\n",
              "      <td>3,401</td>\n",
              "      <td>2,939</td>\n",
              "      <td>2,843</td>\n",
              "      <td>3,262</td>\n",
              "      <td>3,262</td>\n",
              "      <td>3,551</td>\n",
              "      <td>3,011</td>\n",
              "      <td>2,865</td>\n",
              "      <td>2,697</td>\n",
              "      <td>2,713</td>\n",
              "      <td>2,935</td>\n",
              "      <td>2,858</td>\n",
              "    </tr>\n",
              "    <tr>\n",
              "      <th>4</th>\n",
              "      <td>Breakings</td>\n",
              "      <td>8,454</td>\n",
              "      <td>7,420</td>\n",
              "      <td>6,337</td>\n",
              "      <td>6,626</td>\n",
              "      <td>7,053</td>\n",
              "      <td>6,453</td>\n",
              "      <td>7,325</td>\n",
              "      <td>7,578</td>\n",
              "      <td>6,397</td>\n",
              "      <td>5,656</td>\n",
              "      <td>5,591</td>\n",
              "      <td>5,621</td>\n",
              "      <td>6,131</td>\n",
              "      <td>5,970</td>\n",
              "      <td>5,976</td>\n",
              "    </tr>\n",
              "  </tbody>\n",
              "</table>\n",
              "</div>\n",
              "      <button class=\"colab-df-convert\" onclick=\"convertToInteractive('df-385e4225-a8b9-4943-bb12-170aefb6f4fd')\"\n",
              "              title=\"Convert this dataframe to an interactive table.\"\n",
              "              style=\"display:none;\">\n",
              "        \n",
              "  <svg xmlns=\"http://www.w3.org/2000/svg\" height=\"24px\"viewBox=\"0 0 24 24\"\n",
              "       width=\"24px\">\n",
              "    <path d=\"M0 0h24v24H0V0z\" fill=\"none\"/>\n",
              "    <path d=\"M18.56 5.44l.94 2.06.94-2.06 2.06-.94-2.06-.94-.94-2.06-.94 2.06-2.06.94zm-11 1L8.5 8.5l.94-2.06 2.06-.94-2.06-.94L8.5 2.5l-.94 2.06-2.06.94zm10 10l.94 2.06.94-2.06 2.06-.94-2.06-.94-.94-2.06-.94 2.06-2.06.94z\"/><path d=\"M17.41 7.96l-1.37-1.37c-.4-.4-.92-.59-1.43-.59-.52 0-1.04.2-1.43.59L10.3 9.45l-7.72 7.72c-.78.78-.78 2.05 0 2.83L4 21.41c.39.39.9.59 1.41.59.51 0 1.02-.2 1.41-.59l7.78-7.78 2.81-2.81c.8-.78.8-2.07 0-2.86zM5.41 20L4 18.59l7.72-7.72 1.47 1.35L5.41 20z\"/>\n",
              "  </svg>\n",
              "      </button>\n",
              "      \n",
              "  <style>\n",
              "    .colab-df-container {\n",
              "      display:flex;\n",
              "      flex-wrap:wrap;\n",
              "      gap: 12px;\n",
              "    }\n",
              "\n",
              "    .colab-df-convert {\n",
              "      background-color: #E8F0FE;\n",
              "      border: none;\n",
              "      border-radius: 50%;\n",
              "      cursor: pointer;\n",
              "      display: none;\n",
              "      fill: #1967D2;\n",
              "      height: 32px;\n",
              "      padding: 0 0 0 0;\n",
              "      width: 32px;\n",
              "    }\n",
              "\n",
              "    .colab-df-convert:hover {\n",
              "      background-color: #E2EBFA;\n",
              "      box-shadow: 0px 1px 2px rgba(60, 64, 67, 0.3), 0px 1px 3px 1px rgba(60, 64, 67, 0.15);\n",
              "      fill: #174EA6;\n",
              "    }\n",
              "\n",
              "    [theme=dark] .colab-df-convert {\n",
              "      background-color: #3B4455;\n",
              "      fill: #D2E3FC;\n",
              "    }\n",
              "\n",
              "    [theme=dark] .colab-df-convert:hover {\n",
              "      background-color: #434B5C;\n",
              "      box-shadow: 0px 1px 3px 1px rgba(0, 0, 0, 0.15);\n",
              "      filter: drop-shadow(0px 1px 2px rgba(0, 0, 0, 0.3));\n",
              "      fill: #FFFFFF;\n",
              "    }\n",
              "  </style>\n",
              "\n",
              "      <script>\n",
              "        const buttonEl =\n",
              "          document.querySelector('#df-385e4225-a8b9-4943-bb12-170aefb6f4fd button.colab-df-convert');\n",
              "        buttonEl.style.display =\n",
              "          google.colab.kernel.accessAllowed ? 'block' : 'none';\n",
              "\n",
              "        async function convertToInteractive(key) {\n",
              "          const element = document.querySelector('#df-385e4225-a8b9-4943-bb12-170aefb6f4fd');\n",
              "          const dataTable =\n",
              "            await google.colab.kernel.invokeFunction('convertToInteractive',\n",
              "                                                     [key], {});\n",
              "          if (!dataTable) return;\n",
              "\n",
              "          const docLinkHtml = 'Like what you see? Visit the ' +\n",
              "            '<a target=\"_blank\" href=https://colab.research.google.com/notebooks/data_table.ipynb>data table notebook</a>'\n",
              "            + ' to learn more about interactive tables.';\n",
              "          element.innerHTML = '';\n",
              "          dataTable['output_type'] = 'display_data';\n",
              "          await google.colab.output.renderOutput(dataTable, element);\n",
              "          const docLink = document.createElement('div');\n",
              "          docLink.innerHTML = docLinkHtml;\n",
              "          element.appendChild(docLink);\n",
              "        }\n",
              "      </script>\n",
              "    </div>\n",
              "  </div>\n",
              "  "
            ],
            "text/plain": [
              "                    Type of Crime    2005    2006  ...    2017    2018    2019\n",
              "0                        Homicide   2,313   2,090  ...   2,774   2,856   2,971\n",
              "1       Offences against morality   3,153   3,525  ...   5,492   7,233   8,051\n",
              "2  Other offences against persons  17,304  18,723  ...  22,515  25,049  27,196\n",
              "3                         Robbery   6,936   5,234  ...   2,713   2,935   2,858\n",
              "4                       Breakings   8,454   7,420  ...   6,131   5,970   5,976\n",
              "\n",
              "[5 rows x 16 columns]"
            ]
          },
          "metadata": {},
          "execution_count": 147
        }
      ]
    },
    {
      "cell_type": "code",
      "source": [
        "#save the updated dataframe to a new csv file \n",
        "\n",
        "df.to_csv('/content/drive/MyDrive/Colab Notebooks/School Project docs and files/Record_of_Crimes_from_2005_to_2019.csv')"
      ],
      "metadata": {
        "id": "03XtRs40B7XH"
      },
      "execution_count": null,
      "outputs": []
    },
    {
      "cell_type": "markdown",
      "source": [
        "**Creating new yearly datasets with corresponding yearly GDP values**"
      ],
      "metadata": {
        "id": "kJ5fwz8AHK8U"
      }
    },
    {
      "cell_type": "markdown",
      "source": [
        "**1. Loading the dataset**"
      ],
      "metadata": {
        "id": "PbjxhOKoMlrz"
      }
    },
    {
      "cell_type": "code",
      "source": [
        "pathdataset = '/content/drive/MyDrive/Colab Notebooks/School Project docs and files/Record_of_Crimes_from_2005_to_2019.csv'\n",
        "df = pd.read_csv(pathdataset)"
      ],
      "metadata": {
        "id": "W_9DmkzgFrfc"
      },
      "execution_count": null,
      "outputs": []
    },
    {
      "cell_type": "markdown",
      "source": [
        "**2.1 Creating dataset 2005 with GDP value**"
      ],
      "metadata": {
        "id": "_oa196o6MtmR"
      }
    },
    {
      "cell_type": "code",
      "source": [
        "# Creating yearly datasets from Master datasets by\n",
        "# splitting dataset yearly \n",
        "# and adding corresponding yearly GDPs as new column\n",
        "\n",
        "df.head()"
      ],
      "metadata": {
        "id": "kbP_wpCfzska",
        "colab": {
          "base_uri": "https://localhost:8080/",
          "height": 374
        },
        "outputId": "50dcec3f-ba9c-4fb6-dd42-969520939e45"
      },
      "execution_count": null,
      "outputs": [
        {
          "output_type": "execute_result",
          "data": {
            "text/html": [
              "\n",
              "  <div id=\"df-910c9b0d-69c5-4746-a2d0-49da6fa2d35a\">\n",
              "    <div class=\"colab-df-container\">\n",
              "      <div>\n",
              "<style scoped>\n",
              "    .dataframe tbody tr th:only-of-type {\n",
              "        vertical-align: middle;\n",
              "    }\n",
              "\n",
              "    .dataframe tbody tr th {\n",
              "        vertical-align: top;\n",
              "    }\n",
              "\n",
              "    .dataframe thead th {\n",
              "        text-align: right;\n",
              "    }\n",
              "</style>\n",
              "<table border=\"1\" class=\"dataframe\">\n",
              "  <thead>\n",
              "    <tr style=\"text-align: right;\">\n",
              "      <th></th>\n",
              "      <th>Unnamed: 0</th>\n",
              "      <th>Type of Crime</th>\n",
              "      <th>2005</th>\n",
              "      <th>2006</th>\n",
              "      <th>2007</th>\n",
              "      <th>2008</th>\n",
              "      <th>2009</th>\n",
              "      <th>2010</th>\n",
              "      <th>2011</th>\n",
              "      <th>2012</th>\n",
              "      <th>2013</th>\n",
              "      <th>2014</th>\n",
              "      <th>2015</th>\n",
              "      <th>2016</th>\n",
              "      <th>2017</th>\n",
              "      <th>2018</th>\n",
              "      <th>2019</th>\n",
              "    </tr>\n",
              "  </thead>\n",
              "  <tbody>\n",
              "    <tr>\n",
              "      <th>0</th>\n",
              "      <td>0</td>\n",
              "      <td>Homicide</td>\n",
              "      <td>2,313</td>\n",
              "      <td>2,090</td>\n",
              "      <td>1,912</td>\n",
              "      <td>2,037</td>\n",
              "      <td>2,214</td>\n",
              "      <td>2,239</td>\n",
              "      <td>2,641</td>\n",
              "      <td>2761</td>\n",
              "      <td>2,878</td>\n",
              "      <td>2,649</td>\n",
              "      <td>2,648</td>\n",
              "      <td>2,751</td>\n",
              "      <td>2,774</td>\n",
              "      <td>2,856</td>\n",
              "      <td>2,971</td>\n",
              "    </tr>\n",
              "    <tr>\n",
              "      <th>1</th>\n",
              "      <td>1</td>\n",
              "      <td>Offences against morality</td>\n",
              "      <td>3,153</td>\n",
              "      <td>3,525</td>\n",
              "      <td>3,673</td>\n",
              "      <td>3,116</td>\n",
              "      <td>4,068</td>\n",
              "      <td>4,817</td>\n",
              "      <td>4,703</td>\n",
              "      <td>4806</td>\n",
              "      <td>4,779</td>\n",
              "      <td>5,184</td>\n",
              "      <td>6,164</td>\n",
              "      <td>6,228</td>\n",
              "      <td>5,492</td>\n",
              "      <td>7,233</td>\n",
              "      <td>8,051</td>\n",
              "    </tr>\n",
              "    <tr>\n",
              "      <th>2</th>\n",
              "      <td>2</td>\n",
              "      <td>Other offences against persons</td>\n",
              "      <td>17,304</td>\n",
              "      <td>18,723</td>\n",
              "      <td>17,831</td>\n",
              "      <td>16,496</td>\n",
              "      <td>20,539</td>\n",
              "      <td>20,012</td>\n",
              "      <td>20,144</td>\n",
              "      <td>20698</td>\n",
              "      <td>19,344</td>\n",
              "      <td>19,911</td>\n",
              "      <td>21,174</td>\n",
              "      <td>22,295</td>\n",
              "      <td>22,515</td>\n",
              "      <td>25,049</td>\n",
              "      <td>27,196</td>\n",
              "    </tr>\n",
              "    <tr>\n",
              "      <th>3</th>\n",
              "      <td>3</td>\n",
              "      <td>Robbery</td>\n",
              "      <td>6,936</td>\n",
              "      <td>5,234</td>\n",
              "      <td>3,492</td>\n",
              "      <td>3,401</td>\n",
              "      <td>2,939</td>\n",
              "      <td>2,843</td>\n",
              "      <td>3,262</td>\n",
              "      <td>3,262</td>\n",
              "      <td>3,551</td>\n",
              "      <td>3,011</td>\n",
              "      <td>2,865</td>\n",
              "      <td>2,697</td>\n",
              "      <td>2,713</td>\n",
              "      <td>2,935</td>\n",
              "      <td>2,858</td>\n",
              "    </tr>\n",
              "    <tr>\n",
              "      <th>4</th>\n",
              "      <td>4</td>\n",
              "      <td>Breakings</td>\n",
              "      <td>8,454</td>\n",
              "      <td>7,420</td>\n",
              "      <td>6,337</td>\n",
              "      <td>6,626</td>\n",
              "      <td>7,053</td>\n",
              "      <td>6,453</td>\n",
              "      <td>7,325</td>\n",
              "      <td>7,578</td>\n",
              "      <td>6,397</td>\n",
              "      <td>5,656</td>\n",
              "      <td>5,591</td>\n",
              "      <td>5,621</td>\n",
              "      <td>6,131</td>\n",
              "      <td>5,970</td>\n",
              "      <td>5,976</td>\n",
              "    </tr>\n",
              "  </tbody>\n",
              "</table>\n",
              "</div>\n",
              "      <button class=\"colab-df-convert\" onclick=\"convertToInteractive('df-910c9b0d-69c5-4746-a2d0-49da6fa2d35a')\"\n",
              "              title=\"Convert this dataframe to an interactive table.\"\n",
              "              style=\"display:none;\">\n",
              "        \n",
              "  <svg xmlns=\"http://www.w3.org/2000/svg\" height=\"24px\"viewBox=\"0 0 24 24\"\n",
              "       width=\"24px\">\n",
              "    <path d=\"M0 0h24v24H0V0z\" fill=\"none\"/>\n",
              "    <path d=\"M18.56 5.44l.94 2.06.94-2.06 2.06-.94-2.06-.94-.94-2.06-.94 2.06-2.06.94zm-11 1L8.5 8.5l.94-2.06 2.06-.94-2.06-.94L8.5 2.5l-.94 2.06-2.06.94zm10 10l.94 2.06.94-2.06 2.06-.94-2.06-.94-.94-2.06-.94 2.06-2.06.94z\"/><path d=\"M17.41 7.96l-1.37-1.37c-.4-.4-.92-.59-1.43-.59-.52 0-1.04.2-1.43.59L10.3 9.45l-7.72 7.72c-.78.78-.78 2.05 0 2.83L4 21.41c.39.39.9.59 1.41.59.51 0 1.02-.2 1.41-.59l7.78-7.78 2.81-2.81c.8-.78.8-2.07 0-2.86zM5.41 20L4 18.59l7.72-7.72 1.47 1.35L5.41 20z\"/>\n",
              "  </svg>\n",
              "      </button>\n",
              "      \n",
              "  <style>\n",
              "    .colab-df-container {\n",
              "      display:flex;\n",
              "      flex-wrap:wrap;\n",
              "      gap: 12px;\n",
              "    }\n",
              "\n",
              "    .colab-df-convert {\n",
              "      background-color: #E8F0FE;\n",
              "      border: none;\n",
              "      border-radius: 50%;\n",
              "      cursor: pointer;\n",
              "      display: none;\n",
              "      fill: #1967D2;\n",
              "      height: 32px;\n",
              "      padding: 0 0 0 0;\n",
              "      width: 32px;\n",
              "    }\n",
              "\n",
              "    .colab-df-convert:hover {\n",
              "      background-color: #E2EBFA;\n",
              "      box-shadow: 0px 1px 2px rgba(60, 64, 67, 0.3), 0px 1px 3px 1px rgba(60, 64, 67, 0.15);\n",
              "      fill: #174EA6;\n",
              "    }\n",
              "\n",
              "    [theme=dark] .colab-df-convert {\n",
              "      background-color: #3B4455;\n",
              "      fill: #D2E3FC;\n",
              "    }\n",
              "\n",
              "    [theme=dark] .colab-df-convert:hover {\n",
              "      background-color: #434B5C;\n",
              "      box-shadow: 0px 1px 3px 1px rgba(0, 0, 0, 0.15);\n",
              "      filter: drop-shadow(0px 1px 2px rgba(0, 0, 0, 0.3));\n",
              "      fill: #FFFFFF;\n",
              "    }\n",
              "  </style>\n",
              "\n",
              "      <script>\n",
              "        const buttonEl =\n",
              "          document.querySelector('#df-910c9b0d-69c5-4746-a2d0-49da6fa2d35a button.colab-df-convert');\n",
              "        buttonEl.style.display =\n",
              "          google.colab.kernel.accessAllowed ? 'block' : 'none';\n",
              "\n",
              "        async function convertToInteractive(key) {\n",
              "          const element = document.querySelector('#df-910c9b0d-69c5-4746-a2d0-49da6fa2d35a');\n",
              "          const dataTable =\n",
              "            await google.colab.kernel.invokeFunction('convertToInteractive',\n",
              "                                                     [key], {});\n",
              "          if (!dataTable) return;\n",
              "\n",
              "          const docLinkHtml = 'Like what you see? Visit the ' +\n",
              "            '<a target=\"_blank\" href=https://colab.research.google.com/notebooks/data_table.ipynb>data table notebook</a>'\n",
              "            + ' to learn more about interactive tables.';\n",
              "          element.innerHTML = '';\n",
              "          dataTable['output_type'] = 'display_data';\n",
              "          await google.colab.output.renderOutput(dataTable, element);\n",
              "          const docLink = document.createElement('div');\n",
              "          docLink.innerHTML = docLinkHtml;\n",
              "          element.appendChild(docLink);\n",
              "        }\n",
              "      </script>\n",
              "    </div>\n",
              "  </div>\n",
              "  "
            ],
            "text/plain": [
              "   Unnamed: 0                   Type of Crime    2005  ...    2017    2018    2019\n",
              "0           0                        Homicide   2,313  ...   2,774   2,856   2,971\n",
              "1           1       Offences against morality   3,153  ...   5,492   7,233   8,051\n",
              "2           2  Other offences against persons  17,304  ...  22,515  25,049  27,196\n",
              "3           3                         Robbery   6,936  ...   2,713   2,935   2,858\n",
              "4           4                       Breakings   8,454  ...   6,131   5,970   5,976\n",
              "\n",
              "[5 rows x 17 columns]"
            ]
          },
          "metadata": {},
          "execution_count": 181
        }
      ]
    },
    {
      "cell_type": "code",
      "source": [
        "# Creating df2005 -> Crimes_Recorded_in_2005_and_Corresponding_GDP \n",
        "\n",
        "# drop unwanted columns\n",
        "df.drop(['Unnamed: 0', '2006', '2007', '2008', '2009', '2010', '2011', '2012', '2013', '2014', '2015', '2016', '2017', '2018', '2019'], axis=1, inplace=True)"
      ],
      "metadata": {
        "id": "14iwstm2Iie8"
      },
      "execution_count": null,
      "outputs": []
    },
    {
      "cell_type": "code",
      "source": [
        "df.head()"
      ],
      "metadata": {
        "id": "Goay-KvAOrD1",
        "colab": {
          "base_uri": "https://localhost:8080/",
          "height": 206
        },
        "outputId": "4165f981-9ba4-4c58-a670-708aca119200"
      },
      "execution_count": null,
      "outputs": [
        {
          "output_type": "execute_result",
          "data": {
            "text/html": [
              "\n",
              "  <div id=\"df-ff2e2239-69b3-49ff-af23-c61ba0fa5c86\">\n",
              "    <div class=\"colab-df-container\">\n",
              "      <div>\n",
              "<style scoped>\n",
              "    .dataframe tbody tr th:only-of-type {\n",
              "        vertical-align: middle;\n",
              "    }\n",
              "\n",
              "    .dataframe tbody tr th {\n",
              "        vertical-align: top;\n",
              "    }\n",
              "\n",
              "    .dataframe thead th {\n",
              "        text-align: right;\n",
              "    }\n",
              "</style>\n",
              "<table border=\"1\" class=\"dataframe\">\n",
              "  <thead>\n",
              "    <tr style=\"text-align: right;\">\n",
              "      <th></th>\n",
              "      <th>Type of Crime</th>\n",
              "      <th>2005</th>\n",
              "    </tr>\n",
              "  </thead>\n",
              "  <tbody>\n",
              "    <tr>\n",
              "      <th>0</th>\n",
              "      <td>Homicide</td>\n",
              "      <td>2,313</td>\n",
              "    </tr>\n",
              "    <tr>\n",
              "      <th>1</th>\n",
              "      <td>Offences against morality</td>\n",
              "      <td>3,153</td>\n",
              "    </tr>\n",
              "    <tr>\n",
              "      <th>2</th>\n",
              "      <td>Other offences against persons</td>\n",
              "      <td>17,304</td>\n",
              "    </tr>\n",
              "    <tr>\n",
              "      <th>3</th>\n",
              "      <td>Robbery</td>\n",
              "      <td>6,936</td>\n",
              "    </tr>\n",
              "    <tr>\n",
              "      <th>4</th>\n",
              "      <td>Breakings</td>\n",
              "      <td>8,454</td>\n",
              "    </tr>\n",
              "  </tbody>\n",
              "</table>\n",
              "</div>\n",
              "      <button class=\"colab-df-convert\" onclick=\"convertToInteractive('df-ff2e2239-69b3-49ff-af23-c61ba0fa5c86')\"\n",
              "              title=\"Convert this dataframe to an interactive table.\"\n",
              "              style=\"display:none;\">\n",
              "        \n",
              "  <svg xmlns=\"http://www.w3.org/2000/svg\" height=\"24px\"viewBox=\"0 0 24 24\"\n",
              "       width=\"24px\">\n",
              "    <path d=\"M0 0h24v24H0V0z\" fill=\"none\"/>\n",
              "    <path d=\"M18.56 5.44l.94 2.06.94-2.06 2.06-.94-2.06-.94-.94-2.06-.94 2.06-2.06.94zm-11 1L8.5 8.5l.94-2.06 2.06-.94-2.06-.94L8.5 2.5l-.94 2.06-2.06.94zm10 10l.94 2.06.94-2.06 2.06-.94-2.06-.94-.94-2.06-.94 2.06-2.06.94z\"/><path d=\"M17.41 7.96l-1.37-1.37c-.4-.4-.92-.59-1.43-.59-.52 0-1.04.2-1.43.59L10.3 9.45l-7.72 7.72c-.78.78-.78 2.05 0 2.83L4 21.41c.39.39.9.59 1.41.59.51 0 1.02-.2 1.41-.59l7.78-7.78 2.81-2.81c.8-.78.8-2.07 0-2.86zM5.41 20L4 18.59l7.72-7.72 1.47 1.35L5.41 20z\"/>\n",
              "  </svg>\n",
              "      </button>\n",
              "      \n",
              "  <style>\n",
              "    .colab-df-container {\n",
              "      display:flex;\n",
              "      flex-wrap:wrap;\n",
              "      gap: 12px;\n",
              "    }\n",
              "\n",
              "    .colab-df-convert {\n",
              "      background-color: #E8F0FE;\n",
              "      border: none;\n",
              "      border-radius: 50%;\n",
              "      cursor: pointer;\n",
              "      display: none;\n",
              "      fill: #1967D2;\n",
              "      height: 32px;\n",
              "      padding: 0 0 0 0;\n",
              "      width: 32px;\n",
              "    }\n",
              "\n",
              "    .colab-df-convert:hover {\n",
              "      background-color: #E2EBFA;\n",
              "      box-shadow: 0px 1px 2px rgba(60, 64, 67, 0.3), 0px 1px 3px 1px rgba(60, 64, 67, 0.15);\n",
              "      fill: #174EA6;\n",
              "    }\n",
              "\n",
              "    [theme=dark] .colab-df-convert {\n",
              "      background-color: #3B4455;\n",
              "      fill: #D2E3FC;\n",
              "    }\n",
              "\n",
              "    [theme=dark] .colab-df-convert:hover {\n",
              "      background-color: #434B5C;\n",
              "      box-shadow: 0px 1px 3px 1px rgba(0, 0, 0, 0.15);\n",
              "      filter: drop-shadow(0px 1px 2px rgba(0, 0, 0, 0.3));\n",
              "      fill: #FFFFFF;\n",
              "    }\n",
              "  </style>\n",
              "\n",
              "      <script>\n",
              "        const buttonEl =\n",
              "          document.querySelector('#df-ff2e2239-69b3-49ff-af23-c61ba0fa5c86 button.colab-df-convert');\n",
              "        buttonEl.style.display =\n",
              "          google.colab.kernel.accessAllowed ? 'block' : 'none';\n",
              "\n",
              "        async function convertToInteractive(key) {\n",
              "          const element = document.querySelector('#df-ff2e2239-69b3-49ff-af23-c61ba0fa5c86');\n",
              "          const dataTable =\n",
              "            await google.colab.kernel.invokeFunction('convertToInteractive',\n",
              "                                                     [key], {});\n",
              "          if (!dataTable) return;\n",
              "\n",
              "          const docLinkHtml = 'Like what you see? Visit the ' +\n",
              "            '<a target=\"_blank\" href=https://colab.research.google.com/notebooks/data_table.ipynb>data table notebook</a>'\n",
              "            + ' to learn more about interactive tables.';\n",
              "          element.innerHTML = '';\n",
              "          dataTable['output_type'] = 'display_data';\n",
              "          await google.colab.output.renderOutput(dataTable, element);\n",
              "          const docLink = document.createElement('div');\n",
              "          docLink.innerHTML = docLinkHtml;\n",
              "          element.appendChild(docLink);\n",
              "        }\n",
              "      </script>\n",
              "    </div>\n",
              "  </div>\n",
              "  "
            ],
            "text/plain": [
              "                    Type of Crime    2005\n",
              "0                        Homicide   2,313\n",
              "1       Offences against morality   3,153\n",
              "2  Other offences against persons  17,304\n",
              "3                         Robbery   6,936\n",
              "4                       Breakings   8,454"
            ]
          },
          "metadata": {},
          "execution_count": 183
        }
      ]
    },
    {
      "cell_type": "code",
      "source": [
        "# Rename column '2005' to 'Number of Crimes Reported'\n",
        "df.rename(columns={'2005': 'Number of Crimes Reported'}, inplace=True)"
      ],
      "metadata": {
        "id": "DsJFYTE1SIAx"
      },
      "execution_count": null,
      "outputs": []
    },
    {
      "cell_type": "code",
      "source": [
        "df.head()"
      ],
      "metadata": {
        "id": "VaaMGfiRVAcV",
        "colab": {
          "base_uri": "https://localhost:8080/",
          "height": 206
        },
        "outputId": "bdf2ce5a-46d5-497a-a482-c9b086e81d71"
      },
      "execution_count": null,
      "outputs": [
        {
          "output_type": "execute_result",
          "data": {
            "text/html": [
              "\n",
              "  <div id=\"df-63841564-d474-4a3a-8074-ce189e3a3204\">\n",
              "    <div class=\"colab-df-container\">\n",
              "      <div>\n",
              "<style scoped>\n",
              "    .dataframe tbody tr th:only-of-type {\n",
              "        vertical-align: middle;\n",
              "    }\n",
              "\n",
              "    .dataframe tbody tr th {\n",
              "        vertical-align: top;\n",
              "    }\n",
              "\n",
              "    .dataframe thead th {\n",
              "        text-align: right;\n",
              "    }\n",
              "</style>\n",
              "<table border=\"1\" class=\"dataframe\">\n",
              "  <thead>\n",
              "    <tr style=\"text-align: right;\">\n",
              "      <th></th>\n",
              "      <th>Type of Crime</th>\n",
              "      <th>Number of Crimes Reported</th>\n",
              "    </tr>\n",
              "  </thead>\n",
              "  <tbody>\n",
              "    <tr>\n",
              "      <th>0</th>\n",
              "      <td>Homicide</td>\n",
              "      <td>2,313</td>\n",
              "    </tr>\n",
              "    <tr>\n",
              "      <th>1</th>\n",
              "      <td>Offences against morality</td>\n",
              "      <td>3,153</td>\n",
              "    </tr>\n",
              "    <tr>\n",
              "      <th>2</th>\n",
              "      <td>Other offences against persons</td>\n",
              "      <td>17,304</td>\n",
              "    </tr>\n",
              "    <tr>\n",
              "      <th>3</th>\n",
              "      <td>Robbery</td>\n",
              "      <td>6,936</td>\n",
              "    </tr>\n",
              "    <tr>\n",
              "      <th>4</th>\n",
              "      <td>Breakings</td>\n",
              "      <td>8,454</td>\n",
              "    </tr>\n",
              "  </tbody>\n",
              "</table>\n",
              "</div>\n",
              "      <button class=\"colab-df-convert\" onclick=\"convertToInteractive('df-63841564-d474-4a3a-8074-ce189e3a3204')\"\n",
              "              title=\"Convert this dataframe to an interactive table.\"\n",
              "              style=\"display:none;\">\n",
              "        \n",
              "  <svg xmlns=\"http://www.w3.org/2000/svg\" height=\"24px\"viewBox=\"0 0 24 24\"\n",
              "       width=\"24px\">\n",
              "    <path d=\"M0 0h24v24H0V0z\" fill=\"none\"/>\n",
              "    <path d=\"M18.56 5.44l.94 2.06.94-2.06 2.06-.94-2.06-.94-.94-2.06-.94 2.06-2.06.94zm-11 1L8.5 8.5l.94-2.06 2.06-.94-2.06-.94L8.5 2.5l-.94 2.06-2.06.94zm10 10l.94 2.06.94-2.06 2.06-.94-2.06-.94-.94-2.06-.94 2.06-2.06.94z\"/><path d=\"M17.41 7.96l-1.37-1.37c-.4-.4-.92-.59-1.43-.59-.52 0-1.04.2-1.43.59L10.3 9.45l-7.72 7.72c-.78.78-.78 2.05 0 2.83L4 21.41c.39.39.9.59 1.41.59.51 0 1.02-.2 1.41-.59l7.78-7.78 2.81-2.81c.8-.78.8-2.07 0-2.86zM5.41 20L4 18.59l7.72-7.72 1.47 1.35L5.41 20z\"/>\n",
              "  </svg>\n",
              "      </button>\n",
              "      \n",
              "  <style>\n",
              "    .colab-df-container {\n",
              "      display:flex;\n",
              "      flex-wrap:wrap;\n",
              "      gap: 12px;\n",
              "    }\n",
              "\n",
              "    .colab-df-convert {\n",
              "      background-color: #E8F0FE;\n",
              "      border: none;\n",
              "      border-radius: 50%;\n",
              "      cursor: pointer;\n",
              "      display: none;\n",
              "      fill: #1967D2;\n",
              "      height: 32px;\n",
              "      padding: 0 0 0 0;\n",
              "      width: 32px;\n",
              "    }\n",
              "\n",
              "    .colab-df-convert:hover {\n",
              "      background-color: #E2EBFA;\n",
              "      box-shadow: 0px 1px 2px rgba(60, 64, 67, 0.3), 0px 1px 3px 1px rgba(60, 64, 67, 0.15);\n",
              "      fill: #174EA6;\n",
              "    }\n",
              "\n",
              "    [theme=dark] .colab-df-convert {\n",
              "      background-color: #3B4455;\n",
              "      fill: #D2E3FC;\n",
              "    }\n",
              "\n",
              "    [theme=dark] .colab-df-convert:hover {\n",
              "      background-color: #434B5C;\n",
              "      box-shadow: 0px 1px 3px 1px rgba(0, 0, 0, 0.15);\n",
              "      filter: drop-shadow(0px 1px 2px rgba(0, 0, 0, 0.3));\n",
              "      fill: #FFFFFF;\n",
              "    }\n",
              "  </style>\n",
              "\n",
              "      <script>\n",
              "        const buttonEl =\n",
              "          document.querySelector('#df-63841564-d474-4a3a-8074-ce189e3a3204 button.colab-df-convert');\n",
              "        buttonEl.style.display =\n",
              "          google.colab.kernel.accessAllowed ? 'block' : 'none';\n",
              "\n",
              "        async function convertToInteractive(key) {\n",
              "          const element = document.querySelector('#df-63841564-d474-4a3a-8074-ce189e3a3204');\n",
              "          const dataTable =\n",
              "            await google.colab.kernel.invokeFunction('convertToInteractive',\n",
              "                                                     [key], {});\n",
              "          if (!dataTable) return;\n",
              "\n",
              "          const docLinkHtml = 'Like what you see? Visit the ' +\n",
              "            '<a target=\"_blank\" href=https://colab.research.google.com/notebooks/data_table.ipynb>data table notebook</a>'\n",
              "            + ' to learn more about interactive tables.';\n",
              "          element.innerHTML = '';\n",
              "          dataTable['output_type'] = 'display_data';\n",
              "          await google.colab.output.renderOutput(dataTable, element);\n",
              "          const docLink = document.createElement('div');\n",
              "          docLink.innerHTML = docLinkHtml;\n",
              "          element.appendChild(docLink);\n",
              "        }\n",
              "      </script>\n",
              "    </div>\n",
              "  </div>\n",
              "  "
            ],
            "text/plain": [
              "                    Type of Crime Number of Crimes Reported\n",
              "0                        Homicide                     2,313\n",
              "1       Offences against morality                     3,153\n",
              "2  Other offences against persons                    17,304\n",
              "3                         Robbery                     6,936\n",
              "4                       Breakings                     8,454"
            ]
          },
          "metadata": {},
          "execution_count": 185
        }
      ]
    },
    {
      "cell_type": "code",
      "source": [
        "# add new column 'Year' with date entries\n",
        "df.insert(0, 'Year', ([\"2005-01-01\"]*17))\n",
        "\n",
        "# add new column 'GDP' and value\n",
        "df.insert(3, 'Gross Domenstic Product (GDP)', ([5.9]*17))"
      ],
      "metadata": {
        "id": "Lchl7T8cQkrb"
      },
      "execution_count": null,
      "outputs": []
    },
    {
      "cell_type": "code",
      "source": [
        "df.head()"
      ],
      "metadata": {
        "id": "4ijROGHt9lYf",
        "colab": {
          "base_uri": "https://localhost:8080/",
          "height": 206
        },
        "outputId": "b5e46c88-fa22-4b68-ecbb-61c082f464e7"
      },
      "execution_count": null,
      "outputs": [
        {
          "output_type": "execute_result",
          "data": {
            "text/html": [
              "\n",
              "  <div id=\"df-07e2a02e-39f6-4888-b72a-73a97f874eb6\">\n",
              "    <div class=\"colab-df-container\">\n",
              "      <div>\n",
              "<style scoped>\n",
              "    .dataframe tbody tr th:only-of-type {\n",
              "        vertical-align: middle;\n",
              "    }\n",
              "\n",
              "    .dataframe tbody tr th {\n",
              "        vertical-align: top;\n",
              "    }\n",
              "\n",
              "    .dataframe thead th {\n",
              "        text-align: right;\n",
              "    }\n",
              "</style>\n",
              "<table border=\"1\" class=\"dataframe\">\n",
              "  <thead>\n",
              "    <tr style=\"text-align: right;\">\n",
              "      <th></th>\n",
              "      <th>Year</th>\n",
              "      <th>Type of Crime</th>\n",
              "      <th>Number of Crimes Reported</th>\n",
              "      <th>Gross Domenstic Product (GDP)</th>\n",
              "    </tr>\n",
              "  </thead>\n",
              "  <tbody>\n",
              "    <tr>\n",
              "      <th>0</th>\n",
              "      <td>2005-01-01</td>\n",
              "      <td>Homicide</td>\n",
              "      <td>2,313</td>\n",
              "      <td>5.9</td>\n",
              "    </tr>\n",
              "    <tr>\n",
              "      <th>1</th>\n",
              "      <td>2005-01-01</td>\n",
              "      <td>Offences against morality</td>\n",
              "      <td>3,153</td>\n",
              "      <td>5.9</td>\n",
              "    </tr>\n",
              "    <tr>\n",
              "      <th>2</th>\n",
              "      <td>2005-01-01</td>\n",
              "      <td>Other offences against persons</td>\n",
              "      <td>17,304</td>\n",
              "      <td>5.9</td>\n",
              "    </tr>\n",
              "    <tr>\n",
              "      <th>3</th>\n",
              "      <td>2005-01-01</td>\n",
              "      <td>Robbery</td>\n",
              "      <td>6,936</td>\n",
              "      <td>5.9</td>\n",
              "    </tr>\n",
              "    <tr>\n",
              "      <th>4</th>\n",
              "      <td>2005-01-01</td>\n",
              "      <td>Breakings</td>\n",
              "      <td>8,454</td>\n",
              "      <td>5.9</td>\n",
              "    </tr>\n",
              "  </tbody>\n",
              "</table>\n",
              "</div>\n",
              "      <button class=\"colab-df-convert\" onclick=\"convertToInteractive('df-07e2a02e-39f6-4888-b72a-73a97f874eb6')\"\n",
              "              title=\"Convert this dataframe to an interactive table.\"\n",
              "              style=\"display:none;\">\n",
              "        \n",
              "  <svg xmlns=\"http://www.w3.org/2000/svg\" height=\"24px\"viewBox=\"0 0 24 24\"\n",
              "       width=\"24px\">\n",
              "    <path d=\"M0 0h24v24H0V0z\" fill=\"none\"/>\n",
              "    <path d=\"M18.56 5.44l.94 2.06.94-2.06 2.06-.94-2.06-.94-.94-2.06-.94 2.06-2.06.94zm-11 1L8.5 8.5l.94-2.06 2.06-.94-2.06-.94L8.5 2.5l-.94 2.06-2.06.94zm10 10l.94 2.06.94-2.06 2.06-.94-2.06-.94-.94-2.06-.94 2.06-2.06.94z\"/><path d=\"M17.41 7.96l-1.37-1.37c-.4-.4-.92-.59-1.43-.59-.52 0-1.04.2-1.43.59L10.3 9.45l-7.72 7.72c-.78.78-.78 2.05 0 2.83L4 21.41c.39.39.9.59 1.41.59.51 0 1.02-.2 1.41-.59l7.78-7.78 2.81-2.81c.8-.78.8-2.07 0-2.86zM5.41 20L4 18.59l7.72-7.72 1.47 1.35L5.41 20z\"/>\n",
              "  </svg>\n",
              "      </button>\n",
              "      \n",
              "  <style>\n",
              "    .colab-df-container {\n",
              "      display:flex;\n",
              "      flex-wrap:wrap;\n",
              "      gap: 12px;\n",
              "    }\n",
              "\n",
              "    .colab-df-convert {\n",
              "      background-color: #E8F0FE;\n",
              "      border: none;\n",
              "      border-radius: 50%;\n",
              "      cursor: pointer;\n",
              "      display: none;\n",
              "      fill: #1967D2;\n",
              "      height: 32px;\n",
              "      padding: 0 0 0 0;\n",
              "      width: 32px;\n",
              "    }\n",
              "\n",
              "    .colab-df-convert:hover {\n",
              "      background-color: #E2EBFA;\n",
              "      box-shadow: 0px 1px 2px rgba(60, 64, 67, 0.3), 0px 1px 3px 1px rgba(60, 64, 67, 0.15);\n",
              "      fill: #174EA6;\n",
              "    }\n",
              "\n",
              "    [theme=dark] .colab-df-convert {\n",
              "      background-color: #3B4455;\n",
              "      fill: #D2E3FC;\n",
              "    }\n",
              "\n",
              "    [theme=dark] .colab-df-convert:hover {\n",
              "      background-color: #434B5C;\n",
              "      box-shadow: 0px 1px 3px 1px rgba(0, 0, 0, 0.15);\n",
              "      filter: drop-shadow(0px 1px 2px rgba(0, 0, 0, 0.3));\n",
              "      fill: #FFFFFF;\n",
              "    }\n",
              "  </style>\n",
              "\n",
              "      <script>\n",
              "        const buttonEl =\n",
              "          document.querySelector('#df-07e2a02e-39f6-4888-b72a-73a97f874eb6 button.colab-df-convert');\n",
              "        buttonEl.style.display =\n",
              "          google.colab.kernel.accessAllowed ? 'block' : 'none';\n",
              "\n",
              "        async function convertToInteractive(key) {\n",
              "          const element = document.querySelector('#df-07e2a02e-39f6-4888-b72a-73a97f874eb6');\n",
              "          const dataTable =\n",
              "            await google.colab.kernel.invokeFunction('convertToInteractive',\n",
              "                                                     [key], {});\n",
              "          if (!dataTable) return;\n",
              "\n",
              "          const docLinkHtml = 'Like what you see? Visit the ' +\n",
              "            '<a target=\"_blank\" href=https://colab.research.google.com/notebooks/data_table.ipynb>data table notebook</a>'\n",
              "            + ' to learn more about interactive tables.';\n",
              "          element.innerHTML = '';\n",
              "          dataTable['output_type'] = 'display_data';\n",
              "          await google.colab.output.renderOutput(dataTable, element);\n",
              "          const docLink = document.createElement('div');\n",
              "          docLink.innerHTML = docLinkHtml;\n",
              "          element.appendChild(docLink);\n",
              "        }\n",
              "      </script>\n",
              "    </div>\n",
              "  </div>\n",
              "  "
            ],
            "text/plain": [
              "         Year  ... Gross Domenstic Product (GDP)\n",
              "0  2005-01-01  ...                           5.9\n",
              "1  2005-01-01  ...                           5.9\n",
              "2  2005-01-01  ...                           5.9\n",
              "3  2005-01-01  ...                           5.9\n",
              "4  2005-01-01  ...                           5.9\n",
              "\n",
              "[5 rows x 4 columns]"
            ]
          },
          "metadata": {},
          "execution_count": 187
        }
      ]
    },
    {
      "cell_type": "code",
      "source": [
        "#saving the new df to CSV file -> 2005_Crimes_and_GDP.csv\n",
        "df.to_csv('/content/drive/MyDrive/Colab Notebooks/School Project docs and files/2005_Crimes_and_GDP.csv')"
      ],
      "metadata": {
        "id": "jCHHgklIUTnZ"
      },
      "execution_count": null,
      "outputs": []
    },
    {
      "cell_type": "code",
      "source": [
        ""
      ],
      "metadata": {
        "id": "0IoQqjVeZsxX"
      },
      "execution_count": null,
      "outputs": []
    },
    {
      "cell_type": "code",
      "source": [
        "#Creating new CSV file -> 2006_Crimes_and_GDP.csv from Master Dataset\n",
        "\n",
        "pathdataset = '/content/drive/MyDrive/Colab Notebooks/School Project docs and files/Record_of_Crimes_from_2005_to_2019.csv'\n",
        "df = pd.read_csv(pathdataset)\n",
        "\n",
        "#drop unwanted columns\n",
        "df.drop(['Unnamed: 0', '2005', '2007', '2008', '2009', '2010', '2011', '2012', '2013', '2014', '2015', '2016', '2017', '2018', '2019'], axis=1, inplace=True)\n",
        "\n",
        "#Rename column '2006' to 'Number of Crimes Reported'\n",
        "df.rename(columns={'2006': 'Number of Crimes Reported'}, inplace=True)\n",
        "\n",
        "# add new column 'Year' before 'Type of Crime'\n",
        "df.insert(0, 'Year', ([\"2006-01-01\"]*17))\n",
        "df.insert(3, 'Gross Domenstic Product (GDP)', ([6.3]*17))\n",
        "\n",
        "#saving the new df to CSV file -> 2006_Crimes_and_GDP.csv\n",
        "df.to_csv('/content/drive/MyDrive/Colab Notebooks/School Project docs and files/2006_Crimes_and_GDP.csv')"
      ],
      "metadata": {
        "id": "GdGDVJlXV4Ki"
      },
      "execution_count": null,
      "outputs": []
    },
    {
      "cell_type": "code",
      "source": [
        ""
      ],
      "metadata": {
        "id": "G8akDrteX9NU"
      },
      "execution_count": null,
      "outputs": []
    },
    {
      "cell_type": "code",
      "source": [
        "#Creating new CSV file -> 2007_Crimes_and_GDP.csv from Master Dataset\n",
        "\n",
        "pathdataset = '/content/drive/MyDrive/Colab Notebooks/School Project docs and files/Record_of_Crimes_from_2005_to_2019.csv'\n",
        "df = pd.read_csv(pathdataset)\n",
        "\n",
        "#drop unwanted columns\n",
        "df.drop(['Unnamed: 0', '2005', '2006', '2008', '2009', '2010', '2011', '2012', '2013', '2014', '2015', '2016', '2017', '2018', '2019'], axis=1, inplace=True)\n",
        "\n",
        "#Rename column '2007' to 'Number of Crimes Reported'\n",
        "df.rename(columns={'2007': 'Number of Crimes Reported'}, inplace=True)\n",
        "\n",
        "# add new column 'Year' before 'Type of Crime'\n",
        "df.insert(0, 'Year', ([\"2007-01-01\"]*17))\n",
        "df.insert(3, 'Gross Domenstic Product (GDP)', ([7.0]*17))\n",
        "\n",
        "#saving the new df to CSV file -> 2007_Crimes_and_GDP.csv\n",
        "df.to_csv('/content/drive/MyDrive/Colab Notebooks/School Project docs and files/2007_Crimes_and_GDP.csv')"
      ],
      "metadata": {
        "id": "8LLvTRCsaibY"
      },
      "execution_count": null,
      "outputs": []
    },
    {
      "cell_type": "code",
      "source": [
        ""
      ],
      "metadata": {
        "id": "9afv_4s-bAmT"
      },
      "execution_count": null,
      "outputs": []
    },
    {
      "cell_type": "code",
      "source": [
        "#Creating new CSV file -> 2008_Crimes_and_GDP.csv from Master Dataset\n",
        "\n",
        "pathdataset = '/content/drive/MyDrive/Colab Notebooks/School Project docs and files/Record_of_Crimes_from_2005_to_2019.csv'\n",
        "df = pd.read_csv(pathdataset)\n",
        "\n",
        "df.drop(['Unnamed: 0', '2005', '2006', '2007', '2009', '2010', '2011', '2012', '2013', '2014', '2015', '2016', '2017', '2018', '2019'], axis=1, inplace=True)\n",
        "\n",
        "#Rename column '2008' to 'Number of Crimes Reported'\n",
        "df.rename(columns={'2008': 'Number of Crimes Reported'}, inplace=True)\n",
        "\n",
        "# add new column 'Year' before 'Type of Crime'\n",
        "df.insert(0, 'Year', ([\"2008-01-01\"]*17))\n",
        "df.insert(3, 'Gross Domenstic Product (GDP)', ([1.5]*17))\n",
        "\n",
        "#saving the new df to CSV file -> 2008_Crimes_and_GDP.csv\n",
        "df.to_csv('/content/drive/MyDrive/Colab Notebooks/School Project docs and files/2008_Crimes_and_GDP.csv')"
      ],
      "metadata": {
        "id": "09VDZhHnbTYX"
      },
      "execution_count": null,
      "outputs": []
    },
    {
      "cell_type": "code",
      "source": [
        ""
      ],
      "metadata": {
        "id": "OiVwNlzebTro"
      },
      "execution_count": null,
      "outputs": []
    },
    {
      "cell_type": "code",
      "source": [
        "#Creating new CSV file -> 2009_Crimes_and_GDP.csv from Master Dataset\n",
        "\n",
        "pathdataset = '/content/drive/MyDrive/Colab Notebooks/School Project docs and files/Record_of_Crimes_from_2005_to_2019.csv'\n",
        "df = pd.read_csv(pathdataset)\n",
        "\n",
        "df.drop(['Unnamed: 0', '2005', '2006', '2007', '2008', '2010', '2011', '2012', '2013', '2014', '2015', '2016', '2017', '2018', '2019'], axis=1, inplace=True)\n",
        "\n",
        "#Rename column '2009' to 'Number of Crimes Reported'\n",
        "df.rename(columns={'2009': 'Number of Crimes Reported'}, inplace=True)\n",
        "\n",
        "# add new column 'Year' before 'Type of Crime'\n",
        "df.insert(0, 'Year', ([\"2009-01-01\"]*17))\n",
        "df.insert(3, 'Gross Domenstic Product (GDP)', ([2.7]*17))\n",
        "\n",
        "#saving the new df to CSV file -> 2009_Crimes_and_GDP.csv\n",
        "df.to_csv('/content/drive/MyDrive/Colab Notebooks/School Project docs and files/2009_Crimes_and_GDP.csv')"
      ],
      "metadata": {
        "id": "WSyR5X20bT8p"
      },
      "execution_count": null,
      "outputs": []
    },
    {
      "cell_type": "code",
      "source": [
        ""
      ],
      "metadata": {
        "id": "8buPW0AubUOp"
      },
      "execution_count": null,
      "outputs": []
    },
    {
      "cell_type": "code",
      "source": [
        "#Creating new CSV file -> 2010_Crimes_and_GDP.csv from Master Dataset\n",
        "\n",
        "pathdataset = '/content/drive/MyDrive/Colab Notebooks/School Project docs and files/Record_of_Crimes_from_2005_to_2019.csv'\n",
        "df = pd.read_csv(pathdataset)\n",
        "\n",
        "df.drop(['Unnamed: 0', '2005', '2006', '2007', '2008', '2009', '2011', '2012', '2013', '2014', '2015', '2016', '2017', '2018', '2019'], axis=1, inplace=True)\n",
        "\n",
        "#Rename column '2010' to 'Number of Crimes Reported'\n",
        "df.rename(columns={'2010': 'Number of Crimes Reported'}, inplace=True)\n",
        "\n",
        "# add new column 'Year' before 'Type of Crime'\n",
        "df.insert(0, 'Year', ([\"2010-01-01\"]*17))\n",
        "df.insert(3, 'Gross Domenstic Product (GDP)', ([5.8]*17))\n",
        "\n",
        "#saving the new df to CSV file -> 2010_Crimes_and_GDP.csv\n",
        "df.to_csv('/content/drive/MyDrive/Colab Notebooks/School Project docs and files/2010_Crimes_and_GDP.csv')"
      ],
      "metadata": {
        "id": "f1LsV3zqbUdx"
      },
      "execution_count": null,
      "outputs": []
    },
    {
      "cell_type": "code",
      "source": [
        ""
      ],
      "metadata": {
        "id": "mWFmc2kmbUvj"
      },
      "execution_count": null,
      "outputs": []
    },
    {
      "cell_type": "code",
      "source": [
        "#Creating new CSV file -> 2011_Crimes_and_GDP.csv from Master Dataset\n",
        "\n",
        "pathdataset = '/content/drive/MyDrive/Colab Notebooks/School Project docs and files/Record_of_Crimes_from_2005_to_2019.csv'\n",
        "df = pd.read_csv(pathdataset)\n",
        "\n",
        "df.drop(['Unnamed: 0', '2005', '2006', '2007', '2008', '2009', '2010', '2012', '2013', '2014', '2015', '2016', '2017', '2018', '2019'], axis=1, inplace=True)\n",
        "\n",
        "#Rename column '2011' to 'Number of Crimes Reported'\n",
        "df.rename(columns={'2011': 'Number of Crimes Reported'}, inplace=True)\n",
        "\n",
        "# add new column 'Year' before 'Type of Crime'\n",
        "df.insert(0, 'Year', ([\"2011-01-01\"]*17))\n",
        "df.insert(3, 'Gross Domenstic Product (GDP)', ([4.4]*17))\n",
        "\n",
        "#saving the new df to CSV file -> 2011_Crimes_and_GDP.csv\n",
        "df.to_csv('/content/drive/MyDrive/Colab Notebooks/School Project docs and files/2011_Crimes_and_GDP.csv')"
      ],
      "metadata": {
        "id": "65GocFa-bU1x"
      },
      "execution_count": null,
      "outputs": []
    },
    {
      "cell_type": "code",
      "source": [
        ""
      ],
      "metadata": {
        "id": "MSXfstvfbU6D"
      },
      "execution_count": null,
      "outputs": []
    },
    {
      "cell_type": "code",
      "source": [
        "#Creating new CSV file -> 2012_Crimes_and_GDP.csv from Master Dataset\n",
        "\n",
        "pathdataset = '/content/drive/MyDrive/Colab Notebooks/School Project docs and files/Record_of_Crimes_from_2005_to_2019.csv'\n",
        "df = pd.read_csv(pathdataset)\n",
        "\n",
        "df.drop(['Unnamed: 0', '2005', '2006', '2007', '2008', '2009', '2010', '2011', '2013', '2014', '2015', '2016', '2017', '2018', '2019'], axis=1, inplace=True)\n",
        "\n",
        "#Rename column '2012' to 'Number of Crimes Reported'\n",
        "df.rename(columns={'2012': 'Number of Crimes Reported'}, inplace=True)\n",
        "\n",
        "# add new column 'Year' before 'Type of Crime'\n",
        "df.insert(0, 'Year', ([\"2012-01-01\"]*17))\n",
        "df.insert(3, 'Gross Domenstic Product (GDP)', ([4.6]*17))\n",
        "\n",
        "#saving the new df to CSV file -> 2012_Crimes_and_GDP.csv\n",
        "df.to_csv('/content/drive/MyDrive/Colab Notebooks/School Project docs and files/2012_Crimes_and_GDP.csv')"
      ],
      "metadata": {
        "id": "UvaeAuZ7bU-d"
      },
      "execution_count": null,
      "outputs": []
    },
    {
      "cell_type": "code",
      "source": [
        ""
      ],
      "metadata": {
        "id": "1pB9uj7PbVCj"
      },
      "execution_count": null,
      "outputs": []
    },
    {
      "cell_type": "code",
      "source": [
        "#Creating new CSV file -> 2013_Crimes_and_GDP.csv from Master Dataset\n",
        "\n",
        "pathdataset = '/content/drive/MyDrive/Colab Notebooks/School Project docs and files/Record_of_Crimes_from_2005_to_2019.csv'\n",
        "df = pd.read_csv(pathdataset)\n",
        "\n",
        "df.drop(['Unnamed: 0', '2005', '2006', '2007', '2008', '2009', '2010', '2011', '2012', '2014', '2015', '2016', '2017', '2018', '2019'], axis=1, inplace=True)\n",
        "\n",
        "#Rename column '2013' to 'Number of Crimes Reported'\n",
        "df.rename(columns={'2013': 'Number of Crimes Reported'}, inplace=True)\n",
        "\n",
        "# add new column 'Year' before 'Type of Crime'\n",
        "df.insert(0, 'Year', ([\"2013-01-01\"]*17))\n",
        "df.insert(3, 'Gross Domenstic Product (GDP)', ([5.9]*17))\n",
        "\n",
        "#saving the new df to CSV file -> 2005_Crimes_and_GDP.csv\n",
        "df.to_csv('/content/drive/MyDrive/Colab Notebooks/School Project docs and files/2013_Crimes_and_GDP.csv')"
      ],
      "metadata": {
        "id": "jpIP9YSrbVGd"
      },
      "execution_count": null,
      "outputs": []
    },
    {
      "cell_type": "code",
      "source": [
        ""
      ],
      "metadata": {
        "id": "BRGotqCVeb6v"
      },
      "execution_count": null,
      "outputs": []
    },
    {
      "cell_type": "code",
      "source": [
        "#Creating new CSV file -> 2014_Crimes_and_GDP.csv from Master Dataset\n",
        "\n",
        "pathdataset = '/content/drive/MyDrive/Colab Notebooks/School Project docs and files/Record_of_Crimes_from_2005_to_2019.csv'\n",
        "df = pd.read_csv(pathdataset)\n",
        "\n",
        "df.drop(['Unnamed: 0', '2005', '2006', '2007', '2008', '2009', '2010', '2011', '2012', '2013', '2015', '2016', '2017', '2018', '2019'], axis=1, inplace=True)\n",
        "\n",
        "#Rename column '2014' to 'Number of Crimes Reported'\n",
        "df.rename(columns={'2014': 'Number of Crimes Reported'}, inplace=True)\n",
        "\n",
        "# add new column 'Year' before 'Type of Crime'\n",
        "df.insert(0, 'Year', ([\"2014-01-01\"]*17))\n",
        "df.insert(3, 'Gross Domenstic Product (GDP)', ([5.4]*17))\n",
        "\n",
        "#saving the new df to CSV file -> 2005_Crimes_and_GDP.csv\n",
        "df.to_csv('/content/drive/MyDrive/Colab Notebooks/School Project docs and files/2014_Crimes_and_GDP.csv')"
      ],
      "metadata": {
        "id": "IsMzlkmqeeVm"
      },
      "execution_count": null,
      "outputs": []
    },
    {
      "cell_type": "code",
      "source": [
        ""
      ],
      "metadata": {
        "id": "otNU3DjZeeq-"
      },
      "execution_count": null,
      "outputs": []
    },
    {
      "cell_type": "code",
      "source": [
        "#Creating new CSV file -> 2015_Crimes_and_GDP.csv from Master Dataset\n",
        "\n",
        "pathdataset = '/content/drive/MyDrive/Colab Notebooks/School Project docs and files/Record_of_Crimes_from_2005_to_2019.csv'\n",
        "df = pd.read_csv(pathdataset)\n",
        "\n",
        "df.drop(['Unnamed: 0', '2005', '2006', '2007', '2008', '2009', '2010', '2011', '2012', '2013', '2014', '2016', '2017', '2018', '2019'], axis=1, inplace=True)\n",
        "\n",
        "#Rename column '2015' to 'Number of Crimes Reported'\n",
        "df.rename(columns={'2015': 'Number of Crimes Reported'}, inplace=True)\n",
        "\n",
        "# add new column 'Year' before 'Type of Crime'\n",
        "df.insert(0, 'Year', ([\"2015-01-01\"]*17))\n",
        "df.insert(3, 'Gross Domenstic Product (GDP)', ([5.7]*17))\n",
        "\n",
        "#saving the new df to CSV file -> 2015_Crimes_and_GDP.csv\n",
        "df.to_csv('/content/drive/MyDrive/Colab Notebooks/School Project docs and files/2015_Crimes_and_GDP.csv')"
      ],
      "metadata": {
        "id": "RStFeUSpeeuq"
      },
      "execution_count": null,
      "outputs": []
    },
    {
      "cell_type": "code",
      "source": [
        ""
      ],
      "metadata": {
        "id": "_-CmcWqRefIW"
      },
      "execution_count": null,
      "outputs": []
    },
    {
      "cell_type": "code",
      "source": [
        "#Creating new CSV file -> 2016_Crimes_and_GDP.csv from Master Dataset\n",
        "\n",
        "pathdataset = '/content/drive/MyDrive/Colab Notebooks/School Project docs and files/Record_of_Crimes_from_2005_to_2019.csv'\n",
        "df = pd.read_csv(pathdataset)\n",
        "\n",
        "df.drop(['Unnamed: 0', '2005', '2006', '2007', '2008', '2009', '2010', '2011', '2012', '2013', '2014', '2015', '2017', '2018', '2019'], axis=1, inplace=True)\n",
        "\n",
        "#Rename column '2016' to 'Number of Crimes Reported'\n",
        "df.rename(columns={'2016': 'Number of Crimes Reported'}, inplace=True)\n",
        "\n",
        "# add new column 'Year' before 'Type of Crime'\n",
        "df.insert(0, 'Year', ([\"2016-01-01\"]*17))\n",
        "df.insert(3, 'Gross Domenstic Product (GDP)', ([5.9]*17))\n",
        "\n",
        "#saving the new df to CSV file -> 2016_Crimes_and_GDP.csv\n",
        "df.to_csv('/content/drive/MyDrive/Colab Notebooks/School Project docs and files/2016_Crimes_and_GDP.csv')"
      ],
      "metadata": {
        "id": "xUt95ajVefS9"
      },
      "execution_count": null,
      "outputs": []
    },
    {
      "cell_type": "code",
      "source": [
        ""
      ],
      "metadata": {
        "id": "cvSGIT2JefhX"
      },
      "execution_count": null,
      "outputs": []
    },
    {
      "cell_type": "code",
      "source": [
        "#Creating new CSV file -> 2017_Crimes_and_GDP.csv from Master Dataset\n",
        "\n",
        "pathdataset = '/content/drive/MyDrive/Colab Notebooks/School Project docs and files/Record_of_Crimes_from_2005_to_2019.csv'\n",
        "df = pd.read_csv(pathdataset)\n",
        "\n",
        "df.drop(['Unnamed: 0', '2005', '2006', '2007', '2008', '2009', '2010', '2011', '2012', '2013', '2014', '2015', '2016', '2018', '2019'], axis=1, inplace=True)\n",
        "\n",
        "#Rename column '2017' to 'Number of Crimes Reported'\n",
        "df.rename(columns={'2017': 'Number of Crimes Reported'}, inplace=True)\n",
        "\n",
        "# add new column 'Year' before 'Type of Crime'\n",
        "df.insert(0, 'Year', ([\"2017-01-01\"]*17))\n",
        "df.insert(3, 'Gross Domenstic Product (GDP)', ([4.8]*17))\n",
        "\n",
        "#saving the new df to CSV file -> 2017_Crimes_and_GDP.csv\n",
        "df.to_csv('/content/drive/MyDrive/Colab Notebooks/School Project docs and files/2017_Crimes_and_GDP.csv')"
      ],
      "metadata": {
        "id": "A7N28shwef5N"
      },
      "execution_count": null,
      "outputs": []
    },
    {
      "cell_type": "code",
      "source": [
        ""
      ],
      "metadata": {
        "id": "6eGfyHWRgFSk"
      },
      "execution_count": null,
      "outputs": []
    },
    {
      "cell_type": "code",
      "source": [
        "#Creating new CSV file -> 2018_Crimes_and_GDP.csv from Master Dataset\n",
        "\n",
        "pathdataset = '/content/drive/MyDrive/Colab Notebooks/School Project docs and files/Record_of_Crimes_from_2005_to_2019.csv'\n",
        "df = pd.read_csv(pathdataset)\n",
        "\n",
        "df.drop(['Unnamed: 0', '2005', '2006', '2007', '2008', '2009', '2010', '2011', '2012', '2013', '2014', '2015', '2016', '2017', '2019'], axis=1, inplace=True)\n",
        "\n",
        "#Rename column '2018' to 'Number of Crimes Reported'\n",
        "df.rename(columns={'2018': 'Number of Crimes Reported'}, inplace=True)\n",
        "\n",
        "# add new column 'Year' before 'Type of Crime'\n",
        "df.insert(0, 'Year', ([\"2018-01-01\"]*17))\n",
        "df.insert(3, 'Gross Domenstic Product (GDP)', ([6.3]*17))\n",
        "\n",
        "#saving the new df to CSV file -> 2018_Crimes_and_GDP.csv\n",
        "df.to_csv('/content/drive/MyDrive/Colab Notebooks/School Project docs and files/2018_Crimes_and_GDP.csv')"
      ],
      "metadata": {
        "id": "Q03tZmCCgGzd"
      },
      "execution_count": null,
      "outputs": []
    },
    {
      "cell_type": "code",
      "source": [
        ""
      ],
      "metadata": {
        "id": "406mhY4wgHLl"
      },
      "execution_count": null,
      "outputs": []
    },
    {
      "cell_type": "code",
      "source": [
        "#Creating new CSV file -> 2019_Crimes_and_GDP.csv from Master Dataset\n",
        "\n",
        "pathdataset = '/content/drive/MyDrive/Colab Notebooks/School Project docs and files/Record_of_Crimes_from_2005_to_2019.csv'\n",
        "df = pd.read_csv(pathdataset)\n",
        "\n",
        "df.drop(['Unnamed: 0', '2005', '2006', '2007', '2008', '2009', '2010', '2011', '2012', '2013', '2014', '2015', '2016', '2017', '2018'], axis=1, inplace=True)\n",
        "\n",
        "#Rename column '2019' to 'Number of Crimes Reported'\n",
        "df.rename(columns={'2019': 'Number of Crimes Reported'}, inplace=True)\n",
        "\n",
        "# add new column 'Year' before 'Type of Crime'\n",
        "df.insert(0, 'Year', ([\"2019-01-01\"]*17))\n",
        "df.insert(3, 'Gross Domenstic Product (GDP)', ([5.4]*17))\n",
        "\n",
        "#saving the new df to CSV file -> 2019_Crimes_and_GDP.csv\n",
        "df.to_csv('/content/drive/MyDrive/Colab Notebooks/School Project docs and files/2019_Crimes_and_GDP.csv')"
      ],
      "metadata": {
        "id": "sg1EQ-c7gILa"
      },
      "execution_count": null,
      "outputs": []
    },
    {
      "cell_type": "code",
      "source": [
        ""
      ],
      "metadata": {
        "id": "6SuAY-yog_Eo"
      },
      "execution_count": null,
      "outputs": []
    },
    {
      "cell_type": "markdown",
      "source": [
        "**Merging the single datasets into one final dataset** "
      ],
      "metadata": {
        "id": "83VQRWmvhYzb"
      }
    },
    {
      "cell_type": "code",
      "source": [
        "#Reading the csv datasets to dataframes\n",
        "df2005 = pd.read_csv('/content/drive/MyDrive/Colab Notebooks/School Project docs and files/2005_Crimes_and_GDP.csv')\n",
        "\n",
        "df2006 = pd.read_csv('/content/drive/MyDrive/Colab Notebooks/School Project docs and files/2006_Crimes_and_GDP.csv')\n",
        "\n",
        "df2007 = pd.read_csv('/content/drive/MyDrive/Colab Notebooks/School Project docs and files/2007_Crimes_and_GDP.csv')\n",
        "\n",
        "df2008 = pd.read_csv('/content/drive/MyDrive/Colab Notebooks/School Project docs and files/2008_Crimes_and_GDP.csv')\n",
        "\n",
        "df2009 = pd.read_csv('/content/drive/MyDrive/Colab Notebooks/School Project docs and files/2009_Crimes_and_GDP.csv')\n",
        "\n",
        "df2010 = pd.read_csv('/content/drive/MyDrive/Colab Notebooks/School Project docs and files/2010_Crimes_and_GDP.csv')\n",
        "\n",
        "df2011 = pd.read_csv('/content/drive/MyDrive/Colab Notebooks/School Project docs and files/2011_Crimes_and_GDP.csv')\n",
        "\n",
        "df2012 = pd.read_csv('/content/drive/MyDrive/Colab Notebooks/School Project docs and files/2012_Crimes_and_GDP.csv')\n",
        "\n",
        "df2013 = pd.read_csv('/content/drive/MyDrive/Colab Notebooks/School Project docs and files/2013_Crimes_and_GDP.csv')\n",
        "\n",
        "df2014 = pd.read_csv('/content/drive/MyDrive/Colab Notebooks/School Project docs and files/2014_Crimes_and_GDP.csv')\n",
        "\n",
        "df2015 = pd.read_csv('/content/drive/MyDrive/Colab Notebooks/School Project docs and files/2015_Crimes_and_GDP.csv')\n",
        "\n",
        "df2016 = pd.read_csv('/content/drive/MyDrive/Colab Notebooks/School Project docs and files/2016_Crimes_and_GDP.csv')\n",
        "\n",
        "df2017 = pd.read_csv('/content/drive/MyDrive/Colab Notebooks/School Project docs and files/2017_Crimes_and_GDP.csv')\n",
        "\n",
        "df2018 = pd.read_csv('/content/drive/MyDrive/Colab Notebooks/School Project docs and files/2018_Crimes_and_GDP.csv')\n",
        "\n",
        "df2019 = pd.read_csv('/content/drive/MyDrive/Colab Notebooks/School Project docs and files/2019_Crimes_and_GDP.csv')"
      ],
      "metadata": {
        "id": "1c9yKyYOhmQL"
      },
      "execution_count": null,
      "outputs": []
    },
    {
      "cell_type": "code",
      "source": [
        "#Joining the dfs read along the rows\n",
        "df = df2005.append([df2006, df2007, df2008, df2009, df2010, df2011, df2012, df2013, df2014, df2015, df2016, df2017, df2018], ignore_index=True, sort=False)"
      ],
      "metadata": {
        "id": "qRyjrxu0jlXS"
      },
      "execution_count": null,
      "outputs": []
    },
    {
      "cell_type": "code",
      "source": [
        "df.columns"
      ],
      "metadata": {
        "id": "1n6GVJo7m4Em",
        "colab": {
          "base_uri": "https://localhost:8080/"
        },
        "outputId": "da9251ac-9ddb-472f-d859-437602ae1226"
      },
      "execution_count": null,
      "outputs": [
        {
          "output_type": "execute_result",
          "data": {
            "text/plain": [
              "Index(['Unnamed: 0', 'Year', 'Type of Crime', 'Number of Crimes Reported',\n",
              "       'Gross Domenstic Product (GDP)'],\n",
              "      dtype='object')"
            ]
          },
          "metadata": {},
          "execution_count": 205
        }
      ]
    },
    {
      "cell_type": "code",
      "source": [
        "#Updating the final dataset - dropping unwanted columns\n",
        "df.drop(['Unnamed: 0'], axis=1, inplace=True)"
      ],
      "metadata": {
        "id": "aZaY8wPmoRvT"
      },
      "execution_count": null,
      "outputs": []
    },
    {
      "cell_type": "code",
      "source": [
        "df.head()"
      ],
      "metadata": {
        "id": "xR3BGBpqo409",
        "colab": {
          "base_uri": "https://localhost:8080/",
          "height": 206
        },
        "outputId": "2710e1ea-9407-4c7b-bbf7-0212471e24c0"
      },
      "execution_count": null,
      "outputs": [
        {
          "output_type": "execute_result",
          "data": {
            "text/html": [
              "\n",
              "  <div id=\"df-ecfdb925-9990-4e87-a609-7cb72c7f6b05\">\n",
              "    <div class=\"colab-df-container\">\n",
              "      <div>\n",
              "<style scoped>\n",
              "    .dataframe tbody tr th:only-of-type {\n",
              "        vertical-align: middle;\n",
              "    }\n",
              "\n",
              "    .dataframe tbody tr th {\n",
              "        vertical-align: top;\n",
              "    }\n",
              "\n",
              "    .dataframe thead th {\n",
              "        text-align: right;\n",
              "    }\n",
              "</style>\n",
              "<table border=\"1\" class=\"dataframe\">\n",
              "  <thead>\n",
              "    <tr style=\"text-align: right;\">\n",
              "      <th></th>\n",
              "      <th>Year</th>\n",
              "      <th>Type of Crime</th>\n",
              "      <th>Number of Crimes Reported</th>\n",
              "      <th>Gross Domenstic Product (GDP)</th>\n",
              "    </tr>\n",
              "  </thead>\n",
              "  <tbody>\n",
              "    <tr>\n",
              "      <th>0</th>\n",
              "      <td>2005-01-01</td>\n",
              "      <td>Homicide</td>\n",
              "      <td>2,313</td>\n",
              "      <td>5.9</td>\n",
              "    </tr>\n",
              "    <tr>\n",
              "      <th>1</th>\n",
              "      <td>2005-01-01</td>\n",
              "      <td>Offences against morality</td>\n",
              "      <td>3,153</td>\n",
              "      <td>5.9</td>\n",
              "    </tr>\n",
              "    <tr>\n",
              "      <th>2</th>\n",
              "      <td>2005-01-01</td>\n",
              "      <td>Other offences against persons</td>\n",
              "      <td>17,304</td>\n",
              "      <td>5.9</td>\n",
              "    </tr>\n",
              "    <tr>\n",
              "      <th>3</th>\n",
              "      <td>2005-01-01</td>\n",
              "      <td>Robbery</td>\n",
              "      <td>6,936</td>\n",
              "      <td>5.9</td>\n",
              "    </tr>\n",
              "    <tr>\n",
              "      <th>4</th>\n",
              "      <td>2005-01-01</td>\n",
              "      <td>Breakings</td>\n",
              "      <td>8,454</td>\n",
              "      <td>5.9</td>\n",
              "    </tr>\n",
              "  </tbody>\n",
              "</table>\n",
              "</div>\n",
              "      <button class=\"colab-df-convert\" onclick=\"convertToInteractive('df-ecfdb925-9990-4e87-a609-7cb72c7f6b05')\"\n",
              "              title=\"Convert this dataframe to an interactive table.\"\n",
              "              style=\"display:none;\">\n",
              "        \n",
              "  <svg xmlns=\"http://www.w3.org/2000/svg\" height=\"24px\"viewBox=\"0 0 24 24\"\n",
              "       width=\"24px\">\n",
              "    <path d=\"M0 0h24v24H0V0z\" fill=\"none\"/>\n",
              "    <path d=\"M18.56 5.44l.94 2.06.94-2.06 2.06-.94-2.06-.94-.94-2.06-.94 2.06-2.06.94zm-11 1L8.5 8.5l.94-2.06 2.06-.94-2.06-.94L8.5 2.5l-.94 2.06-2.06.94zm10 10l.94 2.06.94-2.06 2.06-.94-2.06-.94-.94-2.06-.94 2.06-2.06.94z\"/><path d=\"M17.41 7.96l-1.37-1.37c-.4-.4-.92-.59-1.43-.59-.52 0-1.04.2-1.43.59L10.3 9.45l-7.72 7.72c-.78.78-.78 2.05 0 2.83L4 21.41c.39.39.9.59 1.41.59.51 0 1.02-.2 1.41-.59l7.78-7.78 2.81-2.81c.8-.78.8-2.07 0-2.86zM5.41 20L4 18.59l7.72-7.72 1.47 1.35L5.41 20z\"/>\n",
              "  </svg>\n",
              "      </button>\n",
              "      \n",
              "  <style>\n",
              "    .colab-df-container {\n",
              "      display:flex;\n",
              "      flex-wrap:wrap;\n",
              "      gap: 12px;\n",
              "    }\n",
              "\n",
              "    .colab-df-convert {\n",
              "      background-color: #E8F0FE;\n",
              "      border: none;\n",
              "      border-radius: 50%;\n",
              "      cursor: pointer;\n",
              "      display: none;\n",
              "      fill: #1967D2;\n",
              "      height: 32px;\n",
              "      padding: 0 0 0 0;\n",
              "      width: 32px;\n",
              "    }\n",
              "\n",
              "    .colab-df-convert:hover {\n",
              "      background-color: #E2EBFA;\n",
              "      box-shadow: 0px 1px 2px rgba(60, 64, 67, 0.3), 0px 1px 3px 1px rgba(60, 64, 67, 0.15);\n",
              "      fill: #174EA6;\n",
              "    }\n",
              "\n",
              "    [theme=dark] .colab-df-convert {\n",
              "      background-color: #3B4455;\n",
              "      fill: #D2E3FC;\n",
              "    }\n",
              "\n",
              "    [theme=dark] .colab-df-convert:hover {\n",
              "      background-color: #434B5C;\n",
              "      box-shadow: 0px 1px 3px 1px rgba(0, 0, 0, 0.15);\n",
              "      filter: drop-shadow(0px 1px 2px rgba(0, 0, 0, 0.3));\n",
              "      fill: #FFFFFF;\n",
              "    }\n",
              "  </style>\n",
              "\n",
              "      <script>\n",
              "        const buttonEl =\n",
              "          document.querySelector('#df-ecfdb925-9990-4e87-a609-7cb72c7f6b05 button.colab-df-convert');\n",
              "        buttonEl.style.display =\n",
              "          google.colab.kernel.accessAllowed ? 'block' : 'none';\n",
              "\n",
              "        async function convertToInteractive(key) {\n",
              "          const element = document.querySelector('#df-ecfdb925-9990-4e87-a609-7cb72c7f6b05');\n",
              "          const dataTable =\n",
              "            await google.colab.kernel.invokeFunction('convertToInteractive',\n",
              "                                                     [key], {});\n",
              "          if (!dataTable) return;\n",
              "\n",
              "          const docLinkHtml = 'Like what you see? Visit the ' +\n",
              "            '<a target=\"_blank\" href=https://colab.research.google.com/notebooks/data_table.ipynb>data table notebook</a>'\n",
              "            + ' to learn more about interactive tables.';\n",
              "          element.innerHTML = '';\n",
              "          dataTable['output_type'] = 'display_data';\n",
              "          await google.colab.output.renderOutput(dataTable, element);\n",
              "          const docLink = document.createElement('div');\n",
              "          docLink.innerHTML = docLinkHtml;\n",
              "          element.appendChild(docLink);\n",
              "        }\n",
              "      </script>\n",
              "    </div>\n",
              "  </div>\n",
              "  "
            ],
            "text/plain": [
              "         Year  ... Gross Domenstic Product (GDP)\n",
              "0  2005-01-01  ...                           5.9\n",
              "1  2005-01-01  ...                           5.9\n",
              "2  2005-01-01  ...                           5.9\n",
              "3  2005-01-01  ...                           5.9\n",
              "4  2005-01-01  ...                           5.9\n",
              "\n",
              "[5 rows x 4 columns]"
            ]
          },
          "metadata": {},
          "execution_count": 207
        }
      ]
    },
    {
      "cell_type": "code",
      "source": [
        "\n",
        "df.rename(columns={'Gross Domenstic Product (GDP)': 'Gross Domestic Product (GDP)'}, inplace=True)"
      ],
      "metadata": {
        "id": "PHoxYcYDp1t7"
      },
      "execution_count": null,
      "outputs": []
    },
    {
      "cell_type": "markdown",
      "source": [
        "**Removing all the special features from the \"Number of Crimes Reported\" column**"
      ],
      "metadata": {
        "id": "sRTfU9BYcqzy"
      }
    },
    {
      "cell_type": "code",
      "source": [
        " cols = ['Number of Crimes Reported']\n",
        "df[cols] = df[cols].astype(str) # cast to string\n",
        "\n",
        "# Removing special characters\n",
        "df[cols] = df[cols].replace({'\\$': '', ',': '', '-': ''}, regex=True)\n",
        "\n",
        "df.head()"
      ],
      "metadata": {
        "id": "0UQcjSEhc95i",
        "colab": {
          "base_uri": "https://localhost:8080/",
          "height": 206
        },
        "outputId": "bc8c8cd1-5092-476e-ca9d-8137d5b2a3de"
      },
      "execution_count": null,
      "outputs": [
        {
          "output_type": "execute_result",
          "data": {
            "text/html": [
              "\n",
              "  <div id=\"df-9ad12a9a-4b36-427e-a5df-c055afea7596\">\n",
              "    <div class=\"colab-df-container\">\n",
              "      <div>\n",
              "<style scoped>\n",
              "    .dataframe tbody tr th:only-of-type {\n",
              "        vertical-align: middle;\n",
              "    }\n",
              "\n",
              "    .dataframe tbody tr th {\n",
              "        vertical-align: top;\n",
              "    }\n",
              "\n",
              "    .dataframe thead th {\n",
              "        text-align: right;\n",
              "    }\n",
              "</style>\n",
              "<table border=\"1\" class=\"dataframe\">\n",
              "  <thead>\n",
              "    <tr style=\"text-align: right;\">\n",
              "      <th></th>\n",
              "      <th>Year</th>\n",
              "      <th>Type of Crime</th>\n",
              "      <th>Number of Crimes Reported</th>\n",
              "      <th>Gross Domestic Product (GDP)</th>\n",
              "    </tr>\n",
              "  </thead>\n",
              "  <tbody>\n",
              "    <tr>\n",
              "      <th>0</th>\n",
              "      <td>2005-01-01</td>\n",
              "      <td>Homicide</td>\n",
              "      <td>2313</td>\n",
              "      <td>5.9</td>\n",
              "    </tr>\n",
              "    <tr>\n",
              "      <th>1</th>\n",
              "      <td>2005-01-01</td>\n",
              "      <td>Offences against morality</td>\n",
              "      <td>3153</td>\n",
              "      <td>5.9</td>\n",
              "    </tr>\n",
              "    <tr>\n",
              "      <th>2</th>\n",
              "      <td>2005-01-01</td>\n",
              "      <td>Other offences against persons</td>\n",
              "      <td>17304</td>\n",
              "      <td>5.9</td>\n",
              "    </tr>\n",
              "    <tr>\n",
              "      <th>3</th>\n",
              "      <td>2005-01-01</td>\n",
              "      <td>Robbery</td>\n",
              "      <td>6936</td>\n",
              "      <td>5.9</td>\n",
              "    </tr>\n",
              "    <tr>\n",
              "      <th>4</th>\n",
              "      <td>2005-01-01</td>\n",
              "      <td>Breakings</td>\n",
              "      <td>8454</td>\n",
              "      <td>5.9</td>\n",
              "    </tr>\n",
              "  </tbody>\n",
              "</table>\n",
              "</div>\n",
              "      <button class=\"colab-df-convert\" onclick=\"convertToInteractive('df-9ad12a9a-4b36-427e-a5df-c055afea7596')\"\n",
              "              title=\"Convert this dataframe to an interactive table.\"\n",
              "              style=\"display:none;\">\n",
              "        \n",
              "  <svg xmlns=\"http://www.w3.org/2000/svg\" height=\"24px\"viewBox=\"0 0 24 24\"\n",
              "       width=\"24px\">\n",
              "    <path d=\"M0 0h24v24H0V0z\" fill=\"none\"/>\n",
              "    <path d=\"M18.56 5.44l.94 2.06.94-2.06 2.06-.94-2.06-.94-.94-2.06-.94 2.06-2.06.94zm-11 1L8.5 8.5l.94-2.06 2.06-.94-2.06-.94L8.5 2.5l-.94 2.06-2.06.94zm10 10l.94 2.06.94-2.06 2.06-.94-2.06-.94-.94-2.06-.94 2.06-2.06.94z\"/><path d=\"M17.41 7.96l-1.37-1.37c-.4-.4-.92-.59-1.43-.59-.52 0-1.04.2-1.43.59L10.3 9.45l-7.72 7.72c-.78.78-.78 2.05 0 2.83L4 21.41c.39.39.9.59 1.41.59.51 0 1.02-.2 1.41-.59l7.78-7.78 2.81-2.81c.8-.78.8-2.07 0-2.86zM5.41 20L4 18.59l7.72-7.72 1.47 1.35L5.41 20z\"/>\n",
              "  </svg>\n",
              "      </button>\n",
              "      \n",
              "  <style>\n",
              "    .colab-df-container {\n",
              "      display:flex;\n",
              "      flex-wrap:wrap;\n",
              "      gap: 12px;\n",
              "    }\n",
              "\n",
              "    .colab-df-convert {\n",
              "      background-color: #E8F0FE;\n",
              "      border: none;\n",
              "      border-radius: 50%;\n",
              "      cursor: pointer;\n",
              "      display: none;\n",
              "      fill: #1967D2;\n",
              "      height: 32px;\n",
              "      padding: 0 0 0 0;\n",
              "      width: 32px;\n",
              "    }\n",
              "\n",
              "    .colab-df-convert:hover {\n",
              "      background-color: #E2EBFA;\n",
              "      box-shadow: 0px 1px 2px rgba(60, 64, 67, 0.3), 0px 1px 3px 1px rgba(60, 64, 67, 0.15);\n",
              "      fill: #174EA6;\n",
              "    }\n",
              "\n",
              "    [theme=dark] .colab-df-convert {\n",
              "      background-color: #3B4455;\n",
              "      fill: #D2E3FC;\n",
              "    }\n",
              "\n",
              "    [theme=dark] .colab-df-convert:hover {\n",
              "      background-color: #434B5C;\n",
              "      box-shadow: 0px 1px 3px 1px rgba(0, 0, 0, 0.15);\n",
              "      filter: drop-shadow(0px 1px 2px rgba(0, 0, 0, 0.3));\n",
              "      fill: #FFFFFF;\n",
              "    }\n",
              "  </style>\n",
              "\n",
              "      <script>\n",
              "        const buttonEl =\n",
              "          document.querySelector('#df-9ad12a9a-4b36-427e-a5df-c055afea7596 button.colab-df-convert');\n",
              "        buttonEl.style.display =\n",
              "          google.colab.kernel.accessAllowed ? 'block' : 'none';\n",
              "\n",
              "        async function convertToInteractive(key) {\n",
              "          const element = document.querySelector('#df-9ad12a9a-4b36-427e-a5df-c055afea7596');\n",
              "          const dataTable =\n",
              "            await google.colab.kernel.invokeFunction('convertToInteractive',\n",
              "                                                     [key], {});\n",
              "          if (!dataTable) return;\n",
              "\n",
              "          const docLinkHtml = 'Like what you see? Visit the ' +\n",
              "            '<a target=\"_blank\" href=https://colab.research.google.com/notebooks/data_table.ipynb>data table notebook</a>'\n",
              "            + ' to learn more about interactive tables.';\n",
              "          element.innerHTML = '';\n",
              "          dataTable['output_type'] = 'display_data';\n",
              "          await google.colab.output.renderOutput(dataTable, element);\n",
              "          const docLink = document.createElement('div');\n",
              "          docLink.innerHTML = docLinkHtml;\n",
              "          element.appendChild(docLink);\n",
              "        }\n",
              "      </script>\n",
              "    </div>\n",
              "  </div>\n",
              "  "
            ],
            "text/plain": [
              "         Year  ... Gross Domestic Product (GDP)\n",
              "0  2005-01-01  ...                          5.9\n",
              "1  2005-01-01  ...                          5.9\n",
              "2  2005-01-01  ...                          5.9\n",
              "3  2005-01-01  ...                          5.9\n",
              "4  2005-01-01  ...                          5.9\n",
              "\n",
              "[5 rows x 4 columns]"
            ]
          },
          "metadata": {},
          "execution_count": 209
        }
      ]
    },
    {
      "cell_type": "markdown",
      "source": [
        "**Renaming the colums**"
      ],
      "metadata": {
        "id": "1gzn0yv2tTlb"
      }
    },
    {
      "cell_type": "code",
      "source": [
        "df.rename(columns={'Type of Crime': 'Type_of_Crime'}, inplace=True)\n",
        "df.rename(columns={'Number of Crimes Reported': 'Number_of_Crimes_Reported'}, inplace=True)\n",
        "df.rename(columns={'Gross Domestic Product (GDP)': 'Gross_Domestic_Product_GDP'}, inplace=True)"
      ],
      "metadata": {
        "id": "uulTwMxPtSO8"
      },
      "execution_count": null,
      "outputs": []
    },
    {
      "cell_type": "code",
      "source": [
        "df.head()"
      ],
      "metadata": {
        "colab": {
          "base_uri": "https://localhost:8080/",
          "height": 206
        },
        "id": "UnsjxNvL2DBA",
        "outputId": "ef265ac6-297f-486a-d449-c29ae5fb76e7"
      },
      "execution_count": null,
      "outputs": [
        {
          "output_type": "execute_result",
          "data": {
            "text/html": [
              "\n",
              "  <div id=\"df-3273b565-aa10-4b14-bc3a-0131110ebef0\">\n",
              "    <div class=\"colab-df-container\">\n",
              "      <div>\n",
              "<style scoped>\n",
              "    .dataframe tbody tr th:only-of-type {\n",
              "        vertical-align: middle;\n",
              "    }\n",
              "\n",
              "    .dataframe tbody tr th {\n",
              "        vertical-align: top;\n",
              "    }\n",
              "\n",
              "    .dataframe thead th {\n",
              "        text-align: right;\n",
              "    }\n",
              "</style>\n",
              "<table border=\"1\" class=\"dataframe\">\n",
              "  <thead>\n",
              "    <tr style=\"text-align: right;\">\n",
              "      <th></th>\n",
              "      <th>Year</th>\n",
              "      <th>Type_of_Crime</th>\n",
              "      <th>Number_of_Crimes_Reported</th>\n",
              "      <th>Gross_Domestic_Product_GDP</th>\n",
              "    </tr>\n",
              "  </thead>\n",
              "  <tbody>\n",
              "    <tr>\n",
              "      <th>0</th>\n",
              "      <td>2005-01-01</td>\n",
              "      <td>Homicide</td>\n",
              "      <td>2313</td>\n",
              "      <td>5.9</td>\n",
              "    </tr>\n",
              "    <tr>\n",
              "      <th>1</th>\n",
              "      <td>2005-01-01</td>\n",
              "      <td>Offences against morality</td>\n",
              "      <td>3153</td>\n",
              "      <td>5.9</td>\n",
              "    </tr>\n",
              "    <tr>\n",
              "      <th>2</th>\n",
              "      <td>2005-01-01</td>\n",
              "      <td>Other offences against persons</td>\n",
              "      <td>17304</td>\n",
              "      <td>5.9</td>\n",
              "    </tr>\n",
              "    <tr>\n",
              "      <th>3</th>\n",
              "      <td>2005-01-01</td>\n",
              "      <td>Robbery</td>\n",
              "      <td>6936</td>\n",
              "      <td>5.9</td>\n",
              "    </tr>\n",
              "    <tr>\n",
              "      <th>4</th>\n",
              "      <td>2005-01-01</td>\n",
              "      <td>Breakings</td>\n",
              "      <td>8454</td>\n",
              "      <td>5.9</td>\n",
              "    </tr>\n",
              "  </tbody>\n",
              "</table>\n",
              "</div>\n",
              "      <button class=\"colab-df-convert\" onclick=\"convertToInteractive('df-3273b565-aa10-4b14-bc3a-0131110ebef0')\"\n",
              "              title=\"Convert this dataframe to an interactive table.\"\n",
              "              style=\"display:none;\">\n",
              "        \n",
              "  <svg xmlns=\"http://www.w3.org/2000/svg\" height=\"24px\"viewBox=\"0 0 24 24\"\n",
              "       width=\"24px\">\n",
              "    <path d=\"M0 0h24v24H0V0z\" fill=\"none\"/>\n",
              "    <path d=\"M18.56 5.44l.94 2.06.94-2.06 2.06-.94-2.06-.94-.94-2.06-.94 2.06-2.06.94zm-11 1L8.5 8.5l.94-2.06 2.06-.94-2.06-.94L8.5 2.5l-.94 2.06-2.06.94zm10 10l.94 2.06.94-2.06 2.06-.94-2.06-.94-.94-2.06-.94 2.06-2.06.94z\"/><path d=\"M17.41 7.96l-1.37-1.37c-.4-.4-.92-.59-1.43-.59-.52 0-1.04.2-1.43.59L10.3 9.45l-7.72 7.72c-.78.78-.78 2.05 0 2.83L4 21.41c.39.39.9.59 1.41.59.51 0 1.02-.2 1.41-.59l7.78-7.78 2.81-2.81c.8-.78.8-2.07 0-2.86zM5.41 20L4 18.59l7.72-7.72 1.47 1.35L5.41 20z\"/>\n",
              "  </svg>\n",
              "      </button>\n",
              "      \n",
              "  <style>\n",
              "    .colab-df-container {\n",
              "      display:flex;\n",
              "      flex-wrap:wrap;\n",
              "      gap: 12px;\n",
              "    }\n",
              "\n",
              "    .colab-df-convert {\n",
              "      background-color: #E8F0FE;\n",
              "      border: none;\n",
              "      border-radius: 50%;\n",
              "      cursor: pointer;\n",
              "      display: none;\n",
              "      fill: #1967D2;\n",
              "      height: 32px;\n",
              "      padding: 0 0 0 0;\n",
              "      width: 32px;\n",
              "    }\n",
              "\n",
              "    .colab-df-convert:hover {\n",
              "      background-color: #E2EBFA;\n",
              "      box-shadow: 0px 1px 2px rgba(60, 64, 67, 0.3), 0px 1px 3px 1px rgba(60, 64, 67, 0.15);\n",
              "      fill: #174EA6;\n",
              "    }\n",
              "\n",
              "    [theme=dark] .colab-df-convert {\n",
              "      background-color: #3B4455;\n",
              "      fill: #D2E3FC;\n",
              "    }\n",
              "\n",
              "    [theme=dark] .colab-df-convert:hover {\n",
              "      background-color: #434B5C;\n",
              "      box-shadow: 0px 1px 3px 1px rgba(0, 0, 0, 0.15);\n",
              "      filter: drop-shadow(0px 1px 2px rgba(0, 0, 0, 0.3));\n",
              "      fill: #FFFFFF;\n",
              "    }\n",
              "  </style>\n",
              "\n",
              "      <script>\n",
              "        const buttonEl =\n",
              "          document.querySelector('#df-3273b565-aa10-4b14-bc3a-0131110ebef0 button.colab-df-convert');\n",
              "        buttonEl.style.display =\n",
              "          google.colab.kernel.accessAllowed ? 'block' : 'none';\n",
              "\n",
              "        async function convertToInteractive(key) {\n",
              "          const element = document.querySelector('#df-3273b565-aa10-4b14-bc3a-0131110ebef0');\n",
              "          const dataTable =\n",
              "            await google.colab.kernel.invokeFunction('convertToInteractive',\n",
              "                                                     [key], {});\n",
              "          if (!dataTable) return;\n",
              "\n",
              "          const docLinkHtml = 'Like what you see? Visit the ' +\n",
              "            '<a target=\"_blank\" href=https://colab.research.google.com/notebooks/data_table.ipynb>data table notebook</a>'\n",
              "            + ' to learn more about interactive tables.';\n",
              "          element.innerHTML = '';\n",
              "          dataTable['output_type'] = 'display_data';\n",
              "          await google.colab.output.renderOutput(dataTable, element);\n",
              "          const docLink = document.createElement('div');\n",
              "          docLink.innerHTML = docLinkHtml;\n",
              "          element.appendChild(docLink);\n",
              "        }\n",
              "      </script>\n",
              "    </div>\n",
              "  </div>\n",
              "  "
            ],
            "text/plain": [
              "         Year  ... Gross_Domestic_Product_GDP\n",
              "0  2005-01-01  ...                        5.9\n",
              "1  2005-01-01  ...                        5.9\n",
              "2  2005-01-01  ...                        5.9\n",
              "3  2005-01-01  ...                        5.9\n",
              "4  2005-01-01  ...                        5.9\n",
              "\n",
              "[5 rows x 4 columns]"
            ]
          },
          "metadata": {},
          "execution_count": 211
        }
      ]
    },
    {
      "cell_type": "markdown",
      "source": [
        "**Saving the new updated data frame**"
      ],
      "metadata": {
        "id": "xD5bcsDldacC"
      }
    },
    {
      "cell_type": "code",
      "source": [
        "# Saving the updated data frame to csv.\n",
        "# This data set now has crime recods and\n",
        "# yearly GDP value from 2005 to 2019\n",
        "\n",
        "df.to_csv('/content/drive/MyDrive/Colab Notebooks/School Project docs and files/Crimes_Reported_from_2005_to_2019_with_Corresponding_annual_GDP.csv')"
      ],
      "metadata": {
        "id": "WMquygqJo9wp"
      },
      "execution_count": null,
      "outputs": []
    },
    {
      "cell_type": "markdown",
      "source": [
        "---\n",
        "\n"
      ],
      "metadata": {
        "id": "2nublyczrWrC"
      }
    },
    {
      "cell_type": "markdown",
      "source": [
        "# **4. Phase 4: Exploratory Data Analysis**"
      ],
      "metadata": {
        "id": "SNkre0bjonI4"
      }
    },
    {
      "cell_type": "code",
      "source": [
        "#loading the dataset\n",
        "pathdataset = '/content/drive/MyDrive/ColabNotebooks/SchoolProject_docs_and_files/Crimes_Reported_from_2005_to_2019_with_Corresponding_annual_GDP.csv'\n",
        "\n",
        "df = pd.read_csv(pathdataset, parse_dates=['Year'],\n",
        "                 index_col=['Year'],)\n",
        "\n",
        "df.head()"
      ],
      "metadata": {
        "id": "R4H3vUIdncpH",
        "colab": {
          "base_uri": "https://localhost:8080/",
          "height": 238
        },
        "outputId": "64e3c274-ed4b-47cd-ed7d-685055d3653f"
      },
      "execution_count": null,
      "outputs": [
        {
          "output_type": "execute_result",
          "data": {
            "text/html": [
              "\n",
              "  <div id=\"df-670cf037-22d6-439e-b8f8-f001e60bf634\">\n",
              "    <div class=\"colab-df-container\">\n",
              "      <div>\n",
              "<style scoped>\n",
              "    .dataframe tbody tr th:only-of-type {\n",
              "        vertical-align: middle;\n",
              "    }\n",
              "\n",
              "    .dataframe tbody tr th {\n",
              "        vertical-align: top;\n",
              "    }\n",
              "\n",
              "    .dataframe thead th {\n",
              "        text-align: right;\n",
              "    }\n",
              "</style>\n",
              "<table border=\"1\" class=\"dataframe\">\n",
              "  <thead>\n",
              "    <tr style=\"text-align: right;\">\n",
              "      <th></th>\n",
              "      <th>Unnamed: 0</th>\n",
              "      <th>Type_of_Crime</th>\n",
              "      <th>Number_of_Crimes_Reported</th>\n",
              "      <th>Gross_Domestic_Product_GDP</th>\n",
              "    </tr>\n",
              "    <tr>\n",
              "      <th>Year</th>\n",
              "      <th></th>\n",
              "      <th></th>\n",
              "      <th></th>\n",
              "      <th></th>\n",
              "    </tr>\n",
              "  </thead>\n",
              "  <tbody>\n",
              "    <tr>\n",
              "      <th>2005-01-01</th>\n",
              "      <td>0</td>\n",
              "      <td>Homicide</td>\n",
              "      <td>2313</td>\n",
              "      <td>5.9</td>\n",
              "    </tr>\n",
              "    <tr>\n",
              "      <th>2005-01-01</th>\n",
              "      <td>1</td>\n",
              "      <td>Offences against morality</td>\n",
              "      <td>3153</td>\n",
              "      <td>5.9</td>\n",
              "    </tr>\n",
              "    <tr>\n",
              "      <th>2005-01-01</th>\n",
              "      <td>2</td>\n",
              "      <td>Other offences against persons</td>\n",
              "      <td>17304</td>\n",
              "      <td>5.9</td>\n",
              "    </tr>\n",
              "    <tr>\n",
              "      <th>2005-01-01</th>\n",
              "      <td>3</td>\n",
              "      <td>Robbery</td>\n",
              "      <td>6936</td>\n",
              "      <td>5.9</td>\n",
              "    </tr>\n",
              "    <tr>\n",
              "      <th>2005-01-01</th>\n",
              "      <td>4</td>\n",
              "      <td>Breakings</td>\n",
              "      <td>8454</td>\n",
              "      <td>5.9</td>\n",
              "    </tr>\n",
              "  </tbody>\n",
              "</table>\n",
              "</div>\n",
              "      <button class=\"colab-df-convert\" onclick=\"convertToInteractive('df-670cf037-22d6-439e-b8f8-f001e60bf634')\"\n",
              "              title=\"Convert this dataframe to an interactive table.\"\n",
              "              style=\"display:none;\">\n",
              "        \n",
              "  <svg xmlns=\"http://www.w3.org/2000/svg\" height=\"24px\"viewBox=\"0 0 24 24\"\n",
              "       width=\"24px\">\n",
              "    <path d=\"M0 0h24v24H0V0z\" fill=\"none\"/>\n",
              "    <path d=\"M18.56 5.44l.94 2.06.94-2.06 2.06-.94-2.06-.94-.94-2.06-.94 2.06-2.06.94zm-11 1L8.5 8.5l.94-2.06 2.06-.94-2.06-.94L8.5 2.5l-.94 2.06-2.06.94zm10 10l.94 2.06.94-2.06 2.06-.94-2.06-.94-.94-2.06-.94 2.06-2.06.94z\"/><path d=\"M17.41 7.96l-1.37-1.37c-.4-.4-.92-.59-1.43-.59-.52 0-1.04.2-1.43.59L10.3 9.45l-7.72 7.72c-.78.78-.78 2.05 0 2.83L4 21.41c.39.39.9.59 1.41.59.51 0 1.02-.2 1.41-.59l7.78-7.78 2.81-2.81c.8-.78.8-2.07 0-2.86zM5.41 20L4 18.59l7.72-7.72 1.47 1.35L5.41 20z\"/>\n",
              "  </svg>\n",
              "      </button>\n",
              "      \n",
              "  <style>\n",
              "    .colab-df-container {\n",
              "      display:flex;\n",
              "      flex-wrap:wrap;\n",
              "      gap: 12px;\n",
              "    }\n",
              "\n",
              "    .colab-df-convert {\n",
              "      background-color: #E8F0FE;\n",
              "      border: none;\n",
              "      border-radius: 50%;\n",
              "      cursor: pointer;\n",
              "      display: none;\n",
              "      fill: #1967D2;\n",
              "      height: 32px;\n",
              "      padding: 0 0 0 0;\n",
              "      width: 32px;\n",
              "    }\n",
              "\n",
              "    .colab-df-convert:hover {\n",
              "      background-color: #E2EBFA;\n",
              "      box-shadow: 0px 1px 2px rgba(60, 64, 67, 0.3), 0px 1px 3px 1px rgba(60, 64, 67, 0.15);\n",
              "      fill: #174EA6;\n",
              "    }\n",
              "\n",
              "    [theme=dark] .colab-df-convert {\n",
              "      background-color: #3B4455;\n",
              "      fill: #D2E3FC;\n",
              "    }\n",
              "\n",
              "    [theme=dark] .colab-df-convert:hover {\n",
              "      background-color: #434B5C;\n",
              "      box-shadow: 0px 1px 3px 1px rgba(0, 0, 0, 0.15);\n",
              "      filter: drop-shadow(0px 1px 2px rgba(0, 0, 0, 0.3));\n",
              "      fill: #FFFFFF;\n",
              "    }\n",
              "  </style>\n",
              "\n",
              "      <script>\n",
              "        const buttonEl =\n",
              "          document.querySelector('#df-670cf037-22d6-439e-b8f8-f001e60bf634 button.colab-df-convert');\n",
              "        buttonEl.style.display =\n",
              "          google.colab.kernel.accessAllowed ? 'block' : 'none';\n",
              "\n",
              "        async function convertToInteractive(key) {\n",
              "          const element = document.querySelector('#df-670cf037-22d6-439e-b8f8-f001e60bf634');\n",
              "          const dataTable =\n",
              "            await google.colab.kernel.invokeFunction('convertToInteractive',\n",
              "                                                     [key], {});\n",
              "          if (!dataTable) return;\n",
              "\n",
              "          const docLinkHtml = 'Like what you see? Visit the ' +\n",
              "            '<a target=\"_blank\" href=https://colab.research.google.com/notebooks/data_table.ipynb>data table notebook</a>'\n",
              "            + ' to learn more about interactive tables.';\n",
              "          element.innerHTML = '';\n",
              "          dataTable['output_type'] = 'display_data';\n",
              "          await google.colab.output.renderOutput(dataTable, element);\n",
              "          const docLink = document.createElement('div');\n",
              "          docLink.innerHTML = docLinkHtml;\n",
              "          element.appendChild(docLink);\n",
              "        }\n",
              "      </script>\n",
              "    </div>\n",
              "  </div>\n",
              "  "
            ],
            "text/plain": [
              "            Unnamed: 0  ... Gross_Domestic_Product_GDP\n",
              "Year                    ...                           \n",
              "2005-01-01           0  ...                        5.9\n",
              "2005-01-01           1  ...                        5.9\n",
              "2005-01-01           2  ...                        5.9\n",
              "2005-01-01           3  ...                        5.9\n",
              "2005-01-01           4  ...                        5.9\n",
              "\n",
              "[5 rows x 4 columns]"
            ]
          },
          "metadata": {},
          "execution_count": 2
        }
      ]
    },
    {
      "cell_type": "markdown",
      "source": [
        "**Studying the trend in GDP from 2005 to 2019**"
      ],
      "metadata": {
        "id": "DlU65LxCR1Iu"
      }
    },
    {
      "cell_type": "code",
      "source": [
        "#plotting GDP trend\n",
        "\n",
        "df.Gross_Domestic_Product_GDP.resample('Y').mean().plot(title = 'Shift in GDP between 2005 to 2019', color='blue')\n",
        "plt.tight_layout()\n",
        "plt.show()"
      ],
      "metadata": {
        "id": "JKC7l7QhqUDS",
        "colab": {
          "base_uri": "https://localhost:8080/",
          "height": 297
        },
        "outputId": "a2140525-1d59-4c8f-e9e5-7d47492cd10a"
      },
      "execution_count": null,
      "outputs": [
        {
          "output_type": "display_data",
          "data": {
            "image/png": "[encoded data removed]",
            "text/plain": [
              "<Figure size 432x288 with 1 Axes>"
            ]
          },
          "metadata": {
            "needs_background": "light"
          }
        }
      ]
    },
    {
      "cell_type": "markdown",
      "source": [
        "**Studying the trend in Number_of_Crimes_Reported**"
      ],
      "metadata": {
        "id": "qauuRjTodcJF"
      }
    },
    {
      "cell_type": "code",
      "source": [
        "#Total Number_of_Crimes_Reported \n",
        "df.Number_of_Crimes_Reported.resample('Y').sum().plot(title = 'Shift in Number_of_Crimes_Reported between 2005 to 2019', color='blue')\n",
        "plt.tight_layout()\n",
        "plt.show()"
      ],
      "metadata": {
        "id": "UJCM1wh3pgHO"
      },
      "execution_count": null,
      "outputs": []
    },
    {
      "cell_type": "code",
      "source": [
        "#Trend in Number_of_Crimes_Reported averagely\n",
        "df.Number_of_Crimes_Reported.resample('Y').mean().plot(title = 'Average Number_of_Crimes_Reported between 2005 to 2019', color='green')\n",
        "plt.tight_layout()\n",
        "plt.show()"
      ],
      "metadata": {
        "id": "_bJ5EoRfe6X5",
        "colab": {
          "base_uri": "https://localhost:8080/",
          "height": 297
        },
        "outputId": "f26b6fd1-fcba-4ff0-edaf-14faaf55a6ae"
      },
      "execution_count": null,
      "outputs": [
        {
          "output_type": "display_data",
          "data": {
            "image/png": "[encoded data removed]",
            "text/plain": [
              "<Figure size 432x288 with 1 Axes>"
            ]
          },
          "metadata": {
            "needs_background": "light"
          }
        }
      ]
    },
    {
      "cell_type": "code",
      "source": [
        ""
      ],
      "metadata": {
        "id": "tdGHheJASKzo"
      },
      "execution_count": null,
      "outputs": []
    },
    {
      "cell_type": "markdown",
      "source": [
        "**Investigating Correlation between Number_of_Crimes_Reported and Gross_Domestic_Product_GDP**"
      ],
      "metadata": {
        "id": "7CopCxV2jKTo"
      }
    },
    {
      "cell_type": "code",
      "source": [
        "df.dtypes"
      ],
      "metadata": {
        "id": "7triI-23JRaL",
        "colab": {
          "base_uri": "https://localhost:8080/"
        },
        "outputId": "0f8d6f83-44f7-4cc8-bc3e-314511fbf285"
      },
      "execution_count": null,
      "outputs": [
        {
          "output_type": "execute_result",
          "data": {
            "text/plain": [
              "Unnamed: 0                      int64\n",
              "Type_of_Crime                  object\n",
              "Number_of_Crimes_Reported       int64\n",
              "Gross_Domestic_Product_GDP    float64\n",
              "dtype: object"
            ]
          },
          "metadata": {},
          "execution_count": 6
        }
      ]
    },
    {
      "cell_type": "code",
      "source": [
        "# Creating df1 -- dataframe for data columns\n",
        "df1=df\n",
        "df1.drop('Type_of_Crime', axis=1, inplace=True)\n",
        "df1.drop('Unnamed: 0', axis=1, inplace=True)\n",
        "df1.head()"
      ],
      "metadata": {
        "id": "N1r2oACoJotC",
        "colab": {
          "base_uri": "https://localhost:8080/",
          "height": 238
        },
        "outputId": "0aae7675-1213-4f6d-e0d9-b5f1ecea11e3"
      },
      "execution_count": null,
      "outputs": [
        {
          "output_type": "execute_result",
          "data": {
            "text/html": [
              "\n",
              "  <div id=\"df-093d83ff-32e1-44a3-80d8-f1d1a7e32866\">\n",
              "    <div class=\"colab-df-container\">\n",
              "      <div>\n",
              "<style scoped>\n",
              "    .dataframe tbody tr th:only-of-type {\n",
              "        vertical-align: middle;\n",
              "    }\n",
              "\n",
              "    .dataframe tbody tr th {\n",
              "        vertical-align: top;\n",
              "    }\n",
              "\n",
              "    .dataframe thead th {\n",
              "        text-align: right;\n",
              "    }\n",
              "</style>\n",
              "<table border=\"1\" class=\"dataframe\">\n",
              "  <thead>\n",
              "    <tr style=\"text-align: right;\">\n",
              "      <th></th>\n",
              "      <th>Number_of_Crimes_Reported</th>\n",
              "      <th>Gross_Domestic_Product_GDP</th>\n",
              "    </tr>\n",
              "    <tr>\n",
              "      <th>Year</th>\n",
              "      <th></th>\n",
              "      <th></th>\n",
              "    </tr>\n",
              "  </thead>\n",
              "  <tbody>\n",
              "    <tr>\n",
              "      <th>2005-01-01</th>\n",
              "      <td>2313</td>\n",
              "      <td>5.9</td>\n",
              "    </tr>\n",
              "    <tr>\n",
              "      <th>2005-01-01</th>\n",
              "      <td>3153</td>\n",
              "      <td>5.9</td>\n",
              "    </tr>\n",
              "    <tr>\n",
              "      <th>2005-01-01</th>\n",
              "      <td>17304</td>\n",
              "      <td>5.9</td>\n",
              "    </tr>\n",
              "    <tr>\n",
              "      <th>2005-01-01</th>\n",
              "      <td>6936</td>\n",
              "      <td>5.9</td>\n",
              "    </tr>\n",
              "    <tr>\n",
              "      <th>2005-01-01</th>\n",
              "      <td>8454</td>\n",
              "      <td>5.9</td>\n",
              "    </tr>\n",
              "  </tbody>\n",
              "</table>\n",
              "</div>\n",
              "      <button class=\"colab-df-convert\" onclick=\"convertToInteractive('df-093d83ff-32e1-44a3-80d8-f1d1a7e32866')\"\n",
              "              title=\"Convert this dataframe to an interactive table.\"\n",
              "              style=\"display:none;\">\n",
              "        \n",
              "  <svg xmlns=\"http://www.w3.org/2000/svg\" height=\"24px\"viewBox=\"0 0 24 24\"\n",
              "       width=\"24px\">\n",
              "    <path d=\"M0 0h24v24H0V0z\" fill=\"none\"/>\n",
              "    <path d=\"M18.56 5.44l.94 2.06.94-2.06 2.06-.94-2.06-.94-.94-2.06-.94 2.06-2.06.94zm-11 1L8.5 8.5l.94-2.06 2.06-.94-2.06-.94L8.5 2.5l-.94 2.06-2.06.94zm10 10l.94 2.06.94-2.06 2.06-.94-2.06-.94-.94-2.06-.94 2.06-2.06.94z\"/><path d=\"M17.41 7.96l-1.37-1.37c-.4-.4-.92-.59-1.43-.59-.52 0-1.04.2-1.43.59L10.3 9.45l-7.72 7.72c-.78.78-.78 2.05 0 2.83L4 21.41c.39.39.9.59 1.41.59.51 0 1.02-.2 1.41-.59l7.78-7.78 2.81-2.81c.8-.78.8-2.07 0-2.86zM5.41 20L4 18.59l7.72-7.72 1.47 1.35L5.41 20z\"/>\n",
              "  </svg>\n",
              "      </button>\n",
              "      \n",
              "  <style>\n",
              "    .colab-df-container {\n",
              "      display:flex;\n",
              "      flex-wrap:wrap;\n",
              "      gap: 12px;\n",
              "    }\n",
              "\n",
              "    .colab-df-convert {\n",
              "      background-color: #E8F0FE;\n",
              "      border: none;\n",
              "      border-radius: 50%;\n",
              "      cursor: pointer;\n",
              "      display: none;\n",
              "      fill: #1967D2;\n",
              "      height: 32px;\n",
              "      padding: 0 0 0 0;\n",
              "      width: 32px;\n",
              "    }\n",
              "\n",
              "    .colab-df-convert:hover {\n",
              "      background-color: #E2EBFA;\n",
              "      box-shadow: 0px 1px 2px rgba(60, 64, 67, 0.3), 0px 1px 3px 1px rgba(60, 64, 67, 0.15);\n",
              "      fill: #174EA6;\n",
              "    }\n",
              "\n",
              "    [theme=dark] .colab-df-convert {\n",
              "      background-color: #3B4455;\n",
              "      fill: #D2E3FC;\n",
              "    }\n",
              "\n",
              "    [theme=dark] .colab-df-convert:hover {\n",
              "      background-color: #434B5C;\n",
              "      box-shadow: 0px 1px 3px 1px rgba(0, 0, 0, 0.15);\n",
              "      filter: drop-shadow(0px 1px 2px rgba(0, 0, 0, 0.3));\n",
              "      fill: #FFFFFF;\n",
              "    }\n",
              "  </style>\n",
              "\n",
              "      <script>\n",
              "        const buttonEl =\n",
              "          document.querySelector('#df-093d83ff-32e1-44a3-80d8-f1d1a7e32866 button.colab-df-convert');\n",
              "        buttonEl.style.display =\n",
              "          google.colab.kernel.accessAllowed ? 'block' : 'none';\n",
              "\n",
              "        async function convertToInteractive(key) {\n",
              "          const element = document.querySelector('#df-093d83ff-32e1-44a3-80d8-f1d1a7e32866');\n",
              "          const dataTable =\n",
              "            await google.colab.kernel.invokeFunction('convertToInteractive',\n",
              "                                                     [key], {});\n",
              "          if (!dataTable) return;\n",
              "\n",
              "          const docLinkHtml = 'Like what you see? Visit the ' +\n",
              "            '<a target=\"_blank\" href=https://colab.research.google.com/notebooks/data_table.ipynb>data table notebook</a>'\n",
              "            + ' to learn more about interactive tables.';\n",
              "          element.innerHTML = '';\n",
              "          dataTable['output_type'] = 'display_data';\n",
              "          await google.colab.output.renderOutput(dataTable, element);\n",
              "          const docLink = document.createElement('div');\n",
              "          docLink.innerHTML = docLinkHtml;\n",
              "          element.appendChild(docLink);\n",
              "        }\n",
              "      </script>\n",
              "    </div>\n",
              "  </div>\n",
              "  "
            ],
            "text/plain": [
              "            Number_of_Crimes_Reported  Gross_Domestic_Product_GDP\n",
              "Year                                                             \n",
              "2005-01-01                       2313                         5.9\n",
              "2005-01-01                       3153                         5.9\n",
              "2005-01-01                      17304                         5.9\n",
              "2005-01-01                       6936                         5.9\n",
              "2005-01-01                       8454                         5.9"
            ]
          },
          "metadata": {},
          "execution_count": 7
        }
      ]
    },
    {
      "cell_type": "code",
      "source": [
        "df.isnull().sum()"
      ],
      "metadata": {
        "id": "Kn9_nfoFLufx",
        "colab": {
          "base_uri": "https://localhost:8080/"
        },
        "outputId": "e9ea9283-97f9-4117-ab14-242d55626627"
      },
      "execution_count": null,
      "outputs": [
        {
          "output_type": "execute_result",
          "data": {
            "text/plain": [
              "Number_of_Crimes_Reported     0\n",
              "Gross_Domestic_Product_GDP    0\n",
              "dtype: int64"
            ]
          },
          "metadata": {},
          "execution_count": 8
        }
      ]
    },
    {
      "cell_type": "code",
      "source": [
        "df1 = df"
      ],
      "metadata": {
        "id": "t91QP7m1LdAv"
      },
      "execution_count": null,
      "outputs": []
    },
    {
      "cell_type": "code",
      "source": [
        "#removing duplicate rows \n",
        "df = df[~df.index.duplicated()]"
      ],
      "metadata": {
        "id": "JAuR6_J8M8FZ"
      },
      "execution_count": null,
      "outputs": []
    },
    {
      "cell_type": "code",
      "source": [
        "data_returns = df.pct_change()\n",
        "sns.jointplot(x='Number_of_Crimes_Reported', y='Gross_Domestic_Product_GDP', data=data_returns)\n",
        "plt.show()"
      ],
      "metadata": {
        "id": "RZ8iFPkak1S_",
        "colab": {
          "base_uri": "https://localhost:8080/",
          "height": 441
        },
        "outputId": "926a8e09-3f52-4739-bdc4-b149c2183c56"
      },
      "execution_count": null,
      "outputs": [
        {
          "output_type": "display_data",
          "data": {
            "image/png": "[encoded data removed]",
            "text/plain": [
              "<Figure size 432x432 with 3 Axes>"
            ]
          },
          "metadata": {
            "needs_background": "light"
          }
        }
      ]
    },
    {
      "cell_type": "code",
      "source": [
        "data = df[['Gross_Domestic_Product_GDP','Number_of_Crimes_Reported']]\n",
        "correlation = data.corr(method='pearson')\n",
        "correlation"
      ],
      "metadata": {
        "id": "HTKj2bi6JON0",
        "colab": {
          "base_uri": "https://localhost:8080/",
          "height": 112
        },
        "outputId": "fa6fc304-673a-416f-c4d0-b6b6a5b0f274"
      },
      "execution_count": null,
      "outputs": [
        {
          "output_type": "execute_result",
          "data": {
            "text/html": [
              "\n",
              "  <div id=\"df-12e0185f-51ed-4b02-abf0-acb84baf121f\">\n",
              "    <div class=\"colab-df-container\">\n",
              "      <div>\n",
              "<style scoped>\n",
              "    .dataframe tbody tr th:only-of-type {\n",
              "        vertical-align: middle;\n",
              "    }\n",
              "\n",
              "    .dataframe tbody tr th {\n",
              "        vertical-align: top;\n",
              "    }\n",
              "\n",
              "    .dataframe thead th {\n",
              "        text-align: right;\n",
              "    }\n",
              "</style>\n",
              "<table border=\"1\" class=\"dataframe\">\n",
              "  <thead>\n",
              "    <tr style=\"text-align: right;\">\n",
              "      <th></th>\n",
              "      <th>Gross_Domestic_Product_GDP</th>\n",
              "      <th>Number_of_Crimes_Reported</th>\n",
              "    </tr>\n",
              "  </thead>\n",
              "  <tbody>\n",
              "    <tr>\n",
              "      <th>Gross_Domestic_Product_GDP</th>\n",
              "      <td>1.000000</td>\n",
              "      <td>0.182149</td>\n",
              "    </tr>\n",
              "    <tr>\n",
              "      <th>Number_of_Crimes_Reported</th>\n",
              "      <td>0.182149</td>\n",
              "      <td>1.000000</td>\n",
              "    </tr>\n",
              "  </tbody>\n",
              "</table>\n",
              "</div>\n",
              "      <button class=\"colab-df-convert\" onclick=\"convertToInteractive('df-12e0185f-51ed-4b02-abf0-acb84baf121f')\"\n",
              "              title=\"Convert this dataframe to an interactive table.\"\n",
              "              style=\"display:none;\">\n",
              "        \n",
              "  <svg xmlns=\"http://www.w3.org/2000/svg\" height=\"24px\"viewBox=\"0 0 24 24\"\n",
              "       width=\"24px\">\n",
              "    <path d=\"M0 0h24v24H0V0z\" fill=\"none\"/>\n",
              "    <path d=\"M18.56 5.44l.94 2.06.94-2.06 2.06-.94-2.06-.94-.94-2.06-.94 2.06-2.06.94zm-11 1L8.5 8.5l.94-2.06 2.06-.94-2.06-.94L8.5 2.5l-.94 2.06-2.06.94zm10 10l.94 2.06.94-2.06 2.06-.94-2.06-.94-.94-2.06-.94 2.06-2.06.94z\"/><path d=\"M17.41 7.96l-1.37-1.37c-.4-.4-.92-.59-1.43-.59-.52 0-1.04.2-1.43.59L10.3 9.45l-7.72 7.72c-.78.78-.78 2.05 0 2.83L4 21.41c.39.39.9.59 1.41.59.51 0 1.02-.2 1.41-.59l7.78-7.78 2.81-2.81c.8-.78.8-2.07 0-2.86zM5.41 20L4 18.59l7.72-7.72 1.47 1.35L5.41 20z\"/>\n",
              "  </svg>\n",
              "      </button>\n",
              "      \n",
              "  <style>\n",
              "    .colab-df-container {\n",
              "      display:flex;\n",
              "      flex-wrap:wrap;\n",
              "      gap: 12px;\n",
              "    }\n",
              "\n",
              "    .colab-df-convert {\n",
              "      background-color: #E8F0FE;\n",
              "      border: none;\n",
              "      border-radius: 50%;\n",
              "      cursor: pointer;\n",
              "      display: none;\n",
              "      fill: #1967D2;\n",
              "      height: 32px;\n",
              "      padding: 0 0 0 0;\n",
              "      width: 32px;\n",
              "    }\n",
              "\n",
              "    .colab-df-convert:hover {\n",
              "      background-color: #E2EBFA;\n",
              "      box-shadow: 0px 1px 2px rgba(60, 64, 67, 0.3), 0px 1px 3px 1px rgba(60, 64, 67, 0.15);\n",
              "      fill: #174EA6;\n",
              "    }\n",
              "\n",
              "    [theme=dark] .colab-df-convert {\n",
              "      background-color: #3B4455;\n",
              "      fill: #D2E3FC;\n",
              "    }\n",
              "\n",
              "    [theme=dark] .colab-df-convert:hover {\n",
              "      background-color: #434B5C;\n",
              "      box-shadow: 0px 1px 3px 1px rgba(0, 0, 0, 0.15);\n",
              "      filter: drop-shadow(0px 1px 2px rgba(0, 0, 0, 0.3));\n",
              "      fill: #FFFFFF;\n",
              "    }\n",
              "  </style>\n",
              "\n",
              "      <script>\n",
              "        const buttonEl =\n",
              "          document.querySelector('#df-12e0185f-51ed-4b02-abf0-acb84baf121f button.colab-df-convert');\n",
              "        buttonEl.style.display =\n",
              "          google.colab.kernel.accessAllowed ? 'block' : 'none';\n",
              "\n",
              "        async function convertToInteractive(key) {\n",
              "          const element = document.querySelector('#df-12e0185f-51ed-4b02-abf0-acb84baf121f');\n",
              "          const dataTable =\n",
              "            await google.colab.kernel.invokeFunction('convertToInteractive',\n",
              "                                                     [key], {});\n",
              "          if (!dataTable) return;\n",
              "\n",
              "          const docLinkHtml = 'Like what you see? Visit the ' +\n",
              "            '<a target=\"_blank\" href=https://colab.research.google.com/notebooks/data_table.ipynb>data table notebook</a>'\n",
              "            + ' to learn more about interactive tables.';\n",
              "          element.innerHTML = '';\n",
              "          dataTable['output_type'] = 'display_data';\n",
              "          await google.colab.output.renderOutput(dataTable, element);\n",
              "          const docLink = document.createElement('div');\n",
              "          docLink.innerHTML = docLinkHtml;\n",
              "          element.appendChild(docLink);\n",
              "        }\n",
              "      </script>\n",
              "    </div>\n",
              "  </div>\n",
              "  "
            ],
            "text/plain": [
              "                            Gross_Domestic_Product_GDP  Number_of_Crimes_Reported\n",
              "Gross_Domestic_Product_GDP                    1.000000                   0.182149\n",
              "Number_of_Crimes_Reported                     0.182149                   1.000000"
            ]
          },
          "metadata": {},
          "execution_count": 12
        }
      ]
    },
    {
      "cell_type": "markdown",
      "source": [
        "---\n",
        "\n"
      ],
      "metadata": {
        "id": "q90YyD28qPcR"
      }
    },
    {
      "cell_type": "markdown",
      "source": [
        "#**5. Phase 5: Modelling**"
      ],
      "metadata": {
        "id": "aO5jMmMiFGO-"
      }
    },
    {
      "cell_type": "markdown",
      "source": [
        "**Tasks**\n",
        "\n",
        "*   LSTM Data Preparation\n",
        "*   Defination of supervised learning problem\n",
        "*   Modelling\n"
      ],
      "metadata": {
        "id": "2zZoK5B7S5CF"
      }
    },
    {
      "cell_type": "markdown",
      "source": [
        "###**Data Preperation for LSTM**"
      ],
      "metadata": {
        "id": "lsIH6BYH_5hc"
      }
    },
    {
      "cell_type": "code",
      "source": [
        "#importing required packages \n",
        "from math import sqrt\n",
        "from numpy import concatenate\n",
        "import matplotlib.pyplot as plt\n",
        "from pandas import read_csv, get_dummies\n",
        "from pandas import DataFrame\n",
        "from pandas import concat\n",
        "from sklearn.preprocessing import MinMaxScaler\n",
        "from sklearn.metrics import mean_squared_error\n",
        "from keras.models import Sequential\n",
        "from keras.layers import Dense\n",
        "from keras.layers import LSTM\n",
        "\n",
        "# convert series to supervised learning\n",
        "def series_to_supervised(data, n_in=1, n_out=1, dropnan=True):\n",
        "  n_vars = 1 if type(data) is list else data.shape[1]\n",
        "  df = DataFrame(data)\n",
        "  cols, names = list(), list()\n",
        "\n",
        "  # input sequence (t-n, ... t-1)\n",
        "  for i in range(n_in, 0, -1):\n",
        "    cols.append(df.shift(i))\n",
        "    names += [('var%d(t-%d)' % (j+1, i)) for j in range(n_vars)]\n",
        "\n",
        "  # forecast sequence (t, t+1, ... t+n)\n",
        "  for i in range(0, n_out):\n",
        "    cols.append(df.shift(-i))\n",
        "    if i == 0:\n",
        "      names += [('var%d(t)' % (j+1)) for j in range(n_vars)]\n",
        "    else:\n",
        "      names += [('var%d(t+%d)' % (j+1, i)) for j in range(n_vars)]\n",
        "\n",
        "  # put it all together\n",
        "  agg = concat(cols, axis=1)\n",
        "  agg.columns = names\n",
        "\n",
        "  # drop rows with NaN values\n",
        "  if dropnan:\n",
        "    agg.dropna(inplace=True)\n",
        "  return agg"
      ],
      "metadata": {
        "id": "mC80qxi1_4Cc"
      },
      "execution_count": null,
      "outputs": []
    },
    {
      "cell_type": "code",
      "source": [
        ""
      ],
      "metadata": {
        "id": "aDUPnXgzOLPq"
      },
      "execution_count": null,
      "outputs": []
    },
    {
      "cell_type": "markdown",
      "source": [
        "**The aim is to build a model that predicts the Number of Crimes Reported.**\n",
        " \n",
        "  **1. I first load the dataset that is intended to be used**  "
      ],
      "metadata": {
        "id": "VOC9ODvWGv5K"
      }
    },
    {
      "cell_type": "code",
      "source": [
        "import pandas as pd\n",
        "\n",
        "# load dataset\n",
        "pathDataset = '/content/drive/MyDrive/Colab Notebooks/School Project docs and files/Crimes_Reported_from_2005_to_2019_with_Corresponding_annual_GDP.csv'\n",
        "dataset = pd.read_csv(pathDataset, header=0, index_col=0)\n",
        "dataset.head()"
      ],
      "metadata": {
        "colab": {
          "base_uri": "https://localhost:8080/",
          "height": 206
        },
        "id": "MgXUf581IF6D",
        "outputId": "639f49da-16fa-429d-fa0a-54c5b47ba7d0"
      },
      "execution_count": null,
      "outputs": [
        {
          "output_type": "execute_result",
          "data": {
            "text/html": [
              "\n",
              "  <div id=\"df-48fd11c6-e3ec-4aa4-ab31-d896c8364ad2\">\n",
              "    <div class=\"colab-df-container\">\n",
              "      <div>\n",
              "<style scoped>\n",
              "    .dataframe tbody tr th:only-of-type {\n",
              "        vertical-align: middle;\n",
              "    }\n",
              "\n",
              "    .dataframe tbody tr th {\n",
              "        vertical-align: top;\n",
              "    }\n",
              "\n",
              "    .dataframe thead th {\n",
              "        text-align: right;\n",
              "    }\n",
              "</style>\n",
              "<table border=\"1\" class=\"dataframe\">\n",
              "  <thead>\n",
              "    <tr style=\"text-align: right;\">\n",
              "      <th></th>\n",
              "      <th>Year</th>\n",
              "      <th>Type_of_Crime</th>\n",
              "      <th>Number_of_Crimes_Reported</th>\n",
              "      <th>Gross_Domestic_Product_GDP</th>\n",
              "    </tr>\n",
              "  </thead>\n",
              "  <tbody>\n",
              "    <tr>\n",
              "      <th>0</th>\n",
              "      <td>2005-01-01</td>\n",
              "      <td>Homicide</td>\n",
              "      <td>2313</td>\n",
              "      <td>5.9</td>\n",
              "    </tr>\n",
              "    <tr>\n",
              "      <th>1</th>\n",
              "      <td>2005-01-01</td>\n",
              "      <td>Offences against morality</td>\n",
              "      <td>3153</td>\n",
              "      <td>5.9</td>\n",
              "    </tr>\n",
              "    <tr>\n",
              "      <th>2</th>\n",
              "      <td>2005-01-01</td>\n",
              "      <td>Other offences against persons</td>\n",
              "      <td>17304</td>\n",
              "      <td>5.9</td>\n",
              "    </tr>\n",
              "    <tr>\n",
              "      <th>3</th>\n",
              "      <td>2005-01-01</td>\n",
              "      <td>Robbery</td>\n",
              "      <td>6936</td>\n",
              "      <td>5.9</td>\n",
              "    </tr>\n",
              "    <tr>\n",
              "      <th>4</th>\n",
              "      <td>2005-01-01</td>\n",
              "      <td>Breakings</td>\n",
              "      <td>8454</td>\n",
              "      <td>5.9</td>\n",
              "    </tr>\n",
              "  </tbody>\n",
              "</table>\n",
              "</div>\n",
              "      <button class=\"colab-df-convert\" onclick=\"convertToInteractive('df-48fd11c6-e3ec-4aa4-ab31-d896c8364ad2')\"\n",
              "              title=\"Convert this dataframe to an interactive table.\"\n",
              "              style=\"display:none;\">\n",
              "        \n",
              "  <svg xmlns=\"http://www.w3.org/2000/svg\" height=\"24px\"viewBox=\"0 0 24 24\"\n",
              "       width=\"24px\">\n",
              "    <path d=\"M0 0h24v24H0V0z\" fill=\"none\"/>\n",
              "    <path d=\"M18.56 5.44l.94 2.06.94-2.06 2.06-.94-2.06-.94-.94-2.06-.94 2.06-2.06.94zm-11 1L8.5 8.5l.94-2.06 2.06-.94-2.06-.94L8.5 2.5l-.94 2.06-2.06.94zm10 10l.94 2.06.94-2.06 2.06-.94-2.06-.94-.94-2.06-.94 2.06-2.06.94z\"/><path d=\"M17.41 7.96l-1.37-1.37c-.4-.4-.92-.59-1.43-.59-.52 0-1.04.2-1.43.59L10.3 9.45l-7.72 7.72c-.78.78-.78 2.05 0 2.83L4 21.41c.39.39.9.59 1.41.59.51 0 1.02-.2 1.41-.59l7.78-7.78 2.81-2.81c.8-.78.8-2.07 0-2.86zM5.41 20L4 18.59l7.72-7.72 1.47 1.35L5.41 20z\"/>\n",
              "  </svg>\n",
              "      </button>\n",
              "      \n",
              "  <style>\n",
              "    .colab-df-container {\n",
              "      display:flex;\n",
              "      flex-wrap:wrap;\n",
              "      gap: 12px;\n",
              "    }\n",
              "\n",
              "    .colab-df-convert {\n",
              "      background-color: #E8F0FE;\n",
              "      border: none;\n",
              "      border-radius: 50%;\n",
              "      cursor: pointer;\n",
              "      display: none;\n",
              "      fill: #1967D2;\n",
              "      height: 32px;\n",
              "      padding: 0 0 0 0;\n",
              "      width: 32px;\n",
              "    }\n",
              "\n",
              "    .colab-df-convert:hover {\n",
              "      background-color: #E2EBFA;\n",
              "      box-shadow: 0px 1px 2px rgba(60, 64, 67, 0.3), 0px 1px 3px 1px rgba(60, 64, 67, 0.15);\n",
              "      fill: #174EA6;\n",
              "    }\n",
              "\n",
              "    [theme=dark] .colab-df-convert {\n",
              "      background-color: #3B4455;\n",
              "      fill: #D2E3FC;\n",
              "    }\n",
              "\n",
              "    [theme=dark] .colab-df-convert:hover {\n",
              "      background-color: #434B5C;\n",
              "      box-shadow: 0px 1px 3px 1px rgba(0, 0, 0, 0.15);\n",
              "      filter: drop-shadow(0px 1px 2px rgba(0, 0, 0, 0.3));\n",
              "      fill: #FFFFFF;\n",
              "    }\n",
              "  </style>\n",
              "\n",
              "      <script>\n",
              "        const buttonEl =\n",
              "          document.querySelector('#df-48fd11c6-e3ec-4aa4-ab31-d896c8364ad2 button.colab-df-convert');\n",
              "        buttonEl.style.display =\n",
              "          google.colab.kernel.accessAllowed ? 'block' : 'none';\n",
              "\n",
              "        async function convertToInteractive(key) {\n",
              "          const element = document.querySelector('#df-48fd11c6-e3ec-4aa4-ab31-d896c8364ad2');\n",
              "          const dataTable =\n",
              "            await google.colab.kernel.invokeFunction('convertToInteractive',\n",
              "                                                     [key], {});\n",
              "          if (!dataTable) return;\n",
              "\n",
              "          const docLinkHtml = 'Like what you see? Visit the ' +\n",
              "            '<a target=\"_blank\" href=https://colab.research.google.com/notebooks/data_table.ipynb>data table notebook</a>'\n",
              "            + ' to learn more about interactive tables.';\n",
              "          element.innerHTML = '';\n",
              "          dataTable['output_type'] = 'display_data';\n",
              "          await google.colab.output.renderOutput(dataTable, element);\n",
              "          const docLink = document.createElement('div');\n",
              "          docLink.innerHTML = docLinkHtml;\n",
              "          element.appendChild(docLink);\n",
              "        }\n",
              "      </script>\n",
              "    </div>\n",
              "  </div>\n",
              "  "
            ],
            "text/plain": [
              "         Year  ... Gross_Domestic_Product_GDP\n",
              "0  2005-01-01  ...                        5.9\n",
              "1  2005-01-01  ...                        5.9\n",
              "2  2005-01-01  ...                        5.9\n",
              "3  2005-01-01  ...                        5.9\n",
              "4  2005-01-01  ...                        5.9\n",
              "\n",
              "[5 rows x 4 columns]"
            ]
          },
          "metadata": {},
          "execution_count": 7
        }
      ]
    },
    {
      "cell_type": "code",
      "source": [
        ""
      ],
      "metadata": {
        "id": "E_gXqlOXMjI6"
      },
      "execution_count": null,
      "outputs": []
    },
    {
      "cell_type": "markdown",
      "source": [
        "**2.   Make 'Year' column to be index of the data set** \n",
        "\n"
      ],
      "metadata": {
        "id": "rxROo22eMN2h"
      }
    },
    {
      "cell_type": "code",
      "source": [
        "df_index = pd.read_csv(pathDataset, parse_dates=['Year'], index_col=['Year'])\n",
        "df_index.to_csv('/content/drive/MyDrive/colab_notebooks/indexed_dataset.csv')"
      ],
      "metadata": {
        "id": "2hwNh9YyfoNH"
      },
      "execution_count": null,
      "outputs": []
    },
    {
      "cell_type": "code",
      "source": [
        "df_index = pd.read_csv('/content/drive/MyDrive/colab_notebooks/indexed_dataset.csv', header=0, index_col=0)\n",
        "df_index.columns"
      ],
      "metadata": {
        "colab": {
          "base_uri": "https://localhost:8080/"
        },
        "id": "9MJildl1foJd",
        "outputId": "51a371da-6f2a-4b54-9e8d-ffaa8821ec97"
      },
      "execution_count": null,
      "outputs": [
        {
          "output_type": "execute_result",
          "data": {
            "text/plain": [
              "Index(['Unnamed: 0', 'Type_of_Crime', 'Number_of_Crimes_Reported',\n",
              "       'Gross_Domestic_Product_GDP'],\n",
              "      dtype='object')"
            ]
          },
          "metadata": {},
          "execution_count": 12
        }
      ]
    },
    {
      "cell_type": "code",
      "source": [
        "df_index.shape"
      ],
      "metadata": {
        "colab": {
          "base_uri": "https://localhost:8080/"
        },
        "id": "s_zyVZO9jvhL",
        "outputId": "501e85ec-c43f-453f-eed0-7c3e4889d9a5"
      },
      "execution_count": null,
      "outputs": [
        {
          "output_type": "execute_result",
          "data": {
            "text/plain": [
              "(238, 4)"
            ]
          },
          "metadata": {},
          "execution_count": 13
        }
      ]
    },
    {
      "cell_type": "markdown",
      "source": [
        "**Reorder column - Number of Crimes Reported - made as dependent** \n",
        "\n",
        "\n",
        "*   I will then reorder the columns in the dataset to make the \"Number of Crimes Reported\" column to be a dependent variable ... It will be dependent of the GDP"
      ],
      "metadata": {
        "id": "UxWTNXS2J_yL"
      }
    },
    {
      "cell_type": "code",
      "source": [
        "cols = ['Number_of_Crimes_Reported','Gross_Domestic_Product_GDP','Type_of_Crime']\n",
        "dataset = dataset.reindex(columns=cols)\n",
        "dataset.columns"
      ],
      "metadata": {
        "colab": {
          "base_uri": "https://localhost:8080/"
        },
        "id": "a2BFGJziKoMJ",
        "outputId": "1aeeec79-6f6a-4dbd-f059-59cb6fa8a287"
      },
      "execution_count": null,
      "outputs": [
        {
          "output_type": "execute_result",
          "data": {
            "text/plain": [
              "Index(['Number_of_Crimes_Reported', 'Gross_Domestic_Product_GDP',\n",
              "       'Type_of_Crime'],\n",
              "      dtype='object')"
            ]
          },
          "metadata": {},
          "execution_count": 41
        }
      ]
    },
    {
      "cell_type": "code",
      "source": [
        "dataset.shape"
      ],
      "metadata": {
        "colab": {
          "base_uri": "https://localhost:8080/"
        },
        "id": "57Y_Nht1g0QA",
        "outputId": "5693df54-9c33-43b6-ca04-2cbd576f7365"
      },
      "execution_count": null,
      "outputs": [
        {
          "output_type": "execute_result",
          "data": {
            "text/plain": [
              "(238, 3)"
            ]
          },
          "metadata": {},
          "execution_count": 42
        }
      ]
    },
    {
      "cell_type": "code",
      "source": [
        ""
      ],
      "metadata": {
        "id": "L9bOxXjqMCps"
      },
      "execution_count": null,
      "outputs": []
    },
    {
      "cell_type": "markdown",
      "source": [
        "### One Hot encoding Type_of_Crime column"
      ],
      "metadata": {
        "id": "JclD3xWfQ57a"
      }
    },
    {
      "cell_type": "markdown",
      "source": [
        "One hot encoding is the process of transforming a column of string d_type to columns of 1s and 0s; since most predictive models take as input numerical data"
      ],
      "metadata": {
        "id": "AmXAwFDdRObp"
      }
    },
    {
      "cell_type": "code",
      "source": [
        "# generate binary values using get_dummies\n",
        "dum_df = get_dummies(dataset, columns=[\"Type_of_Crime\"])# merge with main df bridge_df on key values\n",
        "#dataset = dataset.merge(dum_df)\n",
        "\n",
        "# dataset\n",
        "dum_df"
      ],
      "metadata": {
        "colab": {
          "base_uri": "https://localhost:8080/",
          "height": 523
        },
        "id": "USZv5CcMiczb",
        "outputId": "f0f59280-2611-42bf-fa6b-0960f7480572"
      },
      "execution_count": null,
      "outputs": [
        {
          "output_type": "execute_result",
          "data": {
            "text/html": [
              "\n",
              "  <div id=\"df-a21b9a1b-0d73-4cd7-8b54-7c0f81560f26\">\n",
              "    <div class=\"colab-df-container\">\n",
              "      <div>\n",
              "<style scoped>\n",
              "    .dataframe tbody tr th:only-of-type {\n",
              "        vertical-align: middle;\n",
              "    }\n",
              "\n",
              "    .dataframe tbody tr th {\n",
              "        vertical-align: top;\n",
              "    }\n",
              "\n",
              "    .dataframe thead th {\n",
              "        text-align: right;\n",
              "    }\n",
              "</style>\n",
              "<table border=\"1\" class=\"dataframe\">\n",
              "  <thead>\n",
              "    <tr style=\"text-align: right;\">\n",
              "      <th></th>\n",
              "      <th>Year</th>\n",
              "      <th>Number_of_Crimes_Reported</th>\n",
              "      <th>Gross_Domestic_Product_GDP</th>\n",
              "      <th>Type_of_Crime_Breakings</th>\n",
              "      <th>Type_of_Crime_Corruption</th>\n",
              "      <th>Type_of_Crime_Criminal damage</th>\n",
              "      <th>Type_of_Crime_Dangerous drugs</th>\n",
              "      <th>Type_of_Crime_Economic crimes</th>\n",
              "      <th>Type_of_Crime_Homicide</th>\n",
              "      <th>Type_of_Crime_Offences against morality</th>\n",
              "      <th>Type_of_Crime_Offences involving police officers</th>\n",
              "      <th>Type_of_Crime_Offences involving tourists</th>\n",
              "      <th>Type_of_Crime_Other offences against persons</th>\n",
              "      <th>Type_of_Crime_Other penal code offences</th>\n",
              "      <th>Type_of_Crime_Robbery</th>\n",
              "      <th>Type_of_Crime_Stealing</th>\n",
              "      <th>Type_of_Crime_Theft by servant</th>\n",
              "      <th>Type_of_Crime_Theft of stock</th>\n",
              "      <th>Type_of_Crime_Traffic offences</th>\n",
              "      <th>Type_of_Crime_Vehicles and other thefts</th>\n",
              "    </tr>\n",
              "  </thead>\n",
              "  <tbody>\n",
              "    <tr>\n",
              "      <th>0</th>\n",
              "      <td>2005-01-01</td>\n",
              "      <td>2313</td>\n",
              "      <td>5.9</td>\n",
              "      <td>0</td>\n",
              "      <td>0</td>\n",
              "      <td>0</td>\n",
              "      <td>0</td>\n",
              "      <td>0</td>\n",
              "      <td>1</td>\n",
              "      <td>0</td>\n",
              "      <td>0</td>\n",
              "      <td>0</td>\n",
              "      <td>0</td>\n",
              "      <td>0</td>\n",
              "      <td>0</td>\n",
              "      <td>0</td>\n",
              "      <td>0</td>\n",
              "      <td>0</td>\n",
              "      <td>0</td>\n",
              "      <td>0</td>\n",
              "    </tr>\n",
              "    <tr>\n",
              "      <th>1</th>\n",
              "      <td>2005-01-01</td>\n",
              "      <td>3153</td>\n",
              "      <td>5.9</td>\n",
              "      <td>0</td>\n",
              "      <td>0</td>\n",
              "      <td>0</td>\n",
              "      <td>0</td>\n",
              "      <td>0</td>\n",
              "      <td>0</td>\n",
              "      <td>1</td>\n",
              "      <td>0</td>\n",
              "      <td>0</td>\n",
              "      <td>0</td>\n",
              "      <td>0</td>\n",
              "      <td>0</td>\n",
              "      <td>0</td>\n",
              "      <td>0</td>\n",
              "      <td>0</td>\n",
              "      <td>0</td>\n",
              "      <td>0</td>\n",
              "    </tr>\n",
              "    <tr>\n",
              "      <th>2</th>\n",
              "      <td>2005-01-01</td>\n",
              "      <td>17304</td>\n",
              "      <td>5.9</td>\n",
              "      <td>0</td>\n",
              "      <td>0</td>\n",
              "      <td>0</td>\n",
              "      <td>0</td>\n",
              "      <td>0</td>\n",
              "      <td>0</td>\n",
              "      <td>0</td>\n",
              "      <td>0</td>\n",
              "      <td>0</td>\n",
              "      <td>1</td>\n",
              "      <td>0</td>\n",
              "      <td>0</td>\n",
              "      <td>0</td>\n",
              "      <td>0</td>\n",
              "      <td>0</td>\n",
              "      <td>0</td>\n",
              "      <td>0</td>\n",
              "    </tr>\n",
              "    <tr>\n",
              "      <th>3</th>\n",
              "      <td>2005-01-01</td>\n",
              "      <td>6936</td>\n",
              "      <td>5.9</td>\n",
              "      <td>0</td>\n",
              "      <td>0</td>\n",
              "      <td>0</td>\n",
              "      <td>0</td>\n",
              "      <td>0</td>\n",
              "      <td>0</td>\n",
              "      <td>0</td>\n",
              "      <td>0</td>\n",
              "      <td>0</td>\n",
              "      <td>0</td>\n",
              "      <td>0</td>\n",
              "      <td>1</td>\n",
              "      <td>0</td>\n",
              "      <td>0</td>\n",
              "      <td>0</td>\n",
              "      <td>0</td>\n",
              "      <td>0</td>\n",
              "    </tr>\n",
              "    <tr>\n",
              "      <th>4</th>\n",
              "      <td>2005-01-01</td>\n",
              "      <td>8454</td>\n",
              "      <td>5.9</td>\n",
              "      <td>1</td>\n",
              "      <td>0</td>\n",
              "      <td>0</td>\n",
              "      <td>0</td>\n",
              "      <td>0</td>\n",
              "      <td>0</td>\n",
              "      <td>0</td>\n",
              "      <td>0</td>\n",
              "      <td>0</td>\n",
              "      <td>0</td>\n",
              "      <td>0</td>\n",
              "      <td>0</td>\n",
              "      <td>0</td>\n",
              "      <td>0</td>\n",
              "      <td>0</td>\n",
              "      <td>0</td>\n",
              "      <td>0</td>\n",
              "    </tr>\n",
              "    <tr>\n",
              "      <th>...</th>\n",
              "      <td>...</td>\n",
              "      <td>...</td>\n",
              "      <td>...</td>\n",
              "      <td>...</td>\n",
              "      <td>...</td>\n",
              "      <td>...</td>\n",
              "      <td>...</td>\n",
              "      <td>...</td>\n",
              "      <td>...</td>\n",
              "      <td>...</td>\n",
              "      <td>...</td>\n",
              "      <td>...</td>\n",
              "      <td>...</td>\n",
              "      <td>...</td>\n",
              "      <td>...</td>\n",
              "      <td>...</td>\n",
              "      <td>...</td>\n",
              "      <td>...</td>\n",
              "      <td>...</td>\n",
              "      <td>...</td>\n",
              "    </tr>\n",
              "    <tr>\n",
              "      <th>233</th>\n",
              "      <td>2018-01-01</td>\n",
              "      <td>4100</td>\n",
              "      <td>6.3</td>\n",
              "      <td>0</td>\n",
              "      <td>0</td>\n",
              "      <td>0</td>\n",
              "      <td>0</td>\n",
              "      <td>1</td>\n",
              "      <td>0</td>\n",
              "      <td>0</td>\n",
              "      <td>0</td>\n",
              "      <td>0</td>\n",
              "      <td>0</td>\n",
              "      <td>0</td>\n",
              "      <td>0</td>\n",
              "      <td>0</td>\n",
              "      <td>0</td>\n",
              "      <td>0</td>\n",
              "      <td>0</td>\n",
              "      <td>0</td>\n",
              "    </tr>\n",
              "    <tr>\n",
              "      <th>234</th>\n",
              "      <td>2018-01-01</td>\n",
              "      <td>119</td>\n",
              "      <td>6.3</td>\n",
              "      <td>0</td>\n",
              "      <td>1</td>\n",
              "      <td>0</td>\n",
              "      <td>0</td>\n",
              "      <td>0</td>\n",
              "      <td>0</td>\n",
              "      <td>0</td>\n",
              "      <td>0</td>\n",
              "      <td>0</td>\n",
              "      <td>0</td>\n",
              "      <td>0</td>\n",
              "      <td>0</td>\n",
              "      <td>0</td>\n",
              "      <td>0</td>\n",
              "      <td>0</td>\n",
              "      <td>0</td>\n",
              "      <td>0</td>\n",
              "    </tr>\n",
              "    <tr>\n",
              "      <th>235</th>\n",
              "      <td>2018-01-01</td>\n",
              "      <td>174</td>\n",
              "      <td>6.3</td>\n",
              "      <td>0</td>\n",
              "      <td>0</td>\n",
              "      <td>0</td>\n",
              "      <td>0</td>\n",
              "      <td>0</td>\n",
              "      <td>0</td>\n",
              "      <td>0</td>\n",
              "      <td>1</td>\n",
              "      <td>0</td>\n",
              "      <td>0</td>\n",
              "      <td>0</td>\n",
              "      <td>0</td>\n",
              "      <td>0</td>\n",
              "      <td>0</td>\n",
              "      <td>0</td>\n",
              "      <td>0</td>\n",
              "      <td>0</td>\n",
              "    </tr>\n",
              "    <tr>\n",
              "      <th>236</th>\n",
              "      <td>2018-01-01</td>\n",
              "      <td>93</td>\n",
              "      <td>6.3</td>\n",
              "      <td>0</td>\n",
              "      <td>0</td>\n",
              "      <td>0</td>\n",
              "      <td>0</td>\n",
              "      <td>0</td>\n",
              "      <td>0</td>\n",
              "      <td>0</td>\n",
              "      <td>0</td>\n",
              "      <td>1</td>\n",
              "      <td>0</td>\n",
              "      <td>0</td>\n",
              "      <td>0</td>\n",
              "      <td>0</td>\n",
              "      <td>0</td>\n",
              "      <td>0</td>\n",
              "      <td>0</td>\n",
              "      <td>0</td>\n",
              "    </tr>\n",
              "    <tr>\n",
              "      <th>237</th>\n",
              "      <td>2018-01-01</td>\n",
              "      <td>7953</td>\n",
              "      <td>6.3</td>\n",
              "      <td>0</td>\n",
              "      <td>0</td>\n",
              "      <td>0</td>\n",
              "      <td>0</td>\n",
              "      <td>0</td>\n",
              "      <td>0</td>\n",
              "      <td>0</td>\n",
              "      <td>0</td>\n",
              "      <td>0</td>\n",
              "      <td>0</td>\n",
              "      <td>1</td>\n",
              "      <td>0</td>\n",
              "      <td>0</td>\n",
              "      <td>0</td>\n",
              "      <td>0</td>\n",
              "      <td>0</td>\n",
              "      <td>0</td>\n",
              "    </tr>\n",
              "  </tbody>\n",
              "</table>\n",
              "<p>238 rows × 20 columns</p>\n",
              "</div>\n",
              "      <button class=\"colab-df-convert\" onclick=\"convertToInteractive('df-a21b9a1b-0d73-4cd7-8b54-7c0f81560f26')\"\n",
              "              title=\"Convert this dataframe to an interactive table.\"\n",
              "              style=\"display:none;\">\n",
              "        \n",
              "  <svg xmlns=\"http://www.w3.org/2000/svg\" height=\"24px\"viewBox=\"0 0 24 24\"\n",
              "       width=\"24px\">\n",
              "    <path d=\"M0 0h24v24H0V0z\" fill=\"none\"/>\n",
              "    <path d=\"M18.56 5.44l.94 2.06.94-2.06 2.06-.94-2.06-.94-.94-2.06-.94 2.06-2.06.94zm-11 1L8.5 8.5l.94-2.06 2.06-.94-2.06-.94L8.5 2.5l-.94 2.06-2.06.94zm10 10l.94 2.06.94-2.06 2.06-.94-2.06-.94-.94-2.06-.94 2.06-2.06.94z\"/><path d=\"M17.41 7.96l-1.37-1.37c-.4-.4-.92-.59-1.43-.59-.52 0-1.04.2-1.43.59L10.3 9.45l-7.72 7.72c-.78.78-.78 2.05 0 2.83L4 21.41c.39.39.9.59 1.41.59.51 0 1.02-.2 1.41-.59l7.78-7.78 2.81-2.81c.8-.78.8-2.07 0-2.86zM5.41 20L4 18.59l7.72-7.72 1.47 1.35L5.41 20z\"/>\n",
              "  </svg>\n",
              "      </button>\n",
              "      \n",
              "  <style>\n",
              "    .colab-df-container {\n",
              "      display:flex;\n",
              "      flex-wrap:wrap;\n",
              "      gap: 12px;\n",
              "    }\n",
              "\n",
              "    .colab-df-convert {\n",
              "      background-color: #E8F0FE;\n",
              "      border: none;\n",
              "      border-radius: 50%;\n",
              "      cursor: pointer;\n",
              "      display: none;\n",
              "      fill: #1967D2;\n",
              "      height: 32px;\n",
              "      padding: 0 0 0 0;\n",
              "      width: 32px;\n",
              "    }\n",
              "\n",
              "    .colab-df-convert:hover {\n",
              "      background-color: #E2EBFA;\n",
              "      box-shadow: 0px 1px 2px rgba(60, 64, 67, 0.3), 0px 1px 3px 1px rgba(60, 64, 67, 0.15);\n",
              "      fill: #174EA6;\n",
              "    }\n",
              "\n",
              "    [theme=dark] .colab-df-convert {\n",
              "      background-color: #3B4455;\n",
              "      fill: #D2E3FC;\n",
              "    }\n",
              "\n",
              "    [theme=dark] .colab-df-convert:hover {\n",
              "      background-color: #434B5C;\n",
              "      box-shadow: 0px 1px 3px 1px rgba(0, 0, 0, 0.15);\n",
              "      filter: drop-shadow(0px 1px 2px rgba(0, 0, 0, 0.3));\n",
              "      fill: #FFFFFF;\n",
              "    }\n",
              "  </style>\n",
              "\n",
              "      <script>\n",
              "        const buttonEl =\n",
              "          document.querySelector('#df-a21b9a1b-0d73-4cd7-8b54-7c0f81560f26 button.colab-df-convert');\n",
              "        buttonEl.style.display =\n",
              "          google.colab.kernel.accessAllowed ? 'block' : 'none';\n",
              "\n",
              "        async function convertToInteractive(key) {\n",
              "          const element = document.querySelector('#df-a21b9a1b-0d73-4cd7-8b54-7c0f81560f26');\n",
              "          const dataTable =\n",
              "            await google.colab.kernel.invokeFunction('convertToInteractive',\n",
              "                                                     [key], {});\n",
              "          if (!dataTable) return;\n",
              "\n",
              "          const docLinkHtml = 'Like what you see? Visit the ' +\n",
              "            '<a target=\"_blank\" href=https://colab.research.google.com/notebooks/data_table.ipynb>data table notebook</a>'\n",
              "            + ' to learn more about interactive tables.';\n",
              "          element.innerHTML = '';\n",
              "          dataTable['output_type'] = 'display_data';\n",
              "          await google.colab.output.renderOutput(dataTable, element);\n",
              "          const docLink = document.createElement('div');\n",
              "          docLink.innerHTML = docLinkHtml;\n",
              "          element.appendChild(docLink);\n",
              "        }\n",
              "      </script>\n",
              "    </div>\n",
              "  </div>\n",
              "  "
            ],
            "text/plain": [
              "           Year  ...  Type_of_Crime_Vehicles and other thefts\n",
              "0    2005-01-01  ...                                        0\n",
              "1    2005-01-01  ...                                        0\n",
              "2    2005-01-01  ...                                        0\n",
              "3    2005-01-01  ...                                        0\n",
              "4    2005-01-01  ...                                        0\n",
              "..          ...  ...                                      ...\n",
              "233  2018-01-01  ...                                        0\n",
              "234  2018-01-01  ...                                        0\n",
              "235  2018-01-01  ...                                        0\n",
              "236  2018-01-01  ...                                        0\n",
              "237  2018-01-01  ...                                        0\n",
              "\n",
              "[238 rows x 20 columns]"
            ]
          },
          "metadata": {},
          "execution_count": 19
        }
      ]
    },
    {
      "cell_type": "code",
      "source": [
        "dataset = dum_df\n",
        "dataset.columns"
      ],
      "metadata": {
        "colab": {
          "base_uri": "https://localhost:8080/"
        },
        "id": "JapzFtYgSiZS",
        "outputId": "bbe74aa0-5f4f-4d28-ba88-ceac37ff6435"
      },
      "execution_count": null,
      "outputs": [
        {
          "output_type": "execute_result",
          "data": {
            "text/plain": [
              "Index(['Year', 'Number_of_Crimes_Reported', 'Gross_Domestic_Product_GDP',\n",
              "       'Type_of_Crime_Breakings', 'Type_of_Crime_Corruption',\n",
              "       'Type_of_Crime_Criminal damage', 'Type_of_Crime_Dangerous drugs',\n",
              "       'Type_of_Crime_Economic crimes', 'Type_of_Crime_Homicide',\n",
              "       'Type_of_Crime_Offences against morality',\n",
              "       'Type_of_Crime_Offences involving police officers',\n",
              "       'Type_of_Crime_Offences involving tourists',\n",
              "       'Type_of_Crime_Other offences against persons',\n",
              "       'Type_of_Crime_Other penal code offences', 'Type_of_Crime_Robbery',\n",
              "       'Type_of_Crime_Stealing', 'Type_of_Crime_Theft by servant',\n",
              "       'Type_of_Crime_Theft of stock', 'Type_of_Crime_Traffic offences',\n",
              "       'Type_of_Crime_Vehicles and other thefts'],\n",
              "      dtype='object')"
            ]
          },
          "metadata": {},
          "execution_count": 20
        }
      ]
    },
    {
      "cell_type": "code",
      "source": [
        "#Renaming columns\n",
        "dataset.rename(columns = {\n",
        "       'Type_of_Crime_Criminal damage':'Type_of_Crime_Criminal_damage', \n",
        "       'Type_of_Crime_Dangerous drugs':'Type_of_Crime_Dangerous_drugs',\n",
        "       'Type_of_Crime_Economic crimes':'Type_of_Crime_Economic_crimes' ,\n",
        "        'Type_of_Crime_Offences against morality':'Type_of_Crime_Offences_against_morality',\n",
        "       'Type_of_Crime_Offences involving police officers':'Type_of_Crime_Offences_involving_police_officers',\n",
        "       'Type_of_Crime_Offences involving tourists':'Type_of_Crime_Offences_involving_tourists',\n",
        "       'Type_of_Crime_Other offences against persons':'Type_of_Crime_Other_offences_against_persons',  \n",
        "       'Type_of_Crime_Other penal code offences':'Type_of_Crime_Other_penal_code_offences',\n",
        "        'Type_of_Crime_Theft by servant':'Type_of_Crime_Theft_by_servant',\n",
        "       'Type_of_Crime_Theft of stock':'Type_of_Crime_Theft_of_stock',\n",
        "        'Type_of_Crime_Traffic offences':'Type_of_Crime_Traffic_offences',\n",
        "       'Type_of_Crime_Vehicles and other thefts':'Type_of_Crime_Vehicles_and_other_thefts'\n",
        "    }, inplace =True)"
      ],
      "metadata": {
        "id": "GmvBlByZSMgg"
      },
      "execution_count": null,
      "outputs": []
    },
    {
      "cell_type": "code",
      "source": [
        "dataset.columns"
      ],
      "metadata": {
        "colab": {
          "base_uri": "https://localhost:8080/"
        },
        "id": "KEzPj42fUxRR",
        "outputId": "fd046030-b91a-41c4-f579-b73f19f4f1ba"
      },
      "execution_count": null,
      "outputs": [
        {
          "output_type": "execute_result",
          "data": {
            "text/plain": [
              "Index(['Year', 'Number_of_Crimes_Reported', 'Gross_Domestic_Product_GDP',\n",
              "       'Type_of_Crime_Breakings', 'Type_of_Crime_Corruption',\n",
              "       'Type_of_Crime_Criminal_damage', 'Type_of_Crime_Dangerous_drugs',\n",
              "       'Type_of_Crime_Economic_crimes', 'Type_of_Crime_Homicide',\n",
              "       'Type_of_Crime_Offences_against_morality',\n",
              "       'Type_of_Crime_Offences_involving_police_officers',\n",
              "       'Type_of_Crime_Offences_involving_tourists',\n",
              "       'Type_of_Crime_Other_offences_against_persons',\n",
              "       'Type_of_Crime_Other_penal_code_offences', 'Type_of_Crime_Robbery',\n",
              "       'Type_of_Crime_Stealing', 'Type_of_Crime_Theft_by_servant',\n",
              "       'Type_of_Crime_Theft_of_stock', 'Type_of_Crime_Traffic_offences',\n",
              "       'Type_of_Crime_Vehicles_and_other_thefts'],\n",
              "      dtype='object')"
            ]
          },
          "metadata": {},
          "execution_count": 22
        }
      ]
    },
    {
      "cell_type": "markdown",
      "source": [
        "**Saving the dataset as a new CSV file**"
      ],
      "metadata": {
        "id": "-jooHjAjhZnz"
      }
    },
    {
      "cell_type": "code",
      "source": [
        "pathFinal = '/content/drive/MyDrive/Colab Notebooks/School Project docs and files/'\n",
        "dataset.to_csv(pathFinal + 'Final_1_Crimes_Recorded_from_2005_to_2019_with_corresponding_Yearly_GDP_values.csv') "
      ],
      "metadata": {
        "id": "0BJX4yJEoYlC"
      },
      "execution_count": null,
      "outputs": []
    },
    {
      "cell_type": "code",
      "source": [
        "import pandas as pd\n",
        "pathFinal = '/content/drive/MyDrive/Colab Notebooks/School Project docs and files/'\n",
        "df = pd.read_csv(pathFinal + 'Final_1_Crimes_Recorded_from_2005_to_2019_with_corresponding_Yearly_GDP_values.csv',\n",
        "                 parse_dates = ['Year'], index_col = ['Year'])"
      ],
      "metadata": {
        "id": "XDqotb31P7CW"
      },
      "execution_count": null,
      "outputs": []
    },
    {
      "cell_type": "code",
      "source": [
        "df.dtypes"
      ],
      "metadata": {
        "id": "H3-zZhk_gSro",
        "outputId": "45c3b847-4452-42c8-b8a7-17f2e7760b3d",
        "colab": {
          "base_uri": "https://localhost:8080/"
        }
      },
      "execution_count": null,
      "outputs": [
        {
          "output_type": "execute_result",
          "data": {
            "text/plain": [
              "Unnamed: 0                                            int64\n",
              "Number_of_Crimes_Reported                             int64\n",
              "Gross_Domestic_Product_GDP                          float64\n",
              "Type_of_Crime_Breakings                               int64\n",
              "Type_of_Crime_Corruption                              int64\n",
              "Type_of_Crime_Criminal_damage                         int64\n",
              "Type_of_Crime_Dangerous_drugs                         int64\n",
              "Type_of_Crime_Economic_crimes                         int64\n",
              "Type_of_Crime_Homicide                                int64\n",
              "Type_of_Crime_Offences_against_morality               int64\n",
              "Type_of_Crime_Offences_involving_police_officers      int64\n",
              "Type_of_Crime_Offences_involving_tourists             int64\n",
              "Type_of_Crime_Other_offences_against_persons          int64\n",
              "Type_of_Crime_Other_penal_code_offences               int64\n",
              "Type_of_Crime_Robbery                                 int64\n",
              "Type_of_Crime_Stealing                                int64\n",
              "Type_of_Crime_Theft_by_servant                        int64\n",
              "Type_of_Crime_Theft_of_stock                          int64\n",
              "Type_of_Crime_Traffic_offences                        int64\n",
              "Type_of_Crime_Vehicles_and_other_thefts               int64\n",
              "dtype: object"
            ]
          },
          "metadata": {},
          "execution_count": 4
        }
      ]
    },
    {
      "cell_type": "code",
      "source": [
        "df.head(20)"
      ],
      "metadata": {
        "colab": {
          "base_uri": "https://localhost:8080/",
          "height": 789
        },
        "id": "F6dcLAJjQlzG",
        "outputId": "6f8295c1-d776-4f39-98ca-6c9cebe7e6e8"
      },
      "execution_count": null,
      "outputs": [
        {
          "output_type": "execute_result",
          "data": {
            "text/html": [
              "\n",
              "  <div id=\"df-f3380d91-a30e-48ab-a10b-60aa8a97584a\">\n",
              "    <div class=\"colab-df-container\">\n",
              "      <div>\n",
              "<style scoped>\n",
              "    .dataframe tbody tr th:only-of-type {\n",
              "        vertical-align: middle;\n",
              "    }\n",
              "\n",
              "    .dataframe tbody tr th {\n",
              "        vertical-align: top;\n",
              "    }\n",
              "\n",
              "    .dataframe thead th {\n",
              "        text-align: right;\n",
              "    }\n",
              "</style>\n",
              "<table border=\"1\" class=\"dataframe\">\n",
              "  <thead>\n",
              "    <tr style=\"text-align: right;\">\n",
              "      <th></th>\n",
              "      <th>Unnamed: 0</th>\n",
              "      <th>Number_of_Crimes_Reported</th>\n",
              "      <th>Gross_Domestic_Product_GDP</th>\n",
              "      <th>Type_of_Crime_Breakings</th>\n",
              "      <th>Type_of_Crime_Corruption</th>\n",
              "      <th>Type_of_Crime_Criminal_damage</th>\n",
              "      <th>Type_of_Crime_Dangerous_drugs</th>\n",
              "      <th>Type_of_Crime_Economic_crimes</th>\n",
              "      <th>Type_of_Crime_Homicide</th>\n",
              "      <th>Type_of_Crime_Offences_against_morality</th>\n",
              "      <th>Type_of_Crime_Offences_involving_police_officers</th>\n",
              "      <th>Type_of_Crime_Offences_involving_tourists</th>\n",
              "      <th>Type_of_Crime_Other_offences_against_persons</th>\n",
              "      <th>Type_of_Crime_Other_penal_code_offences</th>\n",
              "      <th>Type_of_Crime_Robbery</th>\n",
              "      <th>Type_of_Crime_Stealing</th>\n",
              "      <th>Type_of_Crime_Theft_by_servant</th>\n",
              "      <th>Type_of_Crime_Theft_of_stock</th>\n",
              "      <th>Type_of_Crime_Traffic_offences</th>\n",
              "      <th>Type_of_Crime_Vehicles_and_other_thefts</th>\n",
              "    </tr>\n",
              "    <tr>\n",
              "      <th>Year</th>\n",
              "      <th></th>\n",
              "      <th></th>\n",
              "      <th></th>\n",
              "      <th></th>\n",
              "      <th></th>\n",
              "      <th></th>\n",
              "      <th></th>\n",
              "      <th></th>\n",
              "      <th></th>\n",
              "      <th></th>\n",
              "      <th></th>\n",
              "      <th></th>\n",
              "      <th></th>\n",
              "      <th></th>\n",
              "      <th></th>\n",
              "      <th></th>\n",
              "      <th></th>\n",
              "      <th></th>\n",
              "      <th></th>\n",
              "      <th></th>\n",
              "    </tr>\n",
              "  </thead>\n",
              "  <tbody>\n",
              "    <tr>\n",
              "      <th>2005-01-01</th>\n",
              "      <td>0</td>\n",
              "      <td>2313</td>\n",
              "      <td>5.9</td>\n",
              "      <td>0</td>\n",
              "      <td>0</td>\n",
              "      <td>0</td>\n",
              "      <td>0</td>\n",
              "      <td>0</td>\n",
              "      <td>1</td>\n",
              "      <td>0</td>\n",
              "      <td>0</td>\n",
              "      <td>0</td>\n",
              "      <td>0</td>\n",
              "      <td>0</td>\n",
              "      <td>0</td>\n",
              "      <td>0</td>\n",
              "      <td>0</td>\n",
              "      <td>0</td>\n",
              "      <td>0</td>\n",
              "      <td>0</td>\n",
              "    </tr>\n",
              "    <tr>\n",
              "      <th>2005-01-01</th>\n",
              "      <td>1</td>\n",
              "      <td>3153</td>\n",
              "      <td>5.9</td>\n",
              "      <td>0</td>\n",
              "      <td>0</td>\n",
              "      <td>0</td>\n",
              "      <td>0</td>\n",
              "      <td>0</td>\n",
              "      <td>0</td>\n",
              "      <td>1</td>\n",
              "      <td>0</td>\n",
              "      <td>0</td>\n",
              "      <td>0</td>\n",
              "      <td>0</td>\n",
              "      <td>0</td>\n",
              "      <td>0</td>\n",
              "      <td>0</td>\n",
              "      <td>0</td>\n",
              "      <td>0</td>\n",
              "      <td>0</td>\n",
              "    </tr>\n",
              "    <tr>\n",
              "      <th>2005-01-01</th>\n",
              "      <td>2</td>\n",
              "      <td>17304</td>\n",
              "      <td>5.9</td>\n",
              "      <td>0</td>\n",
              "      <td>0</td>\n",
              "      <td>0</td>\n",
              "      <td>0</td>\n",
              "      <td>0</td>\n",
              "      <td>0</td>\n",
              "      <td>0</td>\n",
              "      <td>0</td>\n",
              "      <td>0</td>\n",
              "      <td>1</td>\n",
              "      <td>0</td>\n",
              "      <td>0</td>\n",
              "      <td>0</td>\n",
              "      <td>0</td>\n",
              "      <td>0</td>\n",
              "      <td>0</td>\n",
              "      <td>0</td>\n",
              "    </tr>\n",
              "    <tr>\n",
              "      <th>2005-01-01</th>\n",
              "      <td>3</td>\n",
              "      <td>6936</td>\n",
              "      <td>5.9</td>\n",
              "      <td>0</td>\n",
              "      <td>0</td>\n",
              "      <td>0</td>\n",
              "      <td>0</td>\n",
              "      <td>0</td>\n",
              "      <td>0</td>\n",
              "      <td>0</td>\n",
              "      <td>0</td>\n",
              "      <td>0</td>\n",
              "      <td>0</td>\n",
              "      <td>0</td>\n",
              "      <td>1</td>\n",
              "      <td>0</td>\n",
              "      <td>0</td>\n",
              "      <td>0</td>\n",
              "      <td>0</td>\n",
              "      <td>0</td>\n",
              "    </tr>\n",
              "    <tr>\n",
              "      <th>2005-01-01</th>\n",
              "      <td>4</td>\n",
              "      <td>8454</td>\n",
              "      <td>5.9</td>\n",
              "      <td>1</td>\n",
              "      <td>0</td>\n",
              "      <td>0</td>\n",
              "      <td>0</td>\n",
              "      <td>0</td>\n",
              "      <td>0</td>\n",
              "      <td>0</td>\n",
              "      <td>0</td>\n",
              "      <td>0</td>\n",
              "      <td>0</td>\n",
              "      <td>0</td>\n",
              "      <td>0</td>\n",
              "      <td>0</td>\n",
              "      <td>0</td>\n",
              "      <td>0</td>\n",
              "      <td>0</td>\n",
              "      <td>0</td>\n",
              "    </tr>\n",
              "    <tr>\n",
              "      <th>2005-01-01</th>\n",
              "      <td>5</td>\n",
              "      <td>2219</td>\n",
              "      <td>5.9</td>\n",
              "      <td>0</td>\n",
              "      <td>0</td>\n",
              "      <td>0</td>\n",
              "      <td>0</td>\n",
              "      <td>0</td>\n",
              "      <td>0</td>\n",
              "      <td>0</td>\n",
              "      <td>0</td>\n",
              "      <td>0</td>\n",
              "      <td>0</td>\n",
              "      <td>0</td>\n",
              "      <td>0</td>\n",
              "      <td>0</td>\n",
              "      <td>0</td>\n",
              "      <td>1</td>\n",
              "      <td>0</td>\n",
              "      <td>0</td>\n",
              "    </tr>\n",
              "    <tr>\n",
              "      <th>2005-01-01</th>\n",
              "      <td>6</td>\n",
              "      <td>12589</td>\n",
              "      <td>5.9</td>\n",
              "      <td>0</td>\n",
              "      <td>0</td>\n",
              "      <td>0</td>\n",
              "      <td>0</td>\n",
              "      <td>0</td>\n",
              "      <td>0</td>\n",
              "      <td>0</td>\n",
              "      <td>0</td>\n",
              "      <td>0</td>\n",
              "      <td>0</td>\n",
              "      <td>0</td>\n",
              "      <td>0</td>\n",
              "      <td>1</td>\n",
              "      <td>0</td>\n",
              "      <td>0</td>\n",
              "      <td>0</td>\n",
              "      <td>0</td>\n",
              "    </tr>\n",
              "    <tr>\n",
              "      <th>2005-01-01</th>\n",
              "      <td>7</td>\n",
              "      <td>2874</td>\n",
              "      <td>5.9</td>\n",
              "      <td>0</td>\n",
              "      <td>0</td>\n",
              "      <td>0</td>\n",
              "      <td>0</td>\n",
              "      <td>0</td>\n",
              "      <td>0</td>\n",
              "      <td>0</td>\n",
              "      <td>0</td>\n",
              "      <td>0</td>\n",
              "      <td>0</td>\n",
              "      <td>0</td>\n",
              "      <td>0</td>\n",
              "      <td>0</td>\n",
              "      <td>1</td>\n",
              "      <td>0</td>\n",
              "      <td>0</td>\n",
              "      <td>0</td>\n",
              "    </tr>\n",
              "    <tr>\n",
              "      <th>2005-01-01</th>\n",
              "      <td>8</td>\n",
              "      <td>1718</td>\n",
              "      <td>5.9</td>\n",
              "      <td>0</td>\n",
              "      <td>0</td>\n",
              "      <td>0</td>\n",
              "      <td>0</td>\n",
              "      <td>0</td>\n",
              "      <td>0</td>\n",
              "      <td>0</td>\n",
              "      <td>0</td>\n",
              "      <td>0</td>\n",
              "      <td>0</td>\n",
              "      <td>0</td>\n",
              "      <td>0</td>\n",
              "      <td>0</td>\n",
              "      <td>0</td>\n",
              "      <td>0</td>\n",
              "      <td>0</td>\n",
              "      <td>1</td>\n",
              "    </tr>\n",
              "    <tr>\n",
              "      <th>2005-01-01</th>\n",
              "      <td>9</td>\n",
              "      <td>6356</td>\n",
              "      <td>5.9</td>\n",
              "      <td>0</td>\n",
              "      <td>0</td>\n",
              "      <td>0</td>\n",
              "      <td>1</td>\n",
              "      <td>0</td>\n",
              "      <td>0</td>\n",
              "      <td>0</td>\n",
              "      <td>0</td>\n",
              "      <td>0</td>\n",
              "      <td>0</td>\n",
              "      <td>0</td>\n",
              "      <td>0</td>\n",
              "      <td>0</td>\n",
              "      <td>0</td>\n",
              "      <td>0</td>\n",
              "      <td>0</td>\n",
              "      <td>0</td>\n",
              "    </tr>\n",
              "    <tr>\n",
              "      <th>2005-01-01</th>\n",
              "      <td>10</td>\n",
              "      <td>38</td>\n",
              "      <td>5.9</td>\n",
              "      <td>0</td>\n",
              "      <td>0</td>\n",
              "      <td>0</td>\n",
              "      <td>0</td>\n",
              "      <td>0</td>\n",
              "      <td>0</td>\n",
              "      <td>0</td>\n",
              "      <td>0</td>\n",
              "      <td>0</td>\n",
              "      <td>0</td>\n",
              "      <td>0</td>\n",
              "      <td>0</td>\n",
              "      <td>0</td>\n",
              "      <td>0</td>\n",
              "      <td>0</td>\n",
              "      <td>1</td>\n",
              "      <td>0</td>\n",
              "    </tr>\n",
              "    <tr>\n",
              "      <th>2005-01-01</th>\n",
              "      <td>11</td>\n",
              "      <td>3236</td>\n",
              "      <td>5.9</td>\n",
              "      <td>0</td>\n",
              "      <td>0</td>\n",
              "      <td>1</td>\n",
              "      <td>0</td>\n",
              "      <td>0</td>\n",
              "      <td>0</td>\n",
              "      <td>0</td>\n",
              "      <td>0</td>\n",
              "      <td>0</td>\n",
              "      <td>0</td>\n",
              "      <td>0</td>\n",
              "      <td>0</td>\n",
              "      <td>0</td>\n",
              "      <td>0</td>\n",
              "      <td>0</td>\n",
              "      <td>0</td>\n",
              "      <td>0</td>\n",
              "    </tr>\n",
              "    <tr>\n",
              "      <th>2005-01-01</th>\n",
              "      <td>12</td>\n",
              "      <td>1390</td>\n",
              "      <td>5.9</td>\n",
              "      <td>0</td>\n",
              "      <td>0</td>\n",
              "      <td>0</td>\n",
              "      <td>0</td>\n",
              "      <td>1</td>\n",
              "      <td>0</td>\n",
              "      <td>0</td>\n",
              "      <td>0</td>\n",
              "      <td>0</td>\n",
              "      <td>0</td>\n",
              "      <td>0</td>\n",
              "      <td>0</td>\n",
              "      <td>0</td>\n",
              "      <td>0</td>\n",
              "      <td>0</td>\n",
              "      <td>0</td>\n",
              "      <td>0</td>\n",
              "    </tr>\n",
              "    <tr>\n",
              "      <th>2005-01-01</th>\n",
              "      <td>13</td>\n",
              "      <td>107</td>\n",
              "      <td>5.9</td>\n",
              "      <td>0</td>\n",
              "      <td>1</td>\n",
              "      <td>0</td>\n",
              "      <td>0</td>\n",
              "      <td>0</td>\n",
              "      <td>0</td>\n",
              "      <td>0</td>\n",
              "      <td>0</td>\n",
              "      <td>0</td>\n",
              "      <td>0</td>\n",
              "      <td>0</td>\n",
              "      <td>0</td>\n",
              "      <td>0</td>\n",
              "      <td>0</td>\n",
              "      <td>0</td>\n",
              "      <td>0</td>\n",
              "      <td>0</td>\n",
              "    </tr>\n",
              "    <tr>\n",
              "      <th>2005-01-01</th>\n",
              "      <td>14</td>\n",
              "      <td>29</td>\n",
              "      <td>5.9</td>\n",
              "      <td>0</td>\n",
              "      <td>0</td>\n",
              "      <td>0</td>\n",
              "      <td>0</td>\n",
              "      <td>0</td>\n",
              "      <td>0</td>\n",
              "      <td>0</td>\n",
              "      <td>1</td>\n",
              "      <td>0</td>\n",
              "      <td>0</td>\n",
              "      <td>0</td>\n",
              "      <td>0</td>\n",
              "      <td>0</td>\n",
              "      <td>0</td>\n",
              "      <td>0</td>\n",
              "      <td>0</td>\n",
              "      <td>0</td>\n",
              "    </tr>\n",
              "    <tr>\n",
              "      <th>2005-01-01</th>\n",
              "      <td>15</td>\n",
              "      <td>32</td>\n",
              "      <td>5.9</td>\n",
              "      <td>0</td>\n",
              "      <td>0</td>\n",
              "      <td>0</td>\n",
              "      <td>0</td>\n",
              "      <td>0</td>\n",
              "      <td>0</td>\n",
              "      <td>0</td>\n",
              "      <td>0</td>\n",
              "      <td>1</td>\n",
              "      <td>0</td>\n",
              "      <td>0</td>\n",
              "      <td>0</td>\n",
              "      <td>0</td>\n",
              "      <td>0</td>\n",
              "      <td>0</td>\n",
              "      <td>0</td>\n",
              "      <td>0</td>\n",
              "    </tr>\n",
              "    <tr>\n",
              "      <th>2005-01-01</th>\n",
              "      <td>16</td>\n",
              "      <td>6652</td>\n",
              "      <td>5.9</td>\n",
              "      <td>0</td>\n",
              "      <td>0</td>\n",
              "      <td>0</td>\n",
              "      <td>0</td>\n",
              "      <td>0</td>\n",
              "      <td>0</td>\n",
              "      <td>0</td>\n",
              "      <td>0</td>\n",
              "      <td>0</td>\n",
              "      <td>0</td>\n",
              "      <td>1</td>\n",
              "      <td>0</td>\n",
              "      <td>0</td>\n",
              "      <td>0</td>\n",
              "      <td>0</td>\n",
              "      <td>0</td>\n",
              "      <td>0</td>\n",
              "    </tr>\n",
              "    <tr>\n",
              "      <th>2006-01-01</th>\n",
              "      <td>17</td>\n",
              "      <td>2090</td>\n",
              "      <td>6.3</td>\n",
              "      <td>0</td>\n",
              "      <td>0</td>\n",
              "      <td>0</td>\n",
              "      <td>0</td>\n",
              "      <td>0</td>\n",
              "      <td>1</td>\n",
              "      <td>0</td>\n",
              "      <td>0</td>\n",
              "      <td>0</td>\n",
              "      <td>0</td>\n",
              "      <td>0</td>\n",
              "      <td>0</td>\n",
              "      <td>0</td>\n",
              "      <td>0</td>\n",
              "      <td>0</td>\n",
              "      <td>0</td>\n",
              "      <td>0</td>\n",
              "    </tr>\n",
              "    <tr>\n",
              "      <th>2006-01-01</th>\n",
              "      <td>18</td>\n",
              "      <td>3525</td>\n",
              "      <td>6.3</td>\n",
              "      <td>0</td>\n",
              "      <td>0</td>\n",
              "      <td>0</td>\n",
              "      <td>0</td>\n",
              "      <td>0</td>\n",
              "      <td>0</td>\n",
              "      <td>1</td>\n",
              "      <td>0</td>\n",
              "      <td>0</td>\n",
              "      <td>0</td>\n",
              "      <td>0</td>\n",
              "      <td>0</td>\n",
              "      <td>0</td>\n",
              "      <td>0</td>\n",
              "      <td>0</td>\n",
              "      <td>0</td>\n",
              "      <td>0</td>\n",
              "    </tr>\n",
              "    <tr>\n",
              "      <th>2006-01-01</th>\n",
              "      <td>19</td>\n",
              "      <td>18723</td>\n",
              "      <td>6.3</td>\n",
              "      <td>0</td>\n",
              "      <td>0</td>\n",
              "      <td>0</td>\n",
              "      <td>0</td>\n",
              "      <td>0</td>\n",
              "      <td>0</td>\n",
              "      <td>0</td>\n",
              "      <td>0</td>\n",
              "      <td>0</td>\n",
              "      <td>1</td>\n",
              "      <td>0</td>\n",
              "      <td>0</td>\n",
              "      <td>0</td>\n",
              "      <td>0</td>\n",
              "      <td>0</td>\n",
              "      <td>0</td>\n",
              "      <td>0</td>\n",
              "    </tr>\n",
              "  </tbody>\n",
              "</table>\n",
              "</div>\n",
              "      <button class=\"colab-df-convert\" onclick=\"convertToInteractive('df-f3380d91-a30e-48ab-a10b-60aa8a97584a')\"\n",
              "              title=\"Convert this dataframe to an interactive table.\"\n",
              "              style=\"display:none;\">\n",
              "        \n",
              "  <svg xmlns=\"http://www.w3.org/2000/svg\" height=\"24px\"viewBox=\"0 0 24 24\"\n",
              "       width=\"24px\">\n",
              "    <path d=\"M0 0h24v24H0V0z\" fill=\"none\"/>\n",
              "    <path d=\"M18.56 5.44l.94 2.06.94-2.06 2.06-.94-2.06-.94-.94-2.06-.94 2.06-2.06.94zm-11 1L8.5 8.5l.94-2.06 2.06-.94-2.06-.94L8.5 2.5l-.94 2.06-2.06.94zm10 10l.94 2.06.94-2.06 2.06-.94-2.06-.94-.94-2.06-.94 2.06-2.06.94z\"/><path d=\"M17.41 7.96l-1.37-1.37c-.4-.4-.92-.59-1.43-.59-.52 0-1.04.2-1.43.59L10.3 9.45l-7.72 7.72c-.78.78-.78 2.05 0 2.83L4 21.41c.39.39.9.59 1.41.59.51 0 1.02-.2 1.41-.59l7.78-7.78 2.81-2.81c.8-.78.8-2.07 0-2.86zM5.41 20L4 18.59l7.72-7.72 1.47 1.35L5.41 20z\"/>\n",
              "  </svg>\n",
              "      </button>\n",
              "      \n",
              "  <style>\n",
              "    .colab-df-container {\n",
              "      display:flex;\n",
              "      flex-wrap:wrap;\n",
              "      gap: 12px;\n",
              "    }\n",
              "\n",
              "    .colab-df-convert {\n",
              "      background-color: #E8F0FE;\n",
              "      border: none;\n",
              "      border-radius: 50%;\n",
              "      cursor: pointer;\n",
              "      display: none;\n",
              "      fill: #1967D2;\n",
              "      height: 32px;\n",
              "      padding: 0 0 0 0;\n",
              "      width: 32px;\n",
              "    }\n",
              "\n",
              "    .colab-df-convert:hover {\n",
              "      background-color: #E2EBFA;\n",
              "      box-shadow: 0px 1px 2px rgba(60, 64, 67, 0.3), 0px 1px 3px 1px rgba(60, 64, 67, 0.15);\n",
              "      fill: #174EA6;\n",
              "    }\n",
              "\n",
              "    [theme=dark] .colab-df-convert {\n",
              "      background-color: #3B4455;\n",
              "      fill: #D2E3FC;\n",
              "    }\n",
              "\n",
              "    [theme=dark] .colab-df-convert:hover {\n",
              "      background-color: #434B5C;\n",
              "      box-shadow: 0px 1px 3px 1px rgba(0, 0, 0, 0.15);\n",
              "      filter: drop-shadow(0px 1px 2px rgba(0, 0, 0, 0.3));\n",
              "      fill: #FFFFFF;\n",
              "    }\n",
              "  </style>\n",
              "\n",
              "      <script>\n",
              "        const buttonEl =\n",
              "          document.querySelector('#df-f3380d91-a30e-48ab-a10b-60aa8a97584a button.colab-df-convert');\n",
              "        buttonEl.style.display =\n",
              "          google.colab.kernel.accessAllowed ? 'block' : 'none';\n",
              "\n",
              "        async function convertToInteractive(key) {\n",
              "          const element = document.querySelector('#df-f3380d91-a30e-48ab-a10b-60aa8a97584a');\n",
              "          const dataTable =\n",
              "            await google.colab.kernel.invokeFunction('convertToInteractive',\n",
              "                                                     [key], {});\n",
              "          if (!dataTable) return;\n",
              "\n",
              "          const docLinkHtml = 'Like what you see? Visit the ' +\n",
              "            '<a target=\"_blank\" href=https://colab.research.google.com/notebooks/data_table.ipynb>data table notebook</a>'\n",
              "            + ' to learn more about interactive tables.';\n",
              "          element.innerHTML = '';\n",
              "          dataTable['output_type'] = 'display_data';\n",
              "          await google.colab.output.renderOutput(dataTable, element);\n",
              "          const docLink = document.createElement('div');\n",
              "          docLink.innerHTML = docLinkHtml;\n",
              "          element.appendChild(docLink);\n",
              "        }\n",
              "      </script>\n",
              "    </div>\n",
              "  </div>\n",
              "  "
            ],
            "text/plain": [
              "            Unnamed: 0  ...  Type_of_Crime_Vehicles_and_other_thefts\n",
              "Year                    ...                                         \n",
              "2005-01-01           0  ...                                        0\n",
              "2005-01-01           1  ...                                        0\n",
              "2005-01-01           2  ...                                        0\n",
              "2005-01-01           3  ...                                        0\n",
              "2005-01-01           4  ...                                        0\n",
              "2005-01-01           5  ...                                        0\n",
              "2005-01-01           6  ...                                        0\n",
              "2005-01-01           7  ...                                        0\n",
              "2005-01-01           8  ...                                        1\n",
              "2005-01-01           9  ...                                        0\n",
              "2005-01-01          10  ...                                        0\n",
              "2005-01-01          11  ...                                        0\n",
              "2005-01-01          12  ...                                        0\n",
              "2005-01-01          13  ...                                        0\n",
              "2005-01-01          14  ...                                        0\n",
              "2005-01-01          15  ...                                        0\n",
              "2005-01-01          16  ...                                        0\n",
              "2006-01-01          17  ...                                        0\n",
              "2006-01-01          18  ...                                        0\n",
              "2006-01-01          19  ...                                        0\n",
              "\n",
              "[20 rows x 20 columns]"
            ]
          },
          "metadata": {},
          "execution_count": 5
        }
      ]
    },
    {
      "cell_type": "code",
      "source": [
        "df.shape"
      ],
      "metadata": {
        "colab": {
          "base_uri": "https://localhost:8080/"
        },
        "id": "1IpR4UkZkBQb",
        "outputId": "e4bbae49-da00-4bc1-d2f9-80a770ba0feb"
      },
      "execution_count": null,
      "outputs": [
        {
          "output_type": "execute_result",
          "data": {
            "text/plain": [
              "(238, 20)"
            ]
          },
          "metadata": {},
          "execution_count": 15
        }
      ]
    },
    {
      "cell_type": "markdown",
      "source": [
        "**Normalizing the Attributes using MinMaxScaler**"
      ],
      "metadata": {
        "id": "8JqJH-isNnDU"
      }
    },
    {
      "cell_type": "markdown",
      "source": [
        "*   Normalizing is the process of transforming the features’ values which are numeric in a given data set so that the values be in a specific range.\n",
        "*   Normalization is mostly achieved using a scalar.\n",
        "*   For example, in this case, the values in the ‘Number_of_Crimes_Reported’ column, which is a feature in our dataset, were normalized. Its values were transformed to be in a range between 0 and 1.\n"
      ],
      "metadata": {
        "id": "WOzYrejetCkn"
      }
    },
    {
      "cell_type": "code",
      "source": [
        "dataset.columns"
      ],
      "metadata": {
        "colab": {
          "base_uri": "https://localhost:8080/"
        },
        "id": "fNMKvkkON64V",
        "outputId": "be11c6e5-e027-4258-a3f8-77194a039d71"
      },
      "execution_count": null,
      "outputs": [
        {
          "output_type": "execute_result",
          "data": {
            "text/plain": [
              "Index(['Year', 'Type_of_Crime', 'Number_of_Crimes_Reported',\n",
              "       'Gross_Domestic_Product_GDP'],\n",
              "      dtype='object')"
            ]
          },
          "metadata": {},
          "execution_count": 16
        }
      ]
    },
    {
      "cell_type": "code",
      "source": [
        "df.drop('Unnamed: 0', axis=1, inplace=True)"
      ],
      "metadata": {
        "id": "E3cjA14ZS56G",
        "colab": {
          "base_uri": "https://localhost:8080/"
        },
        "outputId": "49c5be32-374e-45d1-ec0d-e5eb9d5d8d25"
      },
      "execution_count": null,
      "outputs": [
        {
          "output_type": "execute_result",
          "data": {
            "text/plain": [
              "Index(['Number_of_Crimes_Reported', 'Gross_Domestic_Product_GDP',\n",
              "       'Type_of_Crime_Breakings', 'Type_of_Crime_Corruption',\n",
              "       'Type_of_Crime_Criminal_damage', 'Type_of_Crime_Dangerous_drugs',\n",
              "       'Type_of_Crime_Economic_crimes', 'Type_of_Crime_Homicide',\n",
              "       'Type_of_Crime_Offences_against_morality',\n",
              "       'Type_of_Crime_Offences_involving_police_officers',\n",
              "       'Type_of_Crime_Offences_involving_tourists',\n",
              "       'Type_of_Crime_Other_offences_against_persons',\n",
              "       'Type_of_Crime_Other_penal_code_offences', 'Type_of_Crime_Robbery',\n",
              "       'Type_of_Crime_Stealing', 'Type_of_Crime_Theft_by_servant',\n",
              "       'Type_of_Crime_Theft_of_stock', 'Type_of_Crime_Traffic_offences',\n",
              "       'Type_of_Crime_Vehicles_and_other_thefts'],\n",
              "      dtype='object')"
            ]
          },
          "metadata": {},
          "execution_count": 19
        }
      ]
    },
    {
      "cell_type": "code",
      "source": [
        "df.head(20)"
      ],
      "metadata": {
        "colab": {
          "base_uri": "https://localhost:8080/",
          "height": 772
        },
        "id": "pasKb5dGNg4R",
        "outputId": "9335978b-5ca3-4efd-94ea-023bad4d9c82"
      },
      "execution_count": null,
      "outputs": [
        {
          "output_type": "execute_result",
          "data": {
            "text/html": [
              "\n",
              "  <div id=\"df-836d1b50-17d5-4c18-8ec4-a6c1fd855020\">\n",
              "    <div class=\"colab-df-container\">\n",
              "      <div>\n",
              "<style scoped>\n",
              "    .dataframe tbody tr th:only-of-type {\n",
              "        vertical-align: middle;\n",
              "    }\n",
              "\n",
              "    .dataframe tbody tr th {\n",
              "        vertical-align: top;\n",
              "    }\n",
              "\n",
              "    .dataframe thead th {\n",
              "        text-align: right;\n",
              "    }\n",
              "</style>\n",
              "<table border=\"1\" class=\"dataframe\">\n",
              "  <thead>\n",
              "    <tr style=\"text-align: right;\">\n",
              "      <th></th>\n",
              "      <th>Number_of_Crimes_Reported</th>\n",
              "      <th>Gross_Domestic_Product_GDP</th>\n",
              "      <th>Type_of_Crime_Breakings</th>\n",
              "      <th>Type_of_Crime_Corruption</th>\n",
              "      <th>Type_of_Crime_Criminal_damage</th>\n",
              "      <th>Type_of_Crime_Dangerous_drugs</th>\n",
              "      <th>Type_of_Crime_Economic_crimes</th>\n",
              "      <th>Type_of_Crime_Homicide</th>\n",
              "      <th>Type_of_Crime_Offences_against_morality</th>\n",
              "      <th>Type_of_Crime_Offences_involving_police_officers</th>\n",
              "      <th>Type_of_Crime_Offences_involving_tourists</th>\n",
              "      <th>Type_of_Crime_Other_offences_against_persons</th>\n",
              "      <th>Type_of_Crime_Other_penal_code_offences</th>\n",
              "      <th>Type_of_Crime_Robbery</th>\n",
              "      <th>Type_of_Crime_Stealing</th>\n",
              "      <th>Type_of_Crime_Theft_by_servant</th>\n",
              "      <th>Type_of_Crime_Theft_of_stock</th>\n",
              "      <th>Type_of_Crime_Traffic_offences</th>\n",
              "      <th>Type_of_Crime_Vehicles_and_other_thefts</th>\n",
              "    </tr>\n",
              "    <tr>\n",
              "      <th>Year</th>\n",
              "      <th></th>\n",
              "      <th></th>\n",
              "      <th></th>\n",
              "      <th></th>\n",
              "      <th></th>\n",
              "      <th></th>\n",
              "      <th></th>\n",
              "      <th></th>\n",
              "      <th></th>\n",
              "      <th></th>\n",
              "      <th></th>\n",
              "      <th></th>\n",
              "      <th></th>\n",
              "      <th></th>\n",
              "      <th></th>\n",
              "      <th></th>\n",
              "      <th></th>\n",
              "      <th></th>\n",
              "      <th></th>\n",
              "    </tr>\n",
              "  </thead>\n",
              "  <tbody>\n",
              "    <tr>\n",
              "      <th>2005-01-01</th>\n",
              "      <td>2313</td>\n",
              "      <td>5.9</td>\n",
              "      <td>0</td>\n",
              "      <td>0</td>\n",
              "      <td>0</td>\n",
              "      <td>0</td>\n",
              "      <td>0</td>\n",
              "      <td>1</td>\n",
              "      <td>0</td>\n",
              "      <td>0</td>\n",
              "      <td>0</td>\n",
              "      <td>0</td>\n",
              "      <td>0</td>\n",
              "      <td>0</td>\n",
              "      <td>0</td>\n",
              "      <td>0</td>\n",
              "      <td>0</td>\n",
              "      <td>0</td>\n",
              "      <td>0</td>\n",
              "    </tr>\n",
              "    <tr>\n",
              "      <th>2005-01-01</th>\n",
              "      <td>3153</td>\n",
              "      <td>5.9</td>\n",
              "      <td>0</td>\n",
              "      <td>0</td>\n",
              "      <td>0</td>\n",
              "      <td>0</td>\n",
              "      <td>0</td>\n",
              "      <td>0</td>\n",
              "      <td>1</td>\n",
              "      <td>0</td>\n",
              "      <td>0</td>\n",
              "      <td>0</td>\n",
              "      <td>0</td>\n",
              "      <td>0</td>\n",
              "      <td>0</td>\n",
              "      <td>0</td>\n",
              "      <td>0</td>\n",
              "      <td>0</td>\n",
              "      <td>0</td>\n",
              "    </tr>\n",
              "    <tr>\n",
              "      <th>2005-01-01</th>\n",
              "      <td>17304</td>\n",
              "      <td>5.9</td>\n",
              "      <td>0</td>\n",
              "      <td>0</td>\n",
              "      <td>0</td>\n",
              "      <td>0</td>\n",
              "      <td>0</td>\n",
              "      <td>0</td>\n",
              "      <td>0</td>\n",
              "      <td>0</td>\n",
              "      <td>0</td>\n",
              "      <td>1</td>\n",
              "      <td>0</td>\n",
              "      <td>0</td>\n",
              "      <td>0</td>\n",
              "      <td>0</td>\n",
              "      <td>0</td>\n",
              "      <td>0</td>\n",
              "      <td>0</td>\n",
              "    </tr>\n",
              "    <tr>\n",
              "      <th>2005-01-01</th>\n",
              "      <td>6936</td>\n",
              "      <td>5.9</td>\n",
              "      <td>0</td>\n",
              "      <td>0</td>\n",
              "      <td>0</td>\n",
              "      <td>0</td>\n",
              "      <td>0</td>\n",
              "      <td>0</td>\n",
              "      <td>0</td>\n",
              "      <td>0</td>\n",
              "      <td>0</td>\n",
              "      <td>0</td>\n",
              "      <td>0</td>\n",
              "      <td>1</td>\n",
              "      <td>0</td>\n",
              "      <td>0</td>\n",
              "      <td>0</td>\n",
              "      <td>0</td>\n",
              "      <td>0</td>\n",
              "    </tr>\n",
              "    <tr>\n",
              "      <th>2005-01-01</th>\n",
              "      <td>8454</td>\n",
              "      <td>5.9</td>\n",
              "      <td>1</td>\n",
              "      <td>0</td>\n",
              "      <td>0</td>\n",
              "      <td>0</td>\n",
              "      <td>0</td>\n",
              "      <td>0</td>\n",
              "      <td>0</td>\n",
              "      <td>0</td>\n",
              "      <td>0</td>\n",
              "      <td>0</td>\n",
              "      <td>0</td>\n",
              "      <td>0</td>\n",
              "      <td>0</td>\n",
              "      <td>0</td>\n",
              "      <td>0</td>\n",
              "      <td>0</td>\n",
              "      <td>0</td>\n",
              "    </tr>\n",
              "    <tr>\n",
              "      <th>2005-01-01</th>\n",
              "      <td>2219</td>\n",
              "      <td>5.9</td>\n",
              "      <td>0</td>\n",
              "      <td>0</td>\n",
              "      <td>0</td>\n",
              "      <td>0</td>\n",
              "      <td>0</td>\n",
              "      <td>0</td>\n",
              "      <td>0</td>\n",
              "      <td>0</td>\n",
              "      <td>0</td>\n",
              "      <td>0</td>\n",
              "      <td>0</td>\n",
              "      <td>0</td>\n",
              "      <td>0</td>\n",
              "      <td>0</td>\n",
              "      <td>1</td>\n",
              "      <td>0</td>\n",
              "      <td>0</td>\n",
              "    </tr>\n",
              "    <tr>\n",
              "      <th>2005-01-01</th>\n",
              "      <td>12589</td>\n",
              "      <td>5.9</td>\n",
              "      <td>0</td>\n",
              "      <td>0</td>\n",
              "      <td>0</td>\n",
              "      <td>0</td>\n",
              "      <td>0</td>\n",
              "      <td>0</td>\n",
              "      <td>0</td>\n",
              "      <td>0</td>\n",
              "      <td>0</td>\n",
              "      <td>0</td>\n",
              "      <td>0</td>\n",
              "      <td>0</td>\n",
              "      <td>1</td>\n",
              "      <td>0</td>\n",
              "      <td>0</td>\n",
              "      <td>0</td>\n",
              "      <td>0</td>\n",
              "    </tr>\n",
              "    <tr>\n",
              "      <th>2005-01-01</th>\n",
              "      <td>2874</td>\n",
              "      <td>5.9</td>\n",
              "      <td>0</td>\n",
              "      <td>0</td>\n",
              "      <td>0</td>\n",
              "      <td>0</td>\n",
              "      <td>0</td>\n",
              "      <td>0</td>\n",
              "      <td>0</td>\n",
              "      <td>0</td>\n",
              "      <td>0</td>\n",
              "      <td>0</td>\n",
              "      <td>0</td>\n",
              "      <td>0</td>\n",
              "      <td>0</td>\n",
              "      <td>1</td>\n",
              "      <td>0</td>\n",
              "      <td>0</td>\n",
              "      <td>0</td>\n",
              "    </tr>\n",
              "    <tr>\n",
              "      <th>2005-01-01</th>\n",
              "      <td>1718</td>\n",
              "      <td>5.9</td>\n",
              "      <td>0</td>\n",
              "      <td>0</td>\n",
              "      <td>0</td>\n",
              "      <td>0</td>\n",
              "      <td>0</td>\n",
              "      <td>0</td>\n",
              "      <td>0</td>\n",
              "      <td>0</td>\n",
              "      <td>0</td>\n",
              "      <td>0</td>\n",
              "      <td>0</td>\n",
              "      <td>0</td>\n",
              "      <td>0</td>\n",
              "      <td>0</td>\n",
              "      <td>0</td>\n",
              "      <td>0</td>\n",
              "      <td>1</td>\n",
              "    </tr>\n",
              "    <tr>\n",
              "      <th>2005-01-01</th>\n",
              "      <td>6356</td>\n",
              "      <td>5.9</td>\n",
              "      <td>0</td>\n",
              "      <td>0</td>\n",
              "      <td>0</td>\n",
              "      <td>1</td>\n",
              "      <td>0</td>\n",
              "      <td>0</td>\n",
              "      <td>0</td>\n",
              "      <td>0</td>\n",
              "      <td>0</td>\n",
              "      <td>0</td>\n",
              "      <td>0</td>\n",
              "      <td>0</td>\n",
              "      <td>0</td>\n",
              "      <td>0</td>\n",
              "      <td>0</td>\n",
              "      <td>0</td>\n",
              "      <td>0</td>\n",
              "    </tr>\n",
              "    <tr>\n",
              "      <th>2005-01-01</th>\n",
              "      <td>38</td>\n",
              "      <td>5.9</td>\n",
              "      <td>0</td>\n",
              "      <td>0</td>\n",
              "      <td>0</td>\n",
              "      <td>0</td>\n",
              "      <td>0</td>\n",
              "      <td>0</td>\n",
              "      <td>0</td>\n",
              "      <td>0</td>\n",
              "      <td>0</td>\n",
              "      <td>0</td>\n",
              "      <td>0</td>\n",
              "      <td>0</td>\n",
              "      <td>0</td>\n",
              "      <td>0</td>\n",
              "      <td>0</td>\n",
              "      <td>1</td>\n",
              "      <td>0</td>\n",
              "    </tr>\n",
              "    <tr>\n",
              "      <th>2005-01-01</th>\n",
              "      <td>3236</td>\n",
              "      <td>5.9</td>\n",
              "      <td>0</td>\n",
              "      <td>0</td>\n",
              "      <td>1</td>\n",
              "      <td>0</td>\n",
              "      <td>0</td>\n",
              "      <td>0</td>\n",
              "      <td>0</td>\n",
              "      <td>0</td>\n",
              "      <td>0</td>\n",
              "      <td>0</td>\n",
              "      <td>0</td>\n",
              "      <td>0</td>\n",
              "      <td>0</td>\n",
              "      <td>0</td>\n",
              "      <td>0</td>\n",
              "      <td>0</td>\n",
              "      <td>0</td>\n",
              "    </tr>\n",
              "    <tr>\n",
              "      <th>2005-01-01</th>\n",
              "      <td>1390</td>\n",
              "      <td>5.9</td>\n",
              "      <td>0</td>\n",
              "      <td>0</td>\n",
              "      <td>0</td>\n",
              "      <td>0</td>\n",
              "      <td>1</td>\n",
              "      <td>0</td>\n",
              "      <td>0</td>\n",
              "      <td>0</td>\n",
              "      <td>0</td>\n",
              "      <td>0</td>\n",
              "      <td>0</td>\n",
              "      <td>0</td>\n",
              "      <td>0</td>\n",
              "      <td>0</td>\n",
              "      <td>0</td>\n",
              "      <td>0</td>\n",
              "      <td>0</td>\n",
              "    </tr>\n",
              "    <tr>\n",
              "      <th>2005-01-01</th>\n",
              "      <td>107</td>\n",
              "      <td>5.9</td>\n",
              "      <td>0</td>\n",
              "      <td>1</td>\n",
              "      <td>0</td>\n",
              "      <td>0</td>\n",
              "      <td>0</td>\n",
              "      <td>0</td>\n",
              "      <td>0</td>\n",
              "      <td>0</td>\n",
              "      <td>0</td>\n",
              "      <td>0</td>\n",
              "      <td>0</td>\n",
              "      <td>0</td>\n",
              "      <td>0</td>\n",
              "      <td>0</td>\n",
              "      <td>0</td>\n",
              "      <td>0</td>\n",
              "      <td>0</td>\n",
              "    </tr>\n",
              "    <tr>\n",
              "      <th>2005-01-01</th>\n",
              "      <td>29</td>\n",
              "      <td>5.9</td>\n",
              "      <td>0</td>\n",
              "      <td>0</td>\n",
              "      <td>0</td>\n",
              "      <td>0</td>\n",
              "      <td>0</td>\n",
              "      <td>0</td>\n",
              "      <td>0</td>\n",
              "      <td>1</td>\n",
              "      <td>0</td>\n",
              "      <td>0</td>\n",
              "      <td>0</td>\n",
              "      <td>0</td>\n",
              "      <td>0</td>\n",
              "      <td>0</td>\n",
              "      <td>0</td>\n",
              "      <td>0</td>\n",
              "      <td>0</td>\n",
              "    </tr>\n",
              "    <tr>\n",
              "      <th>2005-01-01</th>\n",
              "      <td>32</td>\n",
              "      <td>5.9</td>\n",
              "      <td>0</td>\n",
              "      <td>0</td>\n",
              "      <td>0</td>\n",
              "      <td>0</td>\n",
              "      <td>0</td>\n",
              "      <td>0</td>\n",
              "      <td>0</td>\n",
              "      <td>0</td>\n",
              "      <td>1</td>\n",
              "      <td>0</td>\n",
              "      <td>0</td>\n",
              "      <td>0</td>\n",
              "      <td>0</td>\n",
              "      <td>0</td>\n",
              "      <td>0</td>\n",
              "      <td>0</td>\n",
              "      <td>0</td>\n",
              "    </tr>\n",
              "    <tr>\n",
              "      <th>2005-01-01</th>\n",
              "      <td>6652</td>\n",
              "      <td>5.9</td>\n",
              "      <td>0</td>\n",
              "      <td>0</td>\n",
              "      <td>0</td>\n",
              "      <td>0</td>\n",
              "      <td>0</td>\n",
              "      <td>0</td>\n",
              "      <td>0</td>\n",
              "      <td>0</td>\n",
              "      <td>0</td>\n",
              "      <td>0</td>\n",
              "      <td>1</td>\n",
              "      <td>0</td>\n",
              "      <td>0</td>\n",
              "      <td>0</td>\n",
              "      <td>0</td>\n",
              "      <td>0</td>\n",
              "      <td>0</td>\n",
              "    </tr>\n",
              "    <tr>\n",
              "      <th>2006-01-01</th>\n",
              "      <td>2090</td>\n",
              "      <td>6.3</td>\n",
              "      <td>0</td>\n",
              "      <td>0</td>\n",
              "      <td>0</td>\n",
              "      <td>0</td>\n",
              "      <td>0</td>\n",
              "      <td>1</td>\n",
              "      <td>0</td>\n",
              "      <td>0</td>\n",
              "      <td>0</td>\n",
              "      <td>0</td>\n",
              "      <td>0</td>\n",
              "      <td>0</td>\n",
              "      <td>0</td>\n",
              "      <td>0</td>\n",
              "      <td>0</td>\n",
              "      <td>0</td>\n",
              "      <td>0</td>\n",
              "    </tr>\n",
              "    <tr>\n",
              "      <th>2006-01-01</th>\n",
              "      <td>3525</td>\n",
              "      <td>6.3</td>\n",
              "      <td>0</td>\n",
              "      <td>0</td>\n",
              "      <td>0</td>\n",
              "      <td>0</td>\n",
              "      <td>0</td>\n",
              "      <td>0</td>\n",
              "      <td>1</td>\n",
              "      <td>0</td>\n",
              "      <td>0</td>\n",
              "      <td>0</td>\n",
              "      <td>0</td>\n",
              "      <td>0</td>\n",
              "      <td>0</td>\n",
              "      <td>0</td>\n",
              "      <td>0</td>\n",
              "      <td>0</td>\n",
              "      <td>0</td>\n",
              "    </tr>\n",
              "    <tr>\n",
              "      <th>2006-01-01</th>\n",
              "      <td>18723</td>\n",
              "      <td>6.3</td>\n",
              "      <td>0</td>\n",
              "      <td>0</td>\n",
              "      <td>0</td>\n",
              "      <td>0</td>\n",
              "      <td>0</td>\n",
              "      <td>0</td>\n",
              "      <td>0</td>\n",
              "      <td>0</td>\n",
              "      <td>0</td>\n",
              "      <td>1</td>\n",
              "      <td>0</td>\n",
              "      <td>0</td>\n",
              "      <td>0</td>\n",
              "      <td>0</td>\n",
              "      <td>0</td>\n",
              "      <td>0</td>\n",
              "      <td>0</td>\n",
              "    </tr>\n",
              "  </tbody>\n",
              "</table>\n",
              "</div>\n",
              "      <button class=\"colab-df-convert\" onclick=\"convertToInteractive('df-836d1b50-17d5-4c18-8ec4-a6c1fd855020')\"\n",
              "              title=\"Convert this dataframe to an interactive table.\"\n",
              "              style=\"display:none;\">\n",
              "        \n",
              "  <svg xmlns=\"http://www.w3.org/2000/svg\" height=\"24px\"viewBox=\"0 0 24 24\"\n",
              "       width=\"24px\">\n",
              "    <path d=\"M0 0h24v24H0V0z\" fill=\"none\"/>\n",
              "    <path d=\"M18.56 5.44l.94 2.06.94-2.06 2.06-.94-2.06-.94-.94-2.06-.94 2.06-2.06.94zm-11 1L8.5 8.5l.94-2.06 2.06-.94-2.06-.94L8.5 2.5l-.94 2.06-2.06.94zm10 10l.94 2.06.94-2.06 2.06-.94-2.06-.94-.94-2.06-.94 2.06-2.06.94z\"/><path d=\"M17.41 7.96l-1.37-1.37c-.4-.4-.92-.59-1.43-.59-.52 0-1.04.2-1.43.59L10.3 9.45l-7.72 7.72c-.78.78-.78 2.05 0 2.83L4 21.41c.39.39.9.59 1.41.59.51 0 1.02-.2 1.41-.59l7.78-7.78 2.81-2.81c.8-.78.8-2.07 0-2.86zM5.41 20L4 18.59l7.72-7.72 1.47 1.35L5.41 20z\"/>\n",
              "  </svg>\n",
              "      </button>\n",
              "      \n",
              "  <style>\n",
              "    .colab-df-container {\n",
              "      display:flex;\n",
              "      flex-wrap:wrap;\n",
              "      gap: 12px;\n",
              "    }\n",
              "\n",
              "    .colab-df-convert {\n",
              "      background-color: #E8F0FE;\n",
              "      border: none;\n",
              "      border-radius: 50%;\n",
              "      cursor: pointer;\n",
              "      display: none;\n",
              "      fill: #1967D2;\n",
              "      height: 32px;\n",
              "      padding: 0 0 0 0;\n",
              "      width: 32px;\n",
              "    }\n",
              "\n",
              "    .colab-df-convert:hover {\n",
              "      background-color: #E2EBFA;\n",
              "      box-shadow: 0px 1px 2px rgba(60, 64, 67, 0.3), 0px 1px 3px 1px rgba(60, 64, 67, 0.15);\n",
              "      fill: #174EA6;\n",
              "    }\n",
              "\n",
              "    [theme=dark] .colab-df-convert {\n",
              "      background-color: #3B4455;\n",
              "      fill: #D2E3FC;\n",
              "    }\n",
              "\n",
              "    [theme=dark] .colab-df-convert:hover {\n",
              "      background-color: #434B5C;\n",
              "      box-shadow: 0px 1px 3px 1px rgba(0, 0, 0, 0.15);\n",
              "      filter: drop-shadow(0px 1px 2px rgba(0, 0, 0, 0.3));\n",
              "      fill: #FFFFFF;\n",
              "    }\n",
              "  </style>\n",
              "\n",
              "      <script>\n",
              "        const buttonEl =\n",
              "          document.querySelector('#df-836d1b50-17d5-4c18-8ec4-a6c1fd855020 button.colab-df-convert');\n",
              "        buttonEl.style.display =\n",
              "          google.colab.kernel.accessAllowed ? 'block' : 'none';\n",
              "\n",
              "        async function convertToInteractive(key) {\n",
              "          const element = document.querySelector('#df-836d1b50-17d5-4c18-8ec4-a6c1fd855020');\n",
              "          const dataTable =\n",
              "            await google.colab.kernel.invokeFunction('convertToInteractive',\n",
              "                                                     [key], {});\n",
              "          if (!dataTable) return;\n",
              "\n",
              "          const docLinkHtml = 'Like what you see? Visit the ' +\n",
              "            '<a target=\"_blank\" href=https://colab.research.google.com/notebooks/data_table.ipynb>data table notebook</a>'\n",
              "            + ' to learn more about interactive tables.';\n",
              "          element.innerHTML = '';\n",
              "          dataTable['output_type'] = 'display_data';\n",
              "          await google.colab.output.renderOutput(dataTable, element);\n",
              "          const docLink = document.createElement('div');\n",
              "          docLink.innerHTML = docLinkHtml;\n",
              "          element.appendChild(docLink);\n",
              "        }\n",
              "      </script>\n",
              "    </div>\n",
              "  </div>\n",
              "  "
            ],
            "text/plain": [
              "            Number_of_Crimes_Reported  ...  Type_of_Crime_Vehicles_and_other_thefts\n",
              "Year                                   ...                                         \n",
              "2005-01-01                       2313  ...                                        0\n",
              "2005-01-01                       3153  ...                                        0\n",
              "2005-01-01                      17304  ...                                        0\n",
              "2005-01-01                       6936  ...                                        0\n",
              "2005-01-01                       8454  ...                                        0\n",
              "2005-01-01                       2219  ...                                        0\n",
              "2005-01-01                      12589  ...                                        0\n",
              "2005-01-01                       2874  ...                                        0\n",
              "2005-01-01                       1718  ...                                        1\n",
              "2005-01-01                       6356  ...                                        0\n",
              "2005-01-01                         38  ...                                        0\n",
              "2005-01-01                       3236  ...                                        0\n",
              "2005-01-01                       1390  ...                                        0\n",
              "2005-01-01                        107  ...                                        0\n",
              "2005-01-01                         29  ...                                        0\n",
              "2005-01-01                         32  ...                                        0\n",
              "2005-01-01                       6652  ...                                        0\n",
              "2006-01-01                       2090  ...                                        0\n",
              "2006-01-01                       3525  ...                                        0\n",
              "2006-01-01                      18723  ...                                        0\n",
              "\n",
              "[20 rows x 19 columns]"
            ]
          },
          "metadata": {},
          "execution_count": 39
        }
      ]
    },
    {
      "cell_type": "code",
      "source": [
        "df.shape"
      ],
      "metadata": {
        "colab": {
          "base_uri": "https://localhost:8080/"
        },
        "id": "GKv3N1OQTiZF",
        "outputId": "4d4d421d-e2cc-4ef3-91b7-a8c14b31b8da"
      },
      "execution_count": null,
      "outputs": [
        {
          "output_type": "execute_result",
          "data": {
            "text/plain": [
              "(238, 19)"
            ]
          },
          "metadata": {},
          "execution_count": 40
        }
      ]
    },
    {
      "cell_type": "code",
      "source": [
        "values = df.values\n",
        "# ensure all data is float\n",
        "values = values.astype('float32')\n",
        "# normalize features\n",
        "scaler = MinMaxScaler(feature_range=(0, 1))\n",
        "scaled = scaler.fit_transform(values)"
      ],
      "metadata": {
        "id": "dv93OnTdNgwH"
      },
      "execution_count": null,
      "outputs": []
    },
    {
      "cell_type": "code",
      "source": [
        "scaled.shape"
      ],
      "metadata": {
        "colab": {
          "base_uri": "https://localhost:8080/"
        },
        "id": "gvMrvjEJO1TR",
        "outputId": "6b4b76b0-8c7f-4ce6-e85a-3345ce222acc"
      },
      "execution_count": null,
      "outputs": [
        {
          "output_type": "execute_result",
          "data": {
            "text/plain": [
              "(238, 19)"
            ]
          },
          "metadata": {},
          "execution_count": 42
        }
      ]
    },
    {
      "cell_type": "markdown",
      "source": [
        "**Saving the Scaler**"
      ],
      "metadata": {
        "id": "ynWV0MapjI21"
      }
    },
    {
      "cell_type": "code",
      "source": [
        "import joblib\n",
        "pathScaler = '/content/drive/MyDrive/colab_notebooks/Crimes_Recorded.pkl'\n",
        "\n",
        "joblib.dump(scaler, pathScaler)"
      ],
      "metadata": {
        "colab": {
          "base_uri": "https://localhost:8080/"
        },
        "id": "N7E2nRtmjDpA",
        "outputId": "6d46e90f-3a01-46cc-af9d-ceb6df0e4ba3"
      },
      "execution_count": null,
      "outputs": [
        {
          "output_type": "execute_result",
          "data": {
            "text/plain": [
              "['/content/drive/MyDrive/colab_notebooks/Crimes_Recorded.pkl']"
            ]
          },
          "metadata": {},
          "execution_count": 43
        }
      ]
    },
    {
      "cell_type": "markdown",
      "source": [
        "**Framing the problem into a Supervised Learning Problem**"
      ],
      "metadata": {
        "id": "BI1-J8WkmRfv"
      }
    },
    {
      "cell_type": "code",
      "source": [
        "reframed = series_to_supervised(scaled, 1, 1)\n",
        "reframed.columns"
      ],
      "metadata": {
        "colab": {
          "base_uri": "https://localhost:8080/"
        },
        "id": "2GWC5drkmAHW",
        "outputId": "b4bbc9d2-1b44-4562-cffe-cf42e58b0118"
      },
      "execution_count": null,
      "outputs": [
        {
          "output_type": "execute_result",
          "data": {
            "text/plain": [
              "Index(['var1(t-1)', 'var2(t-1)', 'var3(t-1)', 'var4(t-1)', 'var5(t-1)',\n",
              "       'var6(t-1)', 'var7(t-1)', 'var8(t-1)', 'var9(t-1)', 'var10(t-1)',\n",
              "       'var11(t-1)', 'var12(t-1)', 'var13(t-1)', 'var14(t-1)', 'var15(t-1)',\n",
              "       'var16(t-1)', 'var17(t-1)', 'var18(t-1)', 'var19(t-1)', 'var1(t)',\n",
              "       'var2(t)', 'var3(t)', 'var4(t)', 'var5(t)', 'var6(t)', 'var7(t)',\n",
              "       'var8(t)', 'var9(t)', 'var10(t)', 'var11(t)', 'var12(t)', 'var13(t)',\n",
              "       'var14(t)', 'var15(t)', 'var16(t)', 'var17(t)', 'var18(t)', 'var19(t)'],\n",
              "      dtype='object')"
            ]
          },
          "metadata": {},
          "execution_count": 45
        }
      ]
    },
    {
      "cell_type": "code",
      "source": [
        "reframed.shape"
      ],
      "metadata": {
        "colab": {
          "base_uri": "https://localhost:8080/"
        },
        "id": "QyrVoBSsns97",
        "outputId": "03f0af55-900e-4015-eb85-2a057c28d020"
      },
      "execution_count": null,
      "outputs": [
        {
          "output_type": "execute_result",
          "data": {
            "text/plain": [
              "(237, 38)"
            ]
          },
          "metadata": {},
          "execution_count": 46
        }
      ]
    },
    {
      "cell_type": "markdown",
      "source": [
        "**Removing the columns not to be predicted**"
      ],
      "metadata": {
        "id": "n9PqLRv2syyD"
      }
    },
    {
      "cell_type": "markdown",
      "source": [
        "I need to predict the Number_of_Crimes which is var1(t)"
      ],
      "metadata": {
        "id": "wMrRTfyfULsf"
      }
    },
    {
      "cell_type": "code",
      "source": [
        "#Columns to be dropped \n",
        "reframed.columns[20:]"
      ],
      "metadata": {
        "colab": {
          "base_uri": "https://localhost:8080/"
        },
        "id": "PFN9v6JQsqQb",
        "outputId": "ba243c4d-eb30-4be7-abd4-9bf0480d33a4"
      },
      "execution_count": null,
      "outputs": [
        {
          "output_type": "execute_result",
          "data": {
            "text/plain": [
              "Index(['var2(t)', 'var3(t)', 'var4(t)', 'var5(t)', 'var6(t)', 'var7(t)',\n",
              "       'var8(t)', 'var9(t)', 'var10(t)', 'var11(t)', 'var12(t)', 'var13(t)',\n",
              "       'var14(t)', 'var15(t)', 'var16(t)', 'var17(t)', 'var18(t)', 'var19(t)'],\n",
              "      dtype='object')"
            ]
          },
          "metadata": {},
          "execution_count": 47
        }
      ]
    },
    {
      "cell_type": "code",
      "source": [
        "#dropping the displayed columns -- columns not to be predicted\n",
        "reframed.drop(reframed.columns[20:], axis=1, inplace=True)\n",
        "\n",
        "#display the remainig columns -- columns to predict  \n",
        "print(reframed.head())"
      ],
      "metadata": {
        "colab": {
          "base_uri": "https://localhost:8080/"
        },
        "id": "x8rMz3fYn5Ov",
        "outputId": "7d1e5b3e-b6b4-46ea-aacb-6d5f4204f824"
      },
      "execution_count": null,
      "outputs": [
        {
          "output_type": "stream",
          "name": "stdout",
          "text": [
            "   var1(t-1)  var2(t-1)  var3(t-1)  ...  var18(t-1)  var19(t-1)   var1(t)\n",
            "1   0.092339        0.8        0.0  ...         0.0         0.0  0.125873\n",
            "2   0.125873        0.8        0.0  ...         0.0         0.0  0.690806\n",
            "3   0.690806        0.8        0.0  ...         0.0         0.0  0.276897\n",
            "4   0.276897        0.8        0.0  ...         0.0         0.0  0.337499\n",
            "5   0.337499        0.8        1.0  ...         0.0         0.0  0.088586\n",
            "\n",
            "[5 rows x 20 columns]\n"
          ]
        }
      ]
    },
    {
      "cell_type": "markdown",
      "source": [
        "*   The output of the above code shows that there are 19 input variables(input series), and 1 output variable(Number_of_Crimes).\n",
        "\n",
        "\n"
      ],
      "metadata": {
        "id": "smqbw0nGWP6P"
      }
    },
    {
      "cell_type": "code",
      "source": [
        "reframed.shape"
      ],
      "metadata": {
        "colab": {
          "base_uri": "https://localhost:8080/"
        },
        "id": "ifHFVO8VueLc",
        "outputId": "932d2d67-d5eb-4319-cf27-84b46469eb31"
      },
      "execution_count": null,
      "outputs": [
        {
          "output_type": "execute_result",
          "data": {
            "text/plain": [
              "(237, 20)"
            ]
          },
          "metadata": {},
          "execution_count": 50
        }
      ]
    },
    {
      "cell_type": "markdown",
      "source": [
        "**Splitting the dataset into train set and test set**"
      ],
      "metadata": {
        "id": "21lkY6ZXveHr"
      }
    },
    {
      "cell_type": "markdown",
      "source": [
        "I have 14 years worth of data"
      ],
      "metadata": {
        "id": "768de3MEWG52"
      }
    },
    {
      "cell_type": "code",
      "source": [
        "values = reframed.values\n",
        "\n",
        "# Setting the train dataset to be the first 13 years of data\n",
        "n_train_years = 13*17\n",
        "\n",
        "# split into train and test sets\n",
        "train = values[:n_train_years, :]\n",
        "test = values[n_train_years:, :]\n",
        "\n",
        "# split into input and outputs\n",
        "train_X, train_y = train[:, :-1], train[:, -1]\n",
        "test_X, test_y = test[:, :-1], test[:, -1]\n",
        "\n",
        "# reshape input to be 3D [samples, timesteps, features]\n",
        "train_X = train_X.reshape((train_X.shape[0], 1, train_X.shape[1]))\n",
        "test_X = test_X.reshape((test_X.shape[0], 1, test_X.shape[1]))\n",
        "\n",
        "print(train_X.shape, train_y.shape, test_X.shape, test_y.shape)"
      ],
      "metadata": {
        "colab": {
          "base_uri": "https://localhost:8080/"
        },
        "id": "jZg_goIwvP_W",
        "outputId": "a47b605a-e285-4be0-ef4c-46f2f30cf680"
      },
      "execution_count": null,
      "outputs": [
        {
          "output_type": "stream",
          "name": "stdout",
          "text": [
            "(221, 1, 19) (221,) (16, 1, 19) (16,)\n"
          ]
        }
      ]
    },
    {
      "cell_type": "markdown",
      "source": [
        "**Designing and fitting the Neural Network**"
      ],
      "metadata": {
        "id": "DTqCTgoBy4fs"
      }
    },
    {
      "cell_type": "code",
      "source": [
        "from keras.layers import Dropout\n",
        "\n",
        "# Initialising the RNN\n",
        "model = Sequential()\n",
        "model.add(LSTM(units = 50, input_shape=(train_X.shape[1], train_X.shape[2])))\n",
        "\n",
        "# Adding a dropout of 20% to minimize overfitting\n",
        "model.add(Dropout(0.2))\n",
        "\n",
        "# Adding the output layer\n",
        "# For Full connection layer I use dense, with unit=1 since output is 1D\n",
        "# I use softplus activation, since I want the output to be only positive values(0 to +ve inf)\n",
        "model.add(Dense(1, activation='softplus'))\n",
        "\n",
        "#compiling the model\n",
        "model.compile(loss='mae', optimizer='adam')\n",
        "\n",
        "from keras.callbacks import EarlyStopping, ModelCheckpoint\n",
        "\n",
        "pathModel = '/content/drive/MyDrive/Colab Notebooks/School Project docs and files/Predicting_Number_of_Crimes_model.h5'\n",
        "\n",
        "# Create callbacks -- EarlyStopping, ModelCheckpoint\n",
        "\n",
        "# EarlyStopping callback with patience\n",
        "es = EarlyStopping(monitor='val_loss', mode='min', verbose=1, patience=20)\n",
        "\n",
        "# ModelCheckpoint callback, for saving best model\n",
        "mc = ModelCheckpoint(pathModel, monitor='val_loss', mode='min', verbose=1, save_best_only=True)\n",
        "\n",
        "# fitting the network model\n",
        "history = model.fit(train_X, train_y, epochs= 200, batch_size=7,\n",
        "                    validation_data=(test_X, test_y), verbose=2, shuffle=False,\n",
        "                    callbacks=[es, mc])"
      ],
      "metadata": {
        "colab": {
          "base_uri": "https://localhost:8080/"
        },
        "id": "HPc2f1uMxpAb",
        "outputId": "f44be3ad-1aba-4bb2-9780-4cf17504d26f"
      },
      "execution_count": null,
      "outputs": [
        {
          "output_type": "stream",
          "name": "stdout",
          "text": [
            "Epoch 1/200\n",
            "\n",
            "Epoch 00001: val_loss improved from inf to 0.41936, saving model to /content/drive/MyDrive/Colab Notebooks/School Project docs and files/Predicting_Number_of_Crimes_model.h5\n",
            "32/32 - 3s - loss: 0.4880 - val_loss: 0.4194 - 3s/epoch - 108ms/step\n",
            "Epoch 2/200\n",
            "\n",
            "Epoch 00002: val_loss improved from 0.41936 to 0.32103, saving model to /content/drive/MyDrive/Colab Notebooks/School Project docs and files/Predicting_Number_of_Crimes_model.h5\n",
            "32/32 - 0s - loss: 0.3981 - val_loss: 0.3210 - 138ms/epoch - 4ms/step\n",
            "Epoch 3/200\n",
            "\n",
            "Epoch 00003: val_loss improved from 0.32103 to 0.21452, saving model to /content/drive/MyDrive/Colab Notebooks/School Project docs and files/Predicting_Number_of_Crimes_model.h5\n",
            "32/32 - 0s - loss: 0.2959 - val_loss: 0.2145 - 165ms/epoch - 5ms/step\n",
            "Epoch 4/200\n",
            "\n",
            "Epoch 00004: val_loss improved from 0.21452 to 0.15547, saving model to /content/drive/MyDrive/Colab Notebooks/School Project docs and files/Predicting_Number_of_Crimes_model.h5\n",
            "32/32 - 0s - loss: 0.1979 - val_loss: 0.1555 - 184ms/epoch - 6ms/step\n",
            "Epoch 5/200\n",
            "\n",
            "Epoch 00005: val_loss improved from 0.15547 to 0.14263, saving model to /content/drive/MyDrive/Colab Notebooks/School Project docs and files/Predicting_Number_of_Crimes_model.h5\n",
            "32/32 - 0s - loss: 0.1342 - val_loss: 0.1426 - 173ms/epoch - 5ms/step\n",
            "Epoch 6/200\n",
            "\n",
            "Epoch 00006: val_loss improved from 0.14263 to 0.13996, saving model to /content/drive/MyDrive/Colab Notebooks/School Project docs and files/Predicting_Number_of_Crimes_model.h5\n",
            "32/32 - 0s - loss: 0.1088 - val_loss: 0.1400 - 172ms/epoch - 5ms/step\n",
            "Epoch 7/200\n",
            "\n",
            "Epoch 00007: val_loss improved from 0.13996 to 0.13214, saving model to /content/drive/MyDrive/Colab Notebooks/School Project docs and files/Predicting_Number_of_Crimes_model.h5\n",
            "32/32 - 0s - loss: 0.0995 - val_loss: 0.1321 - 173ms/epoch - 5ms/step\n",
            "Epoch 8/200\n",
            "\n",
            "Epoch 00008: val_loss improved from 0.13214 to 0.12086, saving model to /content/drive/MyDrive/Colab Notebooks/School Project docs and files/Predicting_Number_of_Crimes_model.h5\n",
            "32/32 - 0s - loss: 0.0891 - val_loss: 0.1209 - 157ms/epoch - 5ms/step\n",
            "Epoch 9/200\n",
            "\n",
            "Epoch 00009: val_loss improved from 0.12086 to 0.10908, saving model to /content/drive/MyDrive/Colab Notebooks/School Project docs and files/Predicting_Number_of_Crimes_model.h5\n",
            "32/32 - 0s - loss: 0.0751 - val_loss: 0.1091 - 191ms/epoch - 6ms/step\n",
            "Epoch 10/200\n",
            "\n",
            "Epoch 00010: val_loss improved from 0.10908 to 0.09651, saving model to /content/drive/MyDrive/Colab Notebooks/School Project docs and files/Predicting_Number_of_Crimes_model.h5\n",
            "32/32 - 0s - loss: 0.0668 - val_loss: 0.0965 - 174ms/epoch - 5ms/step\n",
            "Epoch 11/200\n",
            "\n",
            "Epoch 00011: val_loss improved from 0.09651 to 0.08569, saving model to /content/drive/MyDrive/Colab Notebooks/School Project docs and files/Predicting_Number_of_Crimes_model.h5\n",
            "32/32 - 0s - loss: 0.0601 - val_loss: 0.0857 - 155ms/epoch - 5ms/step\n",
            "Epoch 12/200\n",
            "\n",
            "Epoch 00012: val_loss improved from 0.08569 to 0.07699, saving model to /content/drive/MyDrive/Colab Notebooks/School Project docs and files/Predicting_Number_of_Crimes_model.h5\n",
            "32/32 - 0s - loss: 0.0518 - val_loss: 0.0770 - 161ms/epoch - 5ms/step\n",
            "Epoch 13/200\n",
            "\n",
            "Epoch 00013: val_loss improved from 0.07699 to 0.07459, saving model to /content/drive/MyDrive/Colab Notebooks/School Project docs and files/Predicting_Number_of_Crimes_model.h5\n",
            "32/32 - 0s - loss: 0.0466 - val_loss: 0.0746 - 168ms/epoch - 5ms/step\n",
            "Epoch 14/200\n",
            "\n",
            "Epoch 00014: val_loss improved from 0.07459 to 0.07147, saving model to /content/drive/MyDrive/Colab Notebooks/School Project docs and files/Predicting_Number_of_Crimes_model.h5\n",
            "32/32 - 0s - loss: 0.0472 - val_loss: 0.0715 - 179ms/epoch - 6ms/step\n",
            "Epoch 15/200\n",
            "\n",
            "Epoch 00015: val_loss improved from 0.07147 to 0.07146, saving model to /content/drive/MyDrive/Colab Notebooks/School Project docs and files/Predicting_Number_of_Crimes_model.h5\n",
            "32/32 - 0s - loss: 0.0432 - val_loss: 0.0715 - 152ms/epoch - 5ms/step\n",
            "Epoch 16/200\n",
            "\n",
            "Epoch 00016: val_loss improved from 0.07146 to 0.06539, saving model to /content/drive/MyDrive/Colab Notebooks/School Project docs and files/Predicting_Number_of_Crimes_model.h5\n",
            "32/32 - 0s - loss: 0.0405 - val_loss: 0.0654 - 189ms/epoch - 6ms/step\n",
            "Epoch 17/200\n",
            "\n",
            "Epoch 00017: val_loss did not improve from 0.06539\n",
            "32/32 - 0s - loss: 0.0403 - val_loss: 0.0680 - 113ms/epoch - 4ms/step\n",
            "Epoch 18/200\n",
            "\n",
            "Epoch 00018: val_loss improved from 0.06539 to 0.06249, saving model to /content/drive/MyDrive/Colab Notebooks/School Project docs and files/Predicting_Number_of_Crimes_model.h5\n",
            "32/32 - 0s - loss: 0.0386 - val_loss: 0.0625 - 147ms/epoch - 5ms/step\n",
            "Epoch 19/200\n",
            "\n",
            "Epoch 00019: val_loss improved from 0.06249 to 0.05698, saving model to /content/drive/MyDrive/Colab Notebooks/School Project docs and files/Predicting_Number_of_Crimes_model.h5\n",
            "32/32 - 0s - loss: 0.0345 - val_loss: 0.0570 - 174ms/epoch - 5ms/step\n",
            "Epoch 20/200\n",
            "\n",
            "Epoch 00020: val_loss did not improve from 0.05698\n",
            "32/32 - 0s - loss: 0.0367 - val_loss: 0.0648 - 123ms/epoch - 4ms/step\n",
            "Epoch 21/200\n",
            "\n",
            "Epoch 00021: val_loss improved from 0.05698 to 0.05225, saving model to /content/drive/MyDrive/Colab Notebooks/School Project docs and files/Predicting_Number_of_Crimes_model.h5\n",
            "32/32 - 0s - loss: 0.0322 - val_loss: 0.0523 - 172ms/epoch - 5ms/step\n",
            "Epoch 22/200\n",
            "\n",
            "Epoch 00022: val_loss did not improve from 0.05225\n",
            "32/32 - 0s - loss: 0.0342 - val_loss: 0.0550 - 116ms/epoch - 4ms/step\n",
            "Epoch 23/200\n",
            "\n",
            "Epoch 00023: val_loss did not improve from 0.05225\n",
            "32/32 - 0s - loss: 0.0313 - val_loss: 0.0573 - 137ms/epoch - 4ms/step\n",
            "Epoch 24/200\n",
            "\n",
            "Epoch 00024: val_loss improved from 0.05225 to 0.05027, saving model to /content/drive/MyDrive/Colab Notebooks/School Project docs and files/Predicting_Number_of_Crimes_model.h5\n",
            "32/32 - 0s - loss: 0.0291 - val_loss: 0.0503 - 163ms/epoch - 5ms/step\n",
            "Epoch 25/200\n",
            "\n",
            "Epoch 00025: val_loss did not improve from 0.05027\n",
            "32/32 - 0s - loss: 0.0333 - val_loss: 0.0544 - 138ms/epoch - 4ms/step\n",
            "Epoch 26/200\n",
            "\n",
            "Epoch 00026: val_loss improved from 0.05027 to 0.04934, saving model to /content/drive/MyDrive/Colab Notebooks/School Project docs and files/Predicting_Number_of_Crimes_model.h5\n",
            "32/32 - 0s - loss: 0.0309 - val_loss: 0.0493 - 153ms/epoch - 5ms/step\n",
            "Epoch 27/200\n",
            "\n",
            "Epoch 00027: val_loss did not improve from 0.04934\n",
            "32/32 - 0s - loss: 0.0291 - val_loss: 0.0507 - 114ms/epoch - 4ms/step\n",
            "Epoch 28/200\n",
            "\n",
            "Epoch 00028: val_loss did not improve from 0.04934\n",
            "32/32 - 0s - loss: 0.0291 - val_loss: 0.0495 - 121ms/epoch - 4ms/step\n",
            "Epoch 29/200\n",
            "\n",
            "Epoch 00029: val_loss did not improve from 0.04934\n",
            "32/32 - 0s - loss: 0.0287 - val_loss: 0.0532 - 132ms/epoch - 4ms/step\n",
            "Epoch 30/200\n",
            "\n",
            "Epoch 00030: val_loss did not improve from 0.04934\n",
            "32/32 - 0s - loss: 0.0277 - val_loss: 0.0518 - 140ms/epoch - 4ms/step\n",
            "Epoch 31/200\n",
            "\n",
            "Epoch 00031: val_loss improved from 0.04934 to 0.04676, saving model to /content/drive/MyDrive/Colab Notebooks/School Project docs and files/Predicting_Number_of_Crimes_model.h5\n",
            "32/32 - 0s - loss: 0.0261 - val_loss: 0.0468 - 157ms/epoch - 5ms/step\n",
            "Epoch 32/200\n",
            "\n",
            "Epoch 00032: val_loss did not improve from 0.04676\n",
            "32/32 - 0s - loss: 0.0275 - val_loss: 0.0498 - 139ms/epoch - 4ms/step\n",
            "Epoch 33/200\n",
            "\n",
            "Epoch 00033: val_loss improved from 0.04676 to 0.04488, saving model to /content/drive/MyDrive/Colab Notebooks/School Project docs and files/Predicting_Number_of_Crimes_model.h5\n",
            "32/32 - 0s - loss: 0.0254 - val_loss: 0.0449 - 169ms/epoch - 5ms/step\n",
            "Epoch 34/200\n",
            "\n",
            "Epoch 00034: val_loss did not improve from 0.04488\n",
            "32/32 - 0s - loss: 0.0276 - val_loss: 0.0475 - 122ms/epoch - 4ms/step\n",
            "Epoch 35/200\n",
            "\n",
            "Epoch 00035: val_loss did not improve from 0.04488\n",
            "32/32 - 0s - loss: 0.0267 - val_loss: 0.0460 - 132ms/epoch - 4ms/step\n",
            "Epoch 36/200\n",
            "\n",
            "Epoch 00036: val_loss did not improve from 0.04488\n",
            "32/32 - 0s - loss: 0.0257 - val_loss: 0.0476 - 130ms/epoch - 4ms/step\n",
            "Epoch 37/200\n",
            "\n",
            "Epoch 00037: val_loss did not improve from 0.04488\n",
            "32/32 - 0s - loss: 0.0263 - val_loss: 0.0473 - 117ms/epoch - 4ms/step\n",
            "Epoch 38/200\n",
            "\n",
            "Epoch 00038: val_loss did not improve from 0.04488\n",
            "32/32 - 0s - loss: 0.0262 - val_loss: 0.0516 - 106ms/epoch - 3ms/step\n",
            "Epoch 39/200\n",
            "\n",
            "Epoch 00039: val_loss did not improve from 0.04488\n",
            "32/32 - 0s - loss: 0.0255 - val_loss: 0.0458 - 113ms/epoch - 4ms/step\n",
            "Epoch 40/200\n",
            "\n",
            "Epoch 00040: val_loss did not improve from 0.04488\n",
            "32/32 - 0s - loss: 0.0242 - val_loss: 0.0476 - 103ms/epoch - 3ms/step\n",
            "Epoch 41/200\n",
            "\n",
            "Epoch 00041: val_loss did not improve from 0.04488\n",
            "32/32 - 0s - loss: 0.0249 - val_loss: 0.0453 - 111ms/epoch - 3ms/step\n",
            "Epoch 42/200\n",
            "\n",
            "Epoch 00042: val_loss improved from 0.04488 to 0.04435, saving model to /content/drive/MyDrive/Colab Notebooks/School Project docs and files/Predicting_Number_of_Crimes_model.h5\n",
            "32/32 - 0s - loss: 0.0242 - val_loss: 0.0444 - 142ms/epoch - 4ms/step\n",
            "Epoch 43/200\n",
            "\n",
            "Epoch 00043: val_loss did not improve from 0.04435\n",
            "32/32 - 0s - loss: 0.0253 - val_loss: 0.0481 - 115ms/epoch - 4ms/step\n",
            "Epoch 44/200\n",
            "\n",
            "Epoch 00044: val_loss did not improve from 0.04435\n",
            "32/32 - 0s - loss: 0.0262 - val_loss: 0.0464 - 126ms/epoch - 4ms/step\n",
            "Epoch 45/200\n",
            "\n",
            "Epoch 00045: val_loss improved from 0.04435 to 0.04400, saving model to /content/drive/MyDrive/Colab Notebooks/School Project docs and files/Predicting_Number_of_Crimes_model.h5\n",
            "32/32 - 0s - loss: 0.0245 - val_loss: 0.0440 - 169ms/epoch - 5ms/step\n",
            "Epoch 46/200\n",
            "\n",
            "Epoch 00046: val_loss did not improve from 0.04400\n",
            "32/32 - 0s - loss: 0.0249 - val_loss: 0.0460 - 120ms/epoch - 4ms/step\n",
            "Epoch 47/200\n",
            "\n",
            "Epoch 00047: val_loss improved from 0.04400 to 0.04239, saving model to /content/drive/MyDrive/Colab Notebooks/School Project docs and files/Predicting_Number_of_Crimes_model.h5\n",
            "32/32 - 0s - loss: 0.0256 - val_loss: 0.0424 - 144ms/epoch - 4ms/step\n",
            "Epoch 48/200\n",
            "\n",
            "Epoch 00048: val_loss did not improve from 0.04239\n",
            "32/32 - 0s - loss: 0.0246 - val_loss: 0.0429 - 124ms/epoch - 4ms/step\n",
            "Epoch 49/200\n",
            "\n",
            "Epoch 00049: val_loss improved from 0.04239 to 0.03991, saving model to /content/drive/MyDrive/Colab Notebooks/School Project docs and files/Predicting_Number_of_Crimes_model.h5\n",
            "32/32 - 0s - loss: 0.0249 - val_loss: 0.0399 - 166ms/epoch - 5ms/step\n",
            "Epoch 50/200\n",
            "\n",
            "Epoch 00050: val_loss did not improve from 0.03991\n",
            "32/32 - 0s - loss: 0.0271 - val_loss: 0.0441 - 142ms/epoch - 4ms/step\n",
            "Epoch 51/200\n",
            "\n",
            "Epoch 00051: val_loss did not improve from 0.03991\n",
            "32/32 - 0s - loss: 0.0243 - val_loss: 0.0456 - 119ms/epoch - 4ms/step\n",
            "Epoch 52/200\n",
            "\n",
            "Epoch 00052: val_loss did not improve from 0.03991\n",
            "32/32 - 0s - loss: 0.0229 - val_loss: 0.0438 - 119ms/epoch - 4ms/step\n",
            "Epoch 53/200\n",
            "\n",
            "Epoch 00053: val_loss did not improve from 0.03991\n",
            "32/32 - 0s - loss: 0.0250 - val_loss: 0.0438 - 138ms/epoch - 4ms/step\n",
            "Epoch 54/200\n",
            "\n",
            "Epoch 00054: val_loss did not improve from 0.03991\n",
            "32/32 - 0s - loss: 0.0254 - val_loss: 0.0423 - 131ms/epoch - 4ms/step\n",
            "Epoch 55/200\n",
            "\n",
            "Epoch 00055: val_loss did not improve from 0.03991\n",
            "32/32 - 0s - loss: 0.0240 - val_loss: 0.0452 - 128ms/epoch - 4ms/step\n",
            "Epoch 56/200\n",
            "\n",
            "Epoch 00056: val_loss improved from 0.03991 to 0.03899, saving model to /content/drive/MyDrive/Colab Notebooks/School Project docs and files/Predicting_Number_of_Crimes_model.h5\n",
            "32/32 - 0s - loss: 0.0243 - val_loss: 0.0390 - 147ms/epoch - 5ms/step\n",
            "Epoch 57/200\n",
            "\n",
            "Epoch 00057: val_loss did not improve from 0.03899\n",
            "32/32 - 0s - loss: 0.0244 - val_loss: 0.0448 - 126ms/epoch - 4ms/step\n",
            "Epoch 58/200\n",
            "\n",
            "Epoch 00058: val_loss did not improve from 0.03899\n",
            "32/32 - 0s - loss: 0.0243 - val_loss: 0.0443 - 130ms/epoch - 4ms/step\n",
            "Epoch 59/200\n",
            "\n",
            "Epoch 00059: val_loss did not improve from 0.03899\n",
            "32/32 - 0s - loss: 0.0252 - val_loss: 0.0456 - 124ms/epoch - 4ms/step\n",
            "Epoch 60/200\n",
            "\n",
            "Epoch 00060: val_loss did not improve from 0.03899\n",
            "32/32 - 0s - loss: 0.0220 - val_loss: 0.0440 - 143ms/epoch - 4ms/step\n",
            "Epoch 61/200\n",
            "\n",
            "Epoch 00061: val_loss did not improve from 0.03899\n",
            "32/32 - 0s - loss: 0.0249 - val_loss: 0.0439 - 136ms/epoch - 4ms/step\n",
            "Epoch 62/200\n",
            "\n",
            "Epoch 00062: val_loss did not improve from 0.03899\n",
            "32/32 - 0s - loss: 0.0247 - val_loss: 0.0423 - 123ms/epoch - 4ms/step\n",
            "Epoch 63/200\n",
            "\n",
            "Epoch 00063: val_loss did not improve from 0.03899\n",
            "32/32 - 0s - loss: 0.0228 - val_loss: 0.0435 - 105ms/epoch - 3ms/step\n",
            "Epoch 64/200\n",
            "\n",
            "Epoch 00064: val_loss did not improve from 0.03899\n",
            "32/32 - 0s - loss: 0.0233 - val_loss: 0.0444 - 112ms/epoch - 4ms/step\n",
            "Epoch 65/200\n",
            "\n",
            "Epoch 00065: val_loss did not improve from 0.03899\n",
            "32/32 - 0s - loss: 0.0233 - val_loss: 0.0441 - 134ms/epoch - 4ms/step\n",
            "Epoch 66/200\n",
            "\n",
            "Epoch 00066: val_loss did not improve from 0.03899\n",
            "32/32 - 0s - loss: 0.0241 - val_loss: 0.0441 - 116ms/epoch - 4ms/step\n",
            "Epoch 67/200\n",
            "\n",
            "Epoch 00067: val_loss did not improve from 0.03899\n",
            "32/32 - 0s - loss: 0.0228 - val_loss: 0.0447 - 123ms/epoch - 4ms/step\n",
            "Epoch 68/200\n",
            "\n",
            "Epoch 00068: val_loss did not improve from 0.03899\n",
            "32/32 - 0s - loss: 0.0238 - val_loss: 0.0438 - 129ms/epoch - 4ms/step\n",
            "Epoch 69/200\n",
            "\n",
            "Epoch 00069: val_loss did not improve from 0.03899\n",
            "32/32 - 0s - loss: 0.0225 - val_loss: 0.0395 - 127ms/epoch - 4ms/step\n",
            "Epoch 70/200\n",
            "\n",
            "Epoch 00070: val_loss did not improve from 0.03899\n",
            "32/32 - 0s - loss: 0.0241 - val_loss: 0.0400 - 127ms/epoch - 4ms/step\n",
            "Epoch 71/200\n",
            "\n",
            "Epoch 00071: val_loss did not improve from 0.03899\n",
            "32/32 - 0s - loss: 0.0242 - val_loss: 0.0403 - 131ms/epoch - 4ms/step\n",
            "Epoch 72/200\n",
            "\n",
            "Epoch 00072: val_loss did not improve from 0.03899\n",
            "32/32 - 0s - loss: 0.0231 - val_loss: 0.0449 - 108ms/epoch - 3ms/step\n",
            "Epoch 73/200\n",
            "\n",
            "Epoch 00073: val_loss did not improve from 0.03899\n",
            "32/32 - 0s - loss: 0.0230 - val_loss: 0.0445 - 109ms/epoch - 3ms/step\n",
            "Epoch 74/200\n",
            "\n",
            "Epoch 00074: val_loss did not improve from 0.03899\n",
            "32/32 - 0s - loss: 0.0236 - val_loss: 0.0430 - 117ms/epoch - 4ms/step\n",
            "Epoch 75/200\n",
            "\n",
            "Epoch 00075: val_loss did not improve from 0.03899\n",
            "32/32 - 0s - loss: 0.0213 - val_loss: 0.0439 - 126ms/epoch - 4ms/step\n",
            "Epoch 76/200\n",
            "\n",
            "Epoch 00076: val_loss did not improve from 0.03899\n",
            "32/32 - 0s - loss: 0.0228 - val_loss: 0.0433 - 126ms/epoch - 4ms/step\n",
            "Epoch 00076: early stopping\n"
          ]
        }
      ]
    },
    {
      "cell_type": "markdown",
      "source": [
        "**Plotting the Loss charts**"
      ],
      "metadata": {
        "id": "m650NLuh5XMe"
      }
    },
    {
      "cell_type": "code",
      "source": [
        "import matplotlib.pyplot as plt\n",
        "\n",
        "# plotting the history\n",
        "plt.plot(history.history['loss'], label='train')\n",
        "plt.plot(history.history['val_loss'], label='test')\n",
        "plt.xlabel('Epochs')\n",
        "plt.ylabel('Loss')\n",
        "plt.grid(True)\n",
        "plt.legend()\n",
        "plt.show()"
      ],
      "metadata": {
        "colab": {
          "base_uri": "https://localhost:8080/",
          "height": 279
        },
        "id": "v2okwK5O5Fjz",
        "outputId": "06f25f87-660d-437d-ca97-448498ac329c"
      },
      "execution_count": null,
      "outputs": [
        {
          "output_type": "display_data",
          "data": {
            "image/png": "[encoded data removed]",
            "text/plain": [
              "<Figure size 432x288 with 1 Axes>"
            ]
          },
          "metadata": {
            "needs_background": "light"
          }
        }
      ]
    },
    {
      "cell_type": "code",
      "source": [
        ""
      ],
      "metadata": {
        "id": "BFOPvte5qztE"
      },
      "execution_count": null,
      "outputs": []
    },
    {
      "cell_type": "markdown",
      "source": [
        "\n",
        "\n",
        "---\n",
        "\n",
        "\n",
        "\n"
      ],
      "metadata": {
        "id": "0d-Ql77vrvJC"
      }
    },
    {
      "cell_type": "markdown",
      "source": [
        "#**6. Phase 6: Model Evaluation**"
      ],
      "metadata": {
        "id": "oXWxclQa6iGY"
      }
    },
    {
      "cell_type": "markdown",
      "source": [
        "\n",
        "\n",
        "1.   We will first load the saved model\n",
        "2.   Do a prediction of the Number_of_Crimes\n",
        "3.   Evaluate the performance of the model through plotted curves and metrics--RMSE  \n",
        "\n"
      ],
      "metadata": {
        "id": "2a33RWqk68PB"
      }
    },
    {
      "cell_type": "markdown",
      "source": [
        "**6.1 Loading the Model**"
      ],
      "metadata": {
        "id": "GqWFCHNu7pzy"
      }
    },
    {
      "cell_type": "code",
      "source": [
        "#load model\n",
        "from tensorflow.keras.models import load_model\n",
        "\n",
        "pathModel = '/content/drive/MyDrive/Colab Notebooks/School Project docs and files/Predicting_Number_of_Crimes_model.h5'\n",
        "\n",
        "model = load_model(pathModel)"
      ],
      "metadata": {
        "id": "DuabI57-6qRc"
      },
      "execution_count": null,
      "outputs": []
    },
    {
      "cell_type": "markdown",
      "source": [
        "**6.2 Predicting the Number of Crimes**"
      ],
      "metadata": {
        "id": "6R2j_Ycu85UD"
      }
    },
    {
      "cell_type": "code",
      "source": [
        "#making a prediction\n",
        "yhat = model.predict(test_X)\n",
        "\n",
        "#reshaping test_X\n",
        "test_x = test_X.reshape((test_X.shape[0], test_X.shape[2]))\n",
        "\n",
        "#invert scaling for forecast\n",
        "inv_yhat = concatenate((yhat, test_x[:, 1:]), axis=1)\n",
        "inv_yhat = scaler.inverse_transform(inv_yhat)\n",
        "inv_yhat = inv_yhat[:,0]\n",
        "\n",
        "#invert scaling for actual\n",
        "test_y = test_y.reshape((len(test_y), 1))\n",
        "inv_y = concatenate((test_y, test_x[:, 1:]), axis=1)\n",
        "inv_y = scaler.inverse_transform(inv_y)\n",
        "inv_y = inv_y[:,0]"
      ],
      "metadata": {
        "id": "AIso8qpl8n_Z"
      },
      "execution_count": null,
      "outputs": []
    },
    {
      "cell_type": "code",
      "source": [
        ""
      ],
      "metadata": {
        "id": "L_3Bsky2d34b"
      },
      "execution_count": null,
      "outputs": []
    },
    {
      "cell_type": "markdown",
      "source": [
        "**Display the values that are predicted i.e Number_of_Crimes_Reported**"
      ],
      "metadata": {
        "id": "4BkdlM3FdWfy"
      }
    },
    {
      "cell_type": "code",
      "source": [
        "#Type casting the predictions to int type\n",
        "inv_yhat = inv_yhat.astype(int)\n",
        "\n",
        "#Displaying Predicted values\n",
        "print('The values that are predicted are: ')\n",
        "print(inv_yhat)"
      ],
      "metadata": {
        "id": "JmzHDkLe9Rct",
        "colab": {
          "base_uri": "https://localhost:8080/"
        },
        "outputId": "1710186a-0e36-4b87-ad1b-d6c4e9351d3d"
      },
      "execution_count": null,
      "outputs": [
        {
          "output_type": "stream",
          "name": "stdout",
          "text": [
            "The values that are predicted are: \n",
            "[ 4786 20988  3034  6666  2109 11805  2529  1404  5470   121  3653  2850\n",
            "   137   126   125  5906]\n"
          ]
        }
      ]
    },
    {
      "cell_type": "code",
      "source": [
        ""
      ],
      "metadata": {
        "id": "fSsfE0dDeMh0"
      },
      "execution_count": null,
      "outputs": []
    },
    {
      "cell_type": "markdown",
      "source": [
        "**6.3 Evaluating the model through the RMSE -- Root Mean Square Error**"
      ],
      "metadata": {
        "id": "4jfM4ymehZpv"
      }
    },
    {
      "cell_type": "markdown",
      "source": [
        "*   I evaluated the model using Root Mean Square Error which is used as a \n",
        "heuristic to evaluate trained models for their accuracy and functionality too.\n",
        "*   I managed to tune the model’s hyper-parameters through which I obtained a low RMSE of 1533.166. This was achieved by using the vanilla LSTM with a batch size of 7, after training for 200 epochs.\n",
        "\n",
        "*   Normalizing the RMSE in the range 0 to 1 yielded an NRMSE of 0.062, which is low, depicting that the model’s performance was excellent.\n",
        "\n",
        "*   To get the models accuracy, I obtained the difference between 1 and the normalized RMSE obtained. The difference was 0.938 translating to an accuracy of 93.8 % which can be conclude as an accuracy of 94 %.\n"
      ],
      "metadata": {
        "id": "0qE4GcFpYpad"
      }
    },
    {
      "cell_type": "code",
      "source": [
        "#calculating the RMSE\n",
        "rmse = sqrt(mean_squared_error(inv_y, inv_yhat))\n",
        "print('Root Mean Square Error: %.3f' % rmse)\n",
        "\n",
        "#Normalizing the RMSE using range\n",
        "nrmse = rmse/ (inv_y.max() - inv_yhat.min())\n",
        "print('Normalized Root Mean Square Error: %.3f' %nrmse)\n",
        "\n",
        "#Accuracy of model\n",
        "accuracy = 1-nrmse\n",
        "print(\"Accuracy of model is: %.3f \" % accuracy)"
      ],
      "metadata": {
        "id": "5hDz934Wgi39",
        "colab": {
          "base_uri": "https://localhost:8080/"
        },
        "outputId": "b8e15d69-575e-4c8a-9629-6a8a3476037f"
      },
      "execution_count": null,
      "outputs": [
        {
          "output_type": "stream",
          "name": "stdout",
          "text": [
            "Root Mean Square Error: 1533.166\n",
            "Normalized Root Mean Square Error: 0.062\n",
            "Accuracy of model is: 0.938 \n"
          ]
        }
      ]
    },
    {
      "cell_type": "markdown",
      "source": [
        "**Plotting Actual values against Forecast values** "
      ],
      "metadata": {
        "id": "HKZ6IPiwiWsW"
      }
    },
    {
      "cell_type": "code",
      "source": [
        "import matplotlib.pyplot as plt\n",
        "plt.plot(inv_y, color = 'blue', label = 'Actual')\n",
        "plt.plot(inv_yhat, color = 'red', label = 'Predicted')\n",
        "plt.title('Number of Crimes Reported')\n",
        "plt.xlabel('Type_of_Crime Columns')\n",
        "plt.ylabel('Number_of_Crimes_Reported')\n",
        "plt.legend()\n",
        "plt.show()"
      ],
      "metadata": {
        "id": "QPPSIEFLjmUQ",
        "colab": {
          "base_uri": "https://localhost:8080/",
          "height": 54
        },
        "outputId": "8c61ec80-c9e5-44b6-cf5d-2dfff7f708a4"
      },
      "execution_count": null,
      "outputs": [
        {
          "output_type": "display_data",
          "data": {
            "image/png": "[encoded data removed]",
            "text/plain": [
              "<Figure size 432x288 with 1 Axes>"
            ]
          },
          "metadata": {
            "needs_background": "light"
          }
        }
      ]
    },
    {
      "cell_type": "code",
      "source": [
        ""
      ],
      "metadata": {
        "id": "vIhfhrx4bjy6"
      },
      "execution_count": null,
      "outputs": []
    },
    {
      "cell_type": "markdown",
      "source": [
        "#**Phase 7: Model Deployment**"
      ],
      "metadata": {
        "id": "aw2Jt2Mam6nR"
      }
    },
    {
      "cell_type": "code",
      "source": [
        "!pip install flask"
      ],
      "metadata": {
        "colab": {
          "base_uri": "https://localhost:8080/"
        },
        "id": "4ofgsqdfnRm6",
        "outputId": "37bdf111-e745-4a3f-dd3c-e13cc0778aed"
      },
      "execution_count": null,
      "outputs": [
        {
          "output_type": "stream",
          "name": "stdout",
          "text": [
            "Requirement already satisfied: flask in /usr/local/lib/python3.7/dist-packages (1.1.4)\n",
            "Requirement already satisfied: Werkzeug<2.0,>=0.15 in /usr/local/lib/python3.7/dist-packages (from flask) (1.0.1)\n",
            "Requirement already satisfied: Jinja2<3.0,>=2.10.1 in /usr/local/lib/python3.7/dist-packages (from flask) (2.11.3)\n",
            "Requirement already satisfied: click<8.0,>=5.1 in /usr/local/lib/python3.7/dist-packages (from flask) (7.1.2)\n",
            "Requirement already satisfied: itsdangerous<2.0,>=0.24 in /usr/local/lib/python3.7/dist-packages (from flask) (1.1.0)\n",
            "Requirement already satisfied: MarkupSafe>=0.23 in /usr/local/lib/python3.7/dist-packages (from Jinja2<3.0,>=2.10.1->flask) (2.0.1)\n"
          ]
        }
      ]
    },
    {
      "cell_type": "code",
      "source": [
        "!pip install flask-wtf"
      ],
      "metadata": {
        "colab": {
          "base_uri": "https://localhost:8080/"
        },
        "id": "YtpUqM9WoJjn",
        "outputId": "0f8d32c0-da73-4517-cb3b-b24cdad5d4bd"
      },
      "execution_count": null,
      "outputs": [
        {
          "output_type": "stream",
          "name": "stdout",
          "text": [
            "Collecting flask-wtf\n",
            "  Downloading Flask_WTF-1.0.0-py3-none-any.whl (12 kB)\n",
            "Collecting WTForms\n",
            "  Downloading WTForms-3.0.1-py3-none-any.whl (136 kB)\n",
            "\u001b[K     |████████████████████████████████| 136 kB 6.7 MB/s \n",
            "\u001b[?25hRequirement already satisfied: itsdangerous in /usr/local/lib/python3.7/dist-packages (from flask-wtf) (1.1.0)\n",
            "Requirement already satisfied: Flask in /usr/local/lib/python3.7/dist-packages (from flask-wtf) (1.1.4)\n",
            "Requirement already satisfied: Werkzeug<2.0,>=0.15 in /usr/local/lib/python3.7/dist-packages (from Flask->flask-wtf) (1.0.1)\n",
            "Requirement already satisfied: Jinja2<3.0,>=2.10.1 in /usr/local/lib/python3.7/dist-packages (from Flask->flask-wtf) (2.11.3)\n",
            "Requirement already satisfied: click<8.0,>=5.1 in /usr/local/lib/python3.7/dist-packages (from Flask->flask-wtf) (7.1.2)\n",
            "Requirement already satisfied: MarkupSafe>=0.23 in /usr/local/lib/python3.7/dist-packages (from Jinja2<3.0,>=2.10.1->Flask->flask-wtf) (2.0.1)\n",
            "Installing collected packages: WTForms, flask-wtf\n",
            "Successfully installed WTForms-3.0.1 flask-wtf-1.0.0\n"
          ]
        }
      ]
    },
    {
      "cell_type": "code",
      "source": [
        "!pip install gunicorn "
      ],
      "metadata": {
        "colab": {
          "base_uri": "https://localhost:8080/"
        },
        "id": "zzxFl6lfoTmo",
        "outputId": "63cbee4a-8755-48f9-dc40-a19996166ae8"
      },
      "execution_count": null,
      "outputs": [
        {
          "output_type": "stream",
          "name": "stdout",
          "text": [
            "Collecting gunicorn\n",
            "  Downloading gunicorn-20.1.0-py3-none-any.whl (79 kB)\n",
            "\u001b[?25l\r\u001b[K     |████▏                           | 10 kB 25.5 MB/s eta 0:00:01\r\u001b[K     |████████▎                       | 20 kB 32.0 MB/s eta 0:00:01\r\u001b[K     |████████████▍                   | 30 kB 26.4 MB/s eta 0:00:01\r\u001b[K     |████████████████▌               | 40 kB 18.4 MB/s eta 0:00:01\r\u001b[K     |████████████████████▋           | 51 kB 7.7 MB/s eta 0:00:01\r\u001b[K     |████████████████████████▊       | 61 kB 8.7 MB/s eta 0:00:01\r\u001b[K     |████████████████████████████▉   | 71 kB 7.9 MB/s eta 0:00:01\r\u001b[K     |████████████████████████████████| 79 kB 4.6 MB/s \n",
            "\u001b[?25hRequirement already satisfied: setuptools>=3.0 in /usr/local/lib/python3.7/dist-packages (from gunicorn) (57.4.0)\n",
            "Installing collected packages: gunicorn\n",
            "Successfully installed gunicorn-20.1.0\n"
          ]
        }
      ]
    },
    {
      "cell_type": "code",
      "source": [
        "!pip freeze > requirements.txt"
      ],
      "metadata": {
        "id": "LxTEZi_7oePi"
      },
      "execution_count": null,
      "outputs": []
    },
    {
      "cell_type": "code",
      "source": [
        "dataset['Type_of_Crime'].unique()"
      ],
      "metadata": {
        "colab": {
          "base_uri": "https://localhost:8080/"
        },
        "id": "6ixap1dzkxZk",
        "outputId": "86083b28-7013-48fe-c00c-9743991db9eb"
      },
      "execution_count": null,
      "outputs": [
        {
          "output_type": "execute_result",
          "data": {
            "text/plain": [
              "array(['Homicide', 'Offences against morality',\n",
              "       'Other offences against persons', 'Robbery', 'Breakings',\n",
              "       'Theft of stock', 'Stealing', 'Theft by servant',\n",
              "       'Vehicles and other thefts', 'Dangerous drugs', 'Traffic offences',\n",
              "       'Criminal damage', 'Economic crimes', 'Corruption',\n",
              "       'Offences involving police officers',\n",
              "       'Offences involving tourists', 'Other penal code offences'],\n",
              "      dtype=object)"
            ]
          },
          "metadata": {},
          "execution_count": 73
        }
      ]
    },
    {
      "cell_type": "code",
      "source": [
        "len(dataset['Type_of_Crime'].unique())"
      ],
      "metadata": {
        "colab": {
          "base_uri": "https://localhost:8080/"
        },
        "id": "8KIv_pv123cq",
        "outputId": "975de74d-3c43-409f-e93d-9629f70c75d4"
      },
      "execution_count": null,
      "outputs": [
        {
          "output_type": "execute_result",
          "data": {
            "text/plain": [
              "17"
            ]
          },
          "metadata": {},
          "execution_count": 74
        }
      ]
    },
    {
      "cell_type": "code",
      "source": [
        "import pandas as pd\n",
        "df2018 = pd.read_csv('/content/drive/MyDrive/Colab Notebooks/School Project docs and files/2018_Crimes_and_GDP.csv')"
      ],
      "metadata": {
        "id": "LJs9AhcC34MX"
      },
      "execution_count": null,
      "outputs": []
    },
    {
      "cell_type": "code",
      "source": [
        "df2018.dtypes"
      ],
      "metadata": {
        "colab": {
          "base_uri": "https://localhost:8080/"
        },
        "id": "iRtZmYgbfKar",
        "outputId": "81dcd91c-6c93-4e29-da4b-8a743a819a4b"
      },
      "execution_count": null,
      "outputs": [
        {
          "output_type": "execute_result",
          "data": {
            "text/plain": [
              "Unnamed: 0                         int64\n",
              "Year                              object\n",
              "Type of Crime                     object\n",
              "Number of Crimes Reported         object\n",
              "Gross Domenstic Product (GDP)    float64\n",
              "dtype: object"
            ]
          },
          "metadata": {},
          "execution_count": 3
        }
      ]
    },
    {
      "cell_type": "code",
      "source": [
        ""
      ],
      "metadata": {
        "id": "bYF1J3tafU-R"
      },
      "execution_count": null,
      "outputs": []
    }
  ]
}